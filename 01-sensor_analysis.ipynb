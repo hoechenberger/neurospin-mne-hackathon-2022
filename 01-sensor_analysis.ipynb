{
 "cells": [
  {
   "cell_type": "code",
   "execution_count": 1,
   "metadata": {},
   "outputs": [],
   "source": [
    "import mne\n",
    "\n",
    "%matplotlib qt"
   ]
  },
  {
   "cell_type": "code",
   "execution_count": 2,
   "metadata": {},
   "outputs": [
    {
     "name": "stdout",
     "output_type": "stream",
     "text": [
      "T1.nii.gz      \u001b[31mrun1_raw.fif\u001b[m\u001b[m*  \u001b[31mrun3_raw.fif\u001b[m\u001b[m*  \u001b[31mrun5_raw.fif\u001b[m\u001b[m*  \u001b[31mrun7_raw.fif\u001b[m\u001b[m*\n",
      "\u001b[31memptyroom.fif\u001b[m\u001b[m* \u001b[31mrun2_raw.fif\u001b[m\u001b[m*  \u001b[31mrun4_raw.fif\u001b[m\u001b[m*  \u001b[31mrun6_raw.fif\u001b[m\u001b[m*  \u001b[31mrun8_raw.fif\u001b[m\u001b[m*\n"
     ]
    }
   ],
   "source": [
    "ls pogs_meg/ll_180197/220217/"
   ]
  },
  {
   "cell_type": "code",
   "execution_count": 3,
   "metadata": {},
   "outputs": [],
   "source": [
    "raw = mne.io.read_raw('pogs_meg/ll_180197/220217/run1_raw.fif', allow_maxshield=\"yes\")"
   ]
  },
  {
   "cell_type": "code",
   "execution_count": 4,
   "metadata": {},
   "outputs": [
    {
     "name": "stderr",
     "output_type": "stream",
     "text": [
      "/var/folders/97/27l9b459769fxdczmngx97xr0000gn/T/ipykernel_17877/3341777298.py:1: UserWarning: Infinite value in PSD for channels MEG0213, MEG0813, MEG1542.\n",
      "These channels might be dead.\n",
      "  raw.plot_psd();\n",
      "/var/folders/97/27l9b459769fxdczmngx97xr0000gn/T/ipykernel_17877/3341777298.py:1: UserWarning: Infinite value in PSD for channel MEG1541.\n",
      "These channels might be dead.\n",
      "  raw.plot_psd();\n"
     ]
    }
   ],
   "source": [
    "raw.plot_psd();"
   ]
  },
  {
   "cell_type": "code",
   "execution_count": 4,
   "metadata": {},
   "outputs": [
    {
     "data": {
      "text/plain": [
       "<mne_qt_browser._pg_figure.PyQtGraphBrowser at 0x7fe9c0c4ba60>"
      ]
     },
     "execution_count": 4,
     "metadata": {},
     "output_type": "execute_result"
    }
   ],
   "source": [
    "raw.plot()"
   ]
  },
  {
   "cell_type": "code",
   "execution_count": 5,
   "metadata": {},
   "outputs": [
    {
     "data": {
      "text/plain": [
       "(['MEG1613'],\n",
       " ['MEG0213', 'MEG0311', 'MEG0813', 'MEG1542', 'MEG1541', 'MEG1811'])"
      ]
     },
     "execution_count": 5,
     "metadata": {},
     "output_type": "execute_result"
    }
   ],
   "source": [
    "noisy_chs, flat_chs = mne.preprocessing.find_bad_channels_maxwell(raw)\n",
    "noisy_chs, flat_chs"
   ]
  },
  {
   "cell_type": "code",
   "execution_count": 6,
   "metadata": {},
   "outputs": [],
   "source": [
    "raw.info['bads'] = noisy_chs + flat_chs"
   ]
  },
  {
   "cell_type": "code",
   "execution_count": 7,
   "metadata": {},
   "outputs": [],
   "source": [
    "raw.plot_psd();"
   ]
  },
  {
   "cell_type": "code",
   "execution_count": 8,
   "metadata": {},
   "outputs": [],
   "source": [
    "raw.info['bads'] += ['MEG0623', 'MEG0241']"
   ]
  },
  {
   "cell_type": "code",
   "execution_count": 9,
   "metadata": {},
   "outputs": [],
   "source": [
    "raw.plot_psd();"
   ]
  },
  {
   "cell_type": "code",
   "execution_count": 10,
   "metadata": {},
   "outputs": [
    {
     "data": {
      "text/plain": [
       "<mne_qt_browser._pg_figure.PyQtGraphBrowser at 0x7fdb994cb5e0>"
      ]
     },
     "execution_count": 10,
     "metadata": {},
     "output_type": "execute_result"
    }
   ],
   "source": [
    "raw.plot()"
   ]
  },
  {
   "cell_type": "code",
   "execution_count": 11,
   "metadata": {},
   "outputs": [],
   "source": [
    "cal_fname = \"meg_conf/sss_cal_nsp_2017.dat\"\n",
    "ct_fname = \"meg_conf/ct_sparse_nsp_2017.fif\"\n",
    "raw = mne.preprocessing.maxwell_filter(raw, origin=(0., 0., 0.04), calibration=cal_fname, cross_talk=ct_fname)"
   ]
  },
  {
   "cell_type": "code",
   "execution_count": 12,
   "metadata": {},
   "outputs": [],
   "source": [
    "raw.plot_psd();"
   ]
  },
  {
   "cell_type": "code",
   "execution_count": 16,
   "metadata": {},
   "outputs": [
    {
     "data": {
      "text/html": [
       "<table class=\"table table-hover table-striped table-sm table-responsive small\">\n",
       "    <tr>\n",
       "        <th>Measurement date</th>\n",
       "        \n",
       "        <td>February 17, 2022  16:02:37 GMT</td>\n",
       "        \n",
       "    </tr>\n",
       "    <tr>\n",
       "        <th>Experimenter</th>\n",
       "        \n",
       "        <td>Common</td>\n",
       "        \n",
       "    </tr>\n",
       "        <th>Participant</th>\n",
       "        \n",
       "            \n",
       "        \n",
       "    </tr>\n",
       "    <tr>\n",
       "        <th>Digitized points</th>\n",
       "        \n",
       "        <td>0 points</td>\n",
       "        \n",
       "    </tr>\n",
       "    <tr>\n",
       "        <th>Good channels</th>\n",
       "        <td>204 Gradiometers, 102 Magnetometers, 19 Stimulus, 2 EOG, 1 ECG, 8 misc</td>\n",
       "    </tr>\n",
       "    <tr>\n",
       "        <th>Bad channels</th>\n",
       "        <td>None</td>\n",
       "    </tr>\n",
       "    <tr>\n",
       "        <th>EOG channels</th>\n",
       "        <td>EOG061, EOG062</td>\n",
       "    </tr>\n",
       "    <tr>\n",
       "        <th>ECG channels</th>\n",
       "        <td>ECG063</td>\n",
       "    \n",
       "    <tr>\n",
       "        <th>Sampling frequency</th>\n",
       "        <td>1000.00 Hz</td>\n",
       "    </tr>\n",
       "    \n",
       "    \n",
       "    <tr>\n",
       "        <th>Highpass</th>\n",
       "        <td>0.10 Hz</td>\n",
       "    </tr>\n",
       "    \n",
       "    \n",
       "    <tr>\n",
       "        <th>Lowpass</th>\n",
       "        <td>40.00 Hz</td>\n",
       "    </tr>\n",
       "    \n",
       "    \n",
       "    \n",
       "    <tr>\n",
       "        <th>Filenames</th>\n",
       "        <td>run1_raw.fif</td>\n",
       "    </tr>\n",
       "    \n",
       "    <tr>\n",
       "        <th>Duration</th>\n",
       "        <td>00:05:43 (HH:MM:SS)</td>\n",
       "    </tr>\n",
       "</table>"
      ],
      "text/plain": [
       "<Raw | run1_raw.fif, 336 x 344000 (344.0 s), ~887.0 MB, data loaded>"
      ]
     },
     "execution_count": 16,
     "metadata": {},
     "output_type": "execute_result"
    }
   ],
   "source": [
    "raw.filter(0.1, 40)"
   ]
  },
  {
   "cell_type": "code",
   "execution_count": 18,
   "metadata": {},
   "outputs": [],
   "source": [
    "raw.plot_psd(fmax=60);"
   ]
  },
  {
   "cell_type": "code",
   "execution_count": 19,
   "metadata": {},
   "outputs": [
    {
     "data": {
      "text/plain": [
       "{'meg': 72}"
      ]
     },
     "execution_count": 19,
     "metadata": {},
     "output_type": "execute_result"
    }
   ],
   "source": [
    "rank = mne.compute_rank(raw)\n",
    "rank"
   ]
  },
  {
   "cell_type": "code",
   "execution_count": 30,
   "metadata": {},
   "outputs": [
    {
     "name": "stdout",
     "output_type": "stream",
     "text": [
      "296 events found\n",
      "Event IDs: [136 139 140 144 145 146 147 148 152 154 155 156 160 161 162 163 168 169\n",
      " 170 171 172 176 177 178 179 180 184 186 187 188 192 193 194 195 196 200\n",
      " 202 203 204 208 209 210 211 212 216 218 219 220]\n"
     ]
    },
    {
     "name": "stderr",
     "output_type": "stream",
     "text": [
      "/var/folders/97/27l9b459769fxdczmngx97xr0000gn/T/ipykernel_17877/4257945503.py:5: RuntimeWarning: More events than default colors available. You should pass a list of unique colors.\n",
      "  mne.viz.plot_events(events, raw.info['sfreq'], raw.first_samp);\n"
     ]
    }
   ],
   "source": [
    "events = mne.find_events(\n",
    "    raw, min_duration=0.032, verbose=True\n",
    ")\n",
    "\n",
    "mne.viz.plot_events(events, raw.info['sfreq'], raw.first_samp);"
   ]
  },
  {
   "cell_type": "code",
   "execution_count": 35,
   "metadata": {},
   "outputs": [
    {
     "ename": "ImportError",
     "evalue": "cannot import name 'get_events' from 'config_import' (/Users/alex/work/data/data_ns_hackathon/config_import.py)",
     "output_type": "error",
     "traceback": [
      "\u001b[0;31m---------------------------------------------------------------------------\u001b[0m",
      "\u001b[0;31mImportError\u001b[0m                               Traceback (most recent call last)",
      "\u001b[0;32m/var/folders/97/27l9b459769fxdczmngx97xr0000gn/T/ipykernel_17877/1043788352.py\u001b[0m in \u001b[0;36m<module>\u001b[0;34m\u001b[0m\n\u001b[0;32m----> 1\u001b[0;31m \u001b[0;32mfrom\u001b[0m \u001b[0mconfig_import\u001b[0m \u001b[0;32mimport\u001b[0m \u001b[0mget_events\u001b[0m\u001b[0;34m\u001b[0m\u001b[0;34m\u001b[0m\u001b[0m\n\u001b[0m\u001b[1;32m      2\u001b[0m \u001b[0;34m\u001b[0m\u001b[0m\n\u001b[1;32m      3\u001b[0m \u001b[0mevents\u001b[0m \u001b[0;34m=\u001b[0m \u001b[0mget_event\u001b[0m\u001b[0;34m(\u001b[0m\u001b[0mraw\u001b[0m\u001b[0;34m)\u001b[0m\u001b[0;34m\u001b[0m\u001b[0;34m\u001b[0m\u001b[0m\n",
      "\u001b[0;31mImportError\u001b[0m: cannot import name 'get_events' from 'config_import' (/Users/alex/work/data/data_ns_hackathon/config_import.py)"
     ]
    }
   ],
   "source": [
    "from config_import import get_events\n",
    "\n",
    "events = get_event(raw)"
   ]
  },
  {
   "cell_type": "code",
   "execution_count": 34,
   "metadata": {},
   "outputs": [
    {
     "ename": "RuntimeError",
     "evalue": "No usable event IDs found",
     "output_type": "error",
     "traceback": [
      "\u001b[0;31m---------------------------------------------------------------------------\u001b[0m",
      "\u001b[0;31mRuntimeError\u001b[0m                              Traceback (most recent call last)",
      "\u001b[0;32m/var/folders/97/27l9b459769fxdczmngx97xr0000gn/T/ipykernel_17877/1141629916.py\u001b[0m in \u001b[0;36m<module>\u001b[0;34m\u001b[0m\n\u001b[1;32m     57\u001b[0m }\n\u001b[1;32m     58\u001b[0m \u001b[0;34m\u001b[0m\u001b[0m\n\u001b[0;32m---> 59\u001b[0;31m \u001b[0mmne\u001b[0m\u001b[0;34m.\u001b[0m\u001b[0mviz\u001b[0m\u001b[0;34m.\u001b[0m\u001b[0mplot_events\u001b[0m\u001b[0;34m(\u001b[0m\u001b[0mevents\u001b[0m\u001b[0;34m,\u001b[0m \u001b[0mraw\u001b[0m\u001b[0;34m.\u001b[0m\u001b[0minfo\u001b[0m\u001b[0;34m[\u001b[0m\u001b[0;34m'sfreq'\u001b[0m\u001b[0;34m]\u001b[0m\u001b[0;34m,\u001b[0m \u001b[0mraw\u001b[0m\u001b[0;34m.\u001b[0m\u001b[0mfirst_samp\u001b[0m\u001b[0;34m,\u001b[0m \u001b[0mevent_id\u001b[0m\u001b[0;34m=\u001b[0m\u001b[0mevent_id\u001b[0m\u001b[0;34m,\u001b[0m \u001b[0mon_missing\u001b[0m\u001b[0;34m=\u001b[0m\u001b[0;34m'ignore'\u001b[0m\u001b[0;34m)\u001b[0m\u001b[0;34m;\u001b[0m\u001b[0;34m\u001b[0m\u001b[0;34m\u001b[0m\u001b[0m\n\u001b[0m",
      "\u001b[0;32m<decorator-gen-273>\u001b[0m in \u001b[0;36mplot_events\u001b[0;34m(events, sfreq, first_samp, color, event_id, axes, equal_spacing, show, on_missing, verbose)\u001b[0m\n",
      "\u001b[0;32m~/work/src/mne-python/mne/viz/misc.py\u001b[0m in \u001b[0;36mplot_events\u001b[0;34m(events, sfreq, first_samp, color, event_id, axes, equal_spacing, show, on_missing, verbose)\u001b[0m\n\u001b[1;32m    691\u001b[0m         \u001b[0munique_events_id\u001b[0m \u001b[0;34m=\u001b[0m \u001b[0;34m[\u001b[0m\u001b[0mid_\u001b[0m \u001b[0;32mfor\u001b[0m \u001b[0mid_\u001b[0m\u001b[0;34m,\u001b[0m \u001b[0mk\u001b[0m \u001b[0;32min\u001b[0m \u001b[0mzip\u001b[0m\u001b[0;34m(\u001b[0m\u001b[0munique_events_id\u001b[0m\u001b[0;34m,\u001b[0m \u001b[0mkeep\u001b[0m\u001b[0;34m)\u001b[0m \u001b[0;32mif\u001b[0m \u001b[0mk\u001b[0m\u001b[0;34m]\u001b[0m\u001b[0;34m\u001b[0m\u001b[0;34m\u001b[0m\u001b[0m\n\u001b[1;32m    692\u001b[0m         \u001b[0;32mif\u001b[0m \u001b[0mlen\u001b[0m\u001b[0;34m(\u001b[0m\u001b[0munique_events_id\u001b[0m\u001b[0;34m)\u001b[0m \u001b[0;34m==\u001b[0m \u001b[0;36m0\u001b[0m\u001b[0;34m:\u001b[0m\u001b[0;34m\u001b[0m\u001b[0;34m\u001b[0m\u001b[0m\n\u001b[0;32m--> 693\u001b[0;31m             \u001b[0;32mraise\u001b[0m \u001b[0mRuntimeError\u001b[0m\u001b[0;34m(\u001b[0m\u001b[0;34m'No usable event IDs found'\u001b[0m\u001b[0;34m)\u001b[0m\u001b[0;34m\u001b[0m\u001b[0;34m\u001b[0m\u001b[0m\n\u001b[0m\u001b[1;32m    694\u001b[0m \u001b[0;34m\u001b[0m\u001b[0m\n\u001b[1;32m    695\u001b[0m         \u001b[0;32mfor\u001b[0m \u001b[0mthis_event\u001b[0m \u001b[0;32min\u001b[0m \u001b[0munique_events\u001b[0m\u001b[0;34m:\u001b[0m\u001b[0;34m\u001b[0m\u001b[0;34m\u001b[0m\u001b[0m\n",
      "\u001b[0;31mRuntimeError\u001b[0m: No usable event IDs found"
     ]
    }
   ],
   "source": [
    "event_id = {\n",
    "    \"rectangle/reference\": 8,\n",
    "    \"rectangle/outlier/1\": 9,\n",
    "    \"rectangle/outlier/2\": 10,\n",
    "    \"rectangle/outlier/3\": 11,\n",
    "    \"rectangle/outlier/4\": 12,\n",
    "    \"square/reference\": 16,\n",
    "    \"square/outlier/1\": 17,\n",
    "    \"square/outlier/2\": 18,\n",
    "    \"square/outlier/3\": 19,\n",
    "    \"square/outlier/4\": 20,\n",
    "    \"isoTrapezoid/reference\": 24,\n",
    "    \"isoTrapezoid/outlier/1\": 25,\n",
    "    \"isoTrapezoid/outlier/2\": 26,\n",
    "    \"isoTrapezoid/outlier/3\": 27,\n",
    "    \"isoTrapezoid/outlier/4\": 28,\n",
    "    \"parallelogram/reference\": 32,\n",
    "    \"parallelogram/outlier/1\": 33,\n",
    "    \"parallelogram/outlier/2\": 34,\n",
    "    \"parallelogram/outlier/3\": 35,\n",
    "    \"parallelogram/outlier/4\": 36,\n",
    "    \"losange/reference\": 40,\n",
    "    \"losange/outlier/1\": 41,\n",
    "    \"losange/outlier/2\": 42,\n",
    "    \"losange/outlier/3\": 43,\n",
    "    \"losange/outlier/4\": 44,\n",
    "    \"kite/reference\": 48,\n",
    "    \"kite/outlier/1\": 49,\n",
    "    \"kite/outlier/2\": 50,\n",
    "    \"kite/outlier/3\": 51,\n",
    "    \"kite/outlier/4\": 52,\n",
    "    \"rightKite/reference\": 56,\n",
    "    \"rightKite/outlier/1\": 57,\n",
    "    \"rightKite/outlier/2\": 58,\n",
    "    \"rightKite/outlier/3\": 59,\n",
    "    \"rightKite/outlier/4\": 60,\n",
    "    \"rustedHinge/reference\": 64,\n",
    "    \"rustedHinge/outlier/1\": 65,\n",
    "    \"rustedHinge/outlier/2\": 66,\n",
    "    \"rustedHinge/outlier/3\": 67,\n",
    "    \"rustedHinge/outlier/4\": 68,\n",
    "    \"hinge/reference\": 72,\n",
    "    \"hinge/outlier/1\": 73,\n",
    "    \"hinge/outlier/2\": 74,\n",
    "    \"hinge/outlier/3\": 75,\n",
    "    \"hinge/outlier/4\": 76,\n",
    "    \"trapezoid/reference\": 80,\n",
    "    \"trapezoid/outlier/1\": 81,\n",
    "    \"trapezoid/outlier/2\": 82,\n",
    "    \"trapezoid/outlier/3\": 83,\n",
    "    \"trapezoid/outlier/4\": 84,\n",
    "    \"random/reference\": 88,\n",
    "    \"random/outlier/1\": 89,\n",
    "    \"random/outlier/2\": 90,\n",
    "    \"random/outlier/3\": 91,\n",
    "    \"random/outlier/4\": 92,\n",
    "}\n",
    "\n",
    "mne.viz.plot_events(events, raw.info['sfreq'], raw.first_samp, event_id=event_id, on_missing='ignore');"
   ]
  },
  {
   "cell_type": "code",
   "execution_count": null,
   "metadata": {},
   "outputs": [],
   "source": []
  }
 ],
 "metadata": {
  "interpreter": {
   "hash": "8d1899d3d453529ab54a548c453eb03872168ef6a9900e12952b62a455030e12"
  },
  "kernelspec": {
   "display_name": "Python 3.8.6 ('base')",
   "language": "python",
   "name": "python3"
  },
  "language_info": {
   "codemirror_mode": {
    "name": "ipython",
    "version": 3
   },
   "file_extension": ".py",
   "mimetype": "text/x-python",
   "name": "python",
   "nbconvert_exporter": "python",
   "pygments_lexer": "ipython3",
   "version": "3.8.6"
  },
  "orig_nbformat": 4
 },
 "nbformat": 4,
 "nbformat_minor": 2
}
