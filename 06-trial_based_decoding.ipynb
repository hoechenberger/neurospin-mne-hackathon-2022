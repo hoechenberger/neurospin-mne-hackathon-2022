{
 "cells": [
  {
   "cell_type": "markdown",
   "metadata": {},
   "source": [
    "## Trial-based (epochs-level) decoding in sensor space"
   ]
  },
  {
   "cell_type": "code",
   "execution_count": 10,
   "metadata": {},
   "outputs": [],
   "source": [
    "from pathlib import Path\n",
    "import numpy as np\n",
    "\n",
    "import mne\n",
    "\n",
    "mne.set_log_level(verbose='WARNING')\n",
    "\n",
    "\n",
    "subjects = [\n",
    "    '04', '06', '07','08', '09', '13','14','15','16','18','19',\n",
    "    '20','21','22','23','24','25','26','27','28','29','30','32'\n",
    "]\n",
    "\n",
    "contrast = ['Cond == 1', 'Cond == 3']\n",
    "\n",
    "\n",
    "N_JOBS = 7\n",
    "\n",
    "\n",
    "def read_cleaned_epochs(subject):\n",
    "    # Import epochs\n",
    "    meg_subject_dir = Path(f'lb_analysis_sparse/import_metadata/sub-{subject}/meg/')\n",
    "    filename = f'sub-{subject}_task-sparse_metadata_proc-clean_epo.fif'\n",
    "    epochs_path = meg_subject_dir / filename\n",
    "\n",
    "    epochs = mne.read_epochs(epochs_path)\n",
    "    return epochs\n",
    "\n",
    "\n",
    "def get_epochs_to_contrast(epochs):\n",
    "    metadata_query = f'{contrast[0]} or {contrast[1]}'\n",
    "    epochs_to_contrast = epochs[metadata_query]\n",
    "\n",
    "    # The data was Maxwell-filtered, so gradiometers and magnetometers are\n",
    "    # correlated and, therefore, practically contain the \"same\" information.\n",
    "    # We can therefore use magnetometers only, which will speed up processing\n",
    "    # as there's only 1/3rd of the number of sensors compared to gradiometers.\n",
    "    epochs_to_contrast.pick_types(meg='mag')\n",
    "\n",
    "    return epochs_to_contrast"
   ]
  },
  {
   "cell_type": "code",
   "execution_count": 14,
   "metadata": {},
   "outputs": [
    {
     "data": {
      "application/vnd.jupyter.widget-view+json": {
       "model_id": "98c7e44087a146cdaa676b9b6eae71aa",
       "version_major": 2,
       "version_minor": 0
      },
      "text/plain": [
       "  0%|          | 0/16 [00:00<?, ?it/s]"
      ]
     },
     "metadata": {},
     "output_type": "display_data"
    }
   ],
   "source": [
    "from pqdm.processes import pqdm\n",
    "\n",
    "from sklearn.model_selection import cross_val_score\n",
    "from sklearn.pipeline import make_pipeline\n",
    "from sklearn.linear_model import LogisticRegression\n",
    "\n",
    "from mne.decoding import Scaler, Vectorizer\n",
    "\n",
    "\n",
    "def trial_based_decoding(subject):\n",
    "    epochs = read_cleaned_epochs(subject)\n",
    "    epochs_to_contrast = get_epochs_to_contrast(epochs)\n",
    "    X = epochs_to_contrast.copy().crop(0.05, None).get_data()\n",
    "    y = epochs_to_contrast.metadata['Cond']\n",
    "\n",
    "    classification_pipeline = make_pipeline(\n",
    "        Scaler(\n",
    "            info=epochs_to_contrast.info,\n",
    "            scalings='mean'\n",
    "        ),\n",
    "        Vectorizer(),  # So we can pass the Scaler() results to scikit-learn\n",
    "        LogisticRegression(solver='liblinear')\n",
    "    )\n",
    "\n",
    "    # Now, actually run the classification, and evaluate it via a cross-validation\n",
    "    # procedure.\n",
    "    scores = cross_val_score(\n",
    "        classification_pipeline,\n",
    "        X,\n",
    "        y,\n",
    "        cv=5,\n",
    "        n_jobs=N_JOBS\n",
    "    )\n",
    "    return scores\n",
    "\n",
    "\n",
    "subjects = [\n",
    "    '04', '06', '07','08', # '09', '13','14','15','16','18','19',\n",
    "    '20','21','22','23','24','25','26','27','28','29','30','32'\n",
    "]\n",
    "\n",
    "decoding_scores_all_subjects = pqdm(\n",
    "    subjects, trial_based_decoding, n_jobs=1\n",
    ")"
   ]
  },
  {
   "cell_type": "markdown",
   "metadata": {},
   "source": [
    "### Looking at decoding performance"
   ]
  },
  {
   "cell_type": "code",
   "execution_count": 7,
   "metadata": {},
   "outputs": [
    {
     "name": "stdout",
     "output_type": "stream",
     "text": [
      "4\n",
      "[0.5        0.46590909 0.43181818 0.4137931  0.51724138]\n"
     ]
    }
   ],
   "source": [
    "print(len(decoding_scores_all_subjects))\n",
    "print(decoding_scores_all_subjects[3])"
   ]
  },
  {
   "cell_type": "code",
   "execution_count": 12,
   "metadata": {},
   "outputs": [
    {
     "data": {
      "text/plain": [
       "array([0.8424436 , 0.83557842, 0.83115016, 0.84320316])"
      ]
     },
     "execution_count": 12,
     "metadata": {},
     "output_type": "execute_result"
    }
   ],
   "source": [
    "decoding_scores_all_subjects_mean = np.mean(decoding_scores_all_subjects, axis=1)\n",
    "decoding_scores_all_subjects_mean"
   ]
  },
  {
   "cell_type": "markdown",
   "metadata": {},
   "source": [
    "### Visualizing decoding performance"
   ]
  },
  {
   "cell_type": "code",
   "execution_count": 13,
   "metadata": {},
   "outputs": [
    {
     "data": {
      "image/png": "[encoded data removed]",
      "text/plain": [
       "<Figure size 432x288 with 1 Axes>"
      ]
     },
     "metadata": {
      "needs_background": "light"
     },
     "output_type": "display_data"
    }
   ],
   "source": [
    "import seaborn as sns\n",
    "\n",
    "ax = sns.boxplot(y=decoding_scores_all_subjects_mean)\n",
    "ax = sns.swarmplot(y=decoding_scores_all_subjects_mean, color='black')"
   ]
  },
  {
   "cell_type": "code",
   "execution_count": null,
   "metadata": {},
   "outputs": [],
   "source": []
  }
 ],
 "metadata": {
  "interpreter": {
   "hash": "ce877426c23a3ed9ce32917d0129ed1f7538a0a25ae75e21b1a3c51edc03454a"
  },
  "kernelspec": {
   "display_name": "Python 3.10.4 64-bit ('mne')",
   "language": "python",
   "name": "python3"
  },
  "language_info": {
   "codemirror_mode": {
    "name": "ipython",
    "version": 3
   },
   "file_extension": ".py",
   "mimetype": "text/x-python",
   "name": "python",
   "nbconvert_exporter": "python",
   "pygments_lexer": "ipython3",
   "version": "3.10.4"
  },
  "orig_nbformat": 4
 },
 "nbformat": 4,
 "nbformat_minor": 2
}
