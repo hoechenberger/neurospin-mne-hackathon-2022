{
 "cells": [
  {
   "cell_type": "markdown",
   "metadata": {},
   "source": [
    "# Source imaging / Inverse problem"
   ]
  },
  {
   "cell_type": "code",
   "execution_count": 1,
   "metadata": {},
   "outputs": [],
   "source": [
    "import mne\n",
    "from config_import import get_events, event_id\n",
    "import mne_bids\n",
    "\n",
    "%matplotlib qt"
   ]
  },
  {
   "cell_type": "code",
   "execution_count": 2,
   "metadata": {},
   "outputs": [
    {
     "name": "stdout",
     "output_type": "stream",
     "text": [
      "sub-09_coordsystem.json               sub-09_task-POGS_run-05_channels.tsv\r\n",
      "sub-09_task-POGS_run-01_channels.tsv  sub-09_task-POGS_run-05_events.tsv\r\n",
      "sub-09_task-POGS_run-01_events.tsv    sub-09_task-POGS_run-05_meg.fif\r\n",
      "sub-09_task-POGS_run-01_meg.fif       sub-09_task-POGS_run-05_meg.json\r\n",
      "sub-09_task-POGS_run-01_meg.json      sub-09_task-POGS_run-06_channels.tsv\r\n",
      "sub-09_task-POGS_run-02_channels.tsv  sub-09_task-POGS_run-06_events.tsv\r\n",
      "sub-09_task-POGS_run-02_events.tsv    sub-09_task-POGS_run-06_meg.fif\r\n",
      "sub-09_task-POGS_run-02_meg.fif       sub-09_task-POGS_run-06_meg.json\r\n",
      "sub-09_task-POGS_run-02_meg.json      sub-09_task-POGS_run-07_channels.tsv\r\n",
      "sub-09_task-POGS_run-03_channels.tsv  sub-09_task-POGS_run-07_events.tsv\r\n",
      "sub-09_task-POGS_run-03_events.tsv    sub-09_task-POGS_run-07_meg.fif\r\n",
      "sub-09_task-POGS_run-03_meg.fif       sub-09_task-POGS_run-07_meg.json\r\n",
      "sub-09_task-POGS_run-03_meg.json      sub-09_task-POGS_run-08_channels.tsv\r\n",
      "sub-09_task-POGS_run-04_channels.tsv  sub-09_task-POGS_run-08_events.tsv\r\n",
      "sub-09_task-POGS_run-04_events.tsv    sub-09_task-POGS_run-08_meg.fif\r\n",
      "sub-09_task-POGS_run-04_meg.fif       sub-09_task-POGS_run-08_meg.json\r\n",
      "sub-09_task-POGS_run-04_meg.json\r\n"
     ]
    }
   ],
   "source": [
    "ls bids_data/sub-09/meg"
   ]
  },
  {
   "cell_type": "code",
   "execution_count": 3,
   "metadata": {},
   "outputs": [
    {
     "name": "stderr",
     "output_type": "stream",
     "text": [
      "/Users/alex/work/src/mne-bids/mne_bids/read.py:564: RuntimeWarning: The unit for channel(s) STI001, STI002, STI003, STI004, STI005, STI006, STI007, STI008, STI009, STI010, STI011, STI012, STI013, STI014, STI015, STI016, STI101, STI201, STI301 has changed from V to NA.\n",
      "  raw.set_channel_types(ch_type_map_avail)\n"
     ]
    }
   ],
   "source": [
    "subject = '09'\n",
    "session = None\n",
    "task = 'POGS'\n",
    "run = '01'\n",
    "bids_root = './bids_data'\n",
    "\n",
    "bids_path = mne_bids.BIDSPath(\n",
    "    subject=subject,\n",
    "    session=session,\n",
    "    run=run,\n",
    "    task=task,\n",
    "    datatype='meg',\n",
    "    suffix='meg',\n",
    "    extension='.fif',\n",
    "    root=bids_root\n",
    ")\n",
    "\n",
    "raw = mne_bids.read_raw_bids(bids_path, extra_params=dict(allow_maxshield=\"yes\"))"
   ]
  },
  {
   "cell_type": "code",
   "execution_count": 4,
   "metadata": {},
   "outputs": [
    {
     "data": {
      "text/plain": [
       "<Annotations | 330 segments: hinge/outlier/1 (1), hinge/outlier/2 (1), ...>"
      ]
     },
     "execution_count": 4,
     "metadata": {},
     "output_type": "execute_result"
    }
   ],
   "source": [
    "raw.annotations"
   ]
  },
  {
   "cell_type": "code",
   "execution_count": 5,
   "metadata": {},
   "outputs": [],
   "source": [
    "bads = ['MEG1613', 'MEG0213', 'MEG0311', 'MEG0813', 'MEG1542', 'MEG1541',\n",
    "        'MEG1811', 'MEG0623', 'MEG0241']\n",
    "raw.info['bads'] = bads"
   ]
  },
  {
   "cell_type": "code",
   "execution_count": 6,
   "metadata": {},
   "outputs": [],
   "source": [
    "cal_fname = \"meg_conf/sss_cal_nsp_2017.dat\"\n",
    "ct_fname = \"meg_conf/ct_sparse_nsp_2017.fif\"\n",
    "raw = mne.preprocessing.maxwell_filter(\n",
    "    raw, origin=\"auto\", calibration=cal_fname, cross_talk=ct_fname)"
   ]
  },
  {
   "cell_type": "code",
   "execution_count": 7,
   "metadata": {},
   "outputs": [
    {
     "data": {
      "text/html": [
       "<table class=\"table table-hover table-striped table-sm table-responsive small\">\n",
       "    <tr>\n",
       "        <th>Measurement date</th>\n",
       "        \n",
       "        <td>February 17, 2022  16:02:37 GMT</td>\n",
       "        \n",
       "    </tr>\n",
       "    <tr>\n",
       "        <th>Experimenter</th>\n",
       "        \n",
       "        <td>mne_anonymize</td>\n",
       "        \n",
       "    </tr>\n",
       "        <th>Participant</th>\n",
       "        \n",
       "            \n",
       "            <td>sub-09</td>\n",
       "            \n",
       "        \n",
       "    </tr>\n",
       "    <tr>\n",
       "        <th>Digitized points</th>\n",
       "        \n",
       "        <td>0 points</td>\n",
       "        \n",
       "    </tr>\n",
       "    <tr>\n",
       "        <th>Good channels</th>\n",
       "        <td>204 Gradiometers, 102 Magnetometers, 19 Stimulus, 2 EOG, 1 ECG, 8 misc</td>\n",
       "    </tr>\n",
       "    <tr>\n",
       "        <th>Bad channels</th>\n",
       "        <td>None</td>\n",
       "    </tr>\n",
       "    <tr>\n",
       "        <th>EOG channels</th>\n",
       "        <td>EOG061, EOG062</td>\n",
       "    </tr>\n",
       "    <tr>\n",
       "        <th>ECG channels</th>\n",
       "        <td>ECG063</td>\n",
       "    \n",
       "    <tr>\n",
       "        <th>Sampling frequency</th>\n",
       "        <td>1000.00 Hz</td>\n",
       "    </tr>\n",
       "    \n",
       "    \n",
       "    <tr>\n",
       "        <th>Highpass</th>\n",
       "        <td>0.10 Hz</td>\n",
       "    </tr>\n",
       "    \n",
       "    \n",
       "    <tr>\n",
       "        <th>Lowpass</th>\n",
       "        <td>40.00 Hz</td>\n",
       "    </tr>\n",
       "    \n",
       "    \n",
       "    \n",
       "    <tr>\n",
       "        <th>Filenames</th>\n",
       "        <td>sub-09_task-POGS_run-01_meg.fif</td>\n",
       "    </tr>\n",
       "    \n",
       "    <tr>\n",
       "        <th>Duration</th>\n",
       "        <td>00:05:43 (HH:MM:SS)</td>\n",
       "    </tr>\n",
       "</table>"
      ],
      "text/plain": [
       "<Raw | sub-09_task-POGS_run-01_meg.fif, 336 x 344000 (344.0 s), ~887.0 MB, data loaded>"
      ]
     },
     "execution_count": 7,
     "metadata": {},
     "output_type": "execute_result"
    }
   ],
   "source": [
    "l_freq, h_freq = 0.1, 40\n",
    "raw.filter(l_freq, h_freq)"
   ]
  },
  {
   "cell_type": "code",
   "execution_count": 8,
   "metadata": {},
   "outputs": [],
   "source": [
    "events, event_id = mne.events_from_annotations(raw)"
   ]
  },
  {
   "cell_type": "code",
   "execution_count": 9,
   "metadata": {},
   "outputs": [],
   "source": [
    "epochs = mne.Epochs(raw, events, event_id, tmin=-0.1, tmax=1., baseline=None)"
   ]
  },
  {
   "cell_type": "code",
   "execution_count": 10,
   "metadata": {},
   "outputs": [
    {
     "data": {
      "text/plain": [
       "[<Figure size 1600x840 with 7 Axes>, <Figure size 1600x840 with 7 Axes>]"
      ]
     },
     "execution_count": 10,
     "metadata": {},
     "output_type": "execute_result"
    }
   ],
   "source": [
    "evoked = epochs[\"reference\"].average()\n",
    "evoked.plot_joint()"
   ]
  },
  {
   "cell_type": "markdown",
   "metadata": {},
   "source": [
    "# Now let's look at the MRI data"
   ]
  },
  {
   "cell_type": "code",
   "execution_count": 11,
   "metadata": {},
   "outputs": [],
   "source": [
    "subjects_dir = \"bids_data/derivatives/freesurfer/subjects\"\n",
    "fs_subject = f\"sub-{subject}\""
   ]
  },
  {
   "cell_type": "code",
   "execution_count": 12,
   "metadata": {},
   "outputs": [],
   "source": [
    "mne.viz.plot_bem(subject=fs_subject, subjects_dir=subjects_dir,\n",
    "                 orientation='coronal');"
   ]
  },
  {
   "cell_type": "code",
   "execution_count": 13,
   "metadata": {},
   "outputs": [
    {
     "name": "stderr",
     "output_type": "stream",
     "text": [
      "/Users/alex/work/src/mne-bids/mne_bids/read.py:931: DeprecationWarning: Passing \"fs_subject=None\" has been deprecated and will raise an error in future versions. Please explicitly specify the FreeSurfer subject name.\n",
      "  warn('Passing \"fs_subject=None\" has been deprecated and will raise '\n",
      "/Users/alex/work/src/mne-bids/mne_bids/read.py:57: RuntimeWarning: This file contains raw Internal Active Shielding data. It may be distorted. Elekta recommends it be run through MaxFilter to produce reliable results. Consider closing the file and running MaxFilter on the data.\n",
      "  raw = reader[ext](raw_path, allow_maxshield, **kwargs)\n",
      "/Users/alex/work/src/mne-bids/mne_bids/read.py:564: RuntimeWarning: The unit for channel(s) STI001, STI002, STI003, STI004, STI005, STI006, STI007, STI008, STI009, STI010, STI011, STI012, STI013, STI014, STI015, STI016, STI101, STI201, STI301 has changed from V to NA.\n",
      "  raw.set_channel_types(ch_type_map_avail)\n"
     ]
    },
    {
     "data": {
      "text/plain": [
       "<Transform | head->MRI (surface RAS)>\n",
       "[[ 0.99935293 -0.01144447  0.03409905  0.000616  ]\n",
       " [ 0.01518899  0.99363005 -0.11166293 -0.00605521]\n",
       " [-0.03260392  0.1121086   0.99316094 -0.01032828]\n",
       " [ 0.          0.          0.          1.        ]]"
      ]
     },
     "execution_count": 13,
     "metadata": {},
     "output_type": "execute_result"
    }
   ],
   "source": [
    "# trans = mne.read_trans('pogs_meg/ll_180197/220217/sub-09-trans.fif')\n",
    "mri_bp = bids_path.copy().update(run=None, datatype='anat', suffix='T1w', extension=\".nii.gz\")\n",
    "trans = mne_bids.get_head_mri_trans(bids_path, t1_bids_path=mri_bp, fs_subjects_dir=subjects_dir)\n",
    "trans"
   ]
  },
  {
   "cell_type": "code",
   "execution_count": 14,
   "metadata": {},
   "outputs": [
    {
     "name": "stdout",
     "output_type": "stream",
     "text": [
      "Using pyvistaqt 3d backend.\n",
      "\n",
      "Using outer_skin.surf for head surface.\n",
      "Getting helmet for system 306m\n",
      "Channel types::\tgrad: 204, mag: 102\n"
     ]
    }
   ],
   "source": [
    "fig = mne.viz.plot_alignment(evoked.info, trans, subject=fs_subject, dig=True,\n",
    "                             subjects_dir=subjects_dir, verbose=True);"
   ]
  },
  {
   "cell_type": "code",
   "execution_count": 15,
   "metadata": {},
   "outputs": [],
   "source": [
    "# mne.gui.coregistration(subject=fs_subject, subjects_dir=subjects_dir, inst=bids_path)"
   ]
  },
  {
   "cell_type": "markdown",
   "metadata": {},
   "source": [
    "# Now let's do some source imaging"
   ]
  },
  {
   "cell_type": "code",
   "execution_count": 16,
   "metadata": {},
   "outputs": [
    {
     "name": "stderr",
     "output_type": "stream",
     "text": [
      "/Users/alex/work/src/mne-bids/mne_bids/read.py:57: RuntimeWarning: This file contains raw Internal Active Shielding data. It may be distorted. Elekta recommends it be run through MaxFilter to produce reliable results. Consider closing the file and running MaxFilter on the data.\n",
      "  raw = reader[ext](raw_path, allow_maxshield, **kwargs)\n",
      "/Users/alex/work/src/mne-bids/mne_bids/read.py:564: RuntimeWarning: The unit for channel(s) STI001, STI002, STI003, STI004, STI005, STI006, STI007, STI008, STI009, STI010, STI011, STI012, STI013, STI014, STI015, STI016, STI101, STI201, STI301 has changed from V to NA.\n",
      "  raw.set_channel_types(ch_type_map_avail)\n",
      "/Users/alex/work/src/mne-bids/mne_bids/path.py:1483: RuntimeWarning: Did not find any events.tsv associated with sub-emptyroom_ses-20220217_task-noise.\n",
      "\n",
      "The search_str was \"bids_data/sub-emptyroom/**/meg/sub-emptyroom_ses-20220217*events.tsv\"\n",
      "  warn(msg)\n",
      "/Users/alex/work/src/mne-bids/mne_bids/read.py:564: RuntimeWarning: The unit for channel(s) STI001, STI002, STI003, STI004, STI005, STI006, STI007, STI008, STI009, STI010, STI011, STI012, STI013, STI014, STI015, STI016, STI101, STI201, STI301 has changed from V to NA.\n",
      "  raw.set_channel_types(ch_type_map_avail)\n"
     ]
    },
    {
     "data": {
      "text/html": [
       "<table class=\"table table-hover table-striped table-sm table-responsive small\">\n",
       "    <tr>\n",
       "        <th>Measurement date</th>\n",
       "        \n",
       "        <td>February 17, 2022  17:05:03 GMT</td>\n",
       "        \n",
       "    </tr>\n",
       "    <tr>\n",
       "        <th>Experimenter</th>\n",
       "        \n",
       "        <td>mne_anonymize</td>\n",
       "        \n",
       "    </tr>\n",
       "        <th>Participant</th>\n",
       "        \n",
       "            \n",
       "            <td>sub-emptyroom</td>\n",
       "            \n",
       "        \n",
       "    </tr>\n",
       "    <tr>\n",
       "        <th>Digitized points</th>\n",
       "        \n",
       "        <td>0 points</td>\n",
       "        \n",
       "    </tr>\n",
       "    <tr>\n",
       "        <th>Good channels</th>\n",
       "        <td>204 Gradiometers, 102 Magnetometers, 19 Stimulus, 2 EOG, 1 ECG, 8 misc</td>\n",
       "    </tr>\n",
       "    <tr>\n",
       "        <th>Bad channels</th>\n",
       "        <td>None</td>\n",
       "    </tr>\n",
       "    <tr>\n",
       "        <th>EOG channels</th>\n",
       "        <td>EOG061, EOG062</td>\n",
       "    </tr>\n",
       "    <tr>\n",
       "        <th>ECG channels</th>\n",
       "        <td>ECG063</td>\n",
       "    \n",
       "    <tr>\n",
       "        <th>Sampling frequency</th>\n",
       "        <td>1000.00 Hz</td>\n",
       "    </tr>\n",
       "    \n",
       "    \n",
       "    <tr>\n",
       "        <th>Highpass</th>\n",
       "        <td>0.10 Hz</td>\n",
       "    </tr>\n",
       "    \n",
       "    \n",
       "    <tr>\n",
       "        <th>Lowpass</th>\n",
       "        <td>40.00 Hz</td>\n",
       "    </tr>\n",
       "    \n",
       "    \n",
       "    \n",
       "    <tr>\n",
       "        <th>Filenames</th>\n",
       "        <td>sub-emptyroom_ses-20220217_task-noise_meg.fif</td>\n",
       "    </tr>\n",
       "    \n",
       "    <tr>\n",
       "        <th>Duration</th>\n",
       "        <td>00:01:39 (HH:MM:SS)</td>\n",
       "    </tr>\n",
       "</table>"
      ],
      "text/plain": [
       "<Raw | sub-emptyroom_ses-20220217_task-noise_meg.fif, 336 x 100000 (100.0 s), ~256.8 MB, data loaded>"
      ]
     },
     "execution_count": 16,
     "metadata": {},
     "output_type": "execute_result"
    }
   ],
   "source": [
    "bids_path_er = bids_path.find_empty_room()\n",
    "\n",
    "raw_er = mne_bids.read_raw_bids(bids_path_er, extra_params=dict(allow_maxshield=\"yes\"))\n",
    "raw_er.info[\"bads\"] = bads\n",
    "raw_er.info[\"dev_head_t\"] = raw.info[\"dev_head_t\"]\n",
    "raw_er.set_montage(raw.get_montage())\n",
    "raw_er = mne.preprocessing.maxwell_filter(\n",
    "    raw_er, origin=\"auto\", calibration=cal_fname, cross_talk=ct_fname,\n",
    ")\n",
    "raw_er.filter(l_freq, h_freq)"
   ]
  },
  {
   "cell_type": "code",
   "execution_count": 17,
   "metadata": {},
   "outputs": [],
   "source": [
    "raw_er.plot_psd(fmax=60);"
   ]
  },
  {
   "cell_type": "code",
   "execution_count": 18,
   "metadata": {},
   "outputs": [],
   "source": [
    "cov = mne.compute_raw_covariance(raw_er)"
   ]
  },
  {
   "cell_type": "code",
   "execution_count": 19,
   "metadata": {},
   "outputs": [
    {
     "data": {
      "text/plain": [
       "(<Figure size 1520x740 with 4 Axes>, <Figure size 1520x740 with 2 Axes>)"
      ]
     },
     "execution_count": 19,
     "metadata": {},
     "output_type": "execute_result"
    }
   ],
   "source": [
    "mne.viz.plot_cov(cov, info=raw_er.info)"
   ]
  },
  {
   "cell_type": "code",
   "execution_count": 20,
   "metadata": {},
   "outputs": [],
   "source": [
    "evoked.plot_white(noise_cov=cov);"
   ]
  },
  {
   "cell_type": "code",
   "execution_count": 21,
   "metadata": {},
   "outputs": [],
   "source": [
    "conductivity = (0.3,)  # for single layer\n",
    "# conductivity = (0.3, 0.006, 0.3)  # for three layers\n",
    "model = mne.make_bem_model(subject=fs_subject, ico=4,\n",
    "                           conductivity=conductivity,\n",
    "                           subjects_dir=subjects_dir)\n",
    "bem = mne.make_bem_solution(model)"
   ]
  },
  {
   "cell_type": "code",
   "execution_count": 22,
   "metadata": {},
   "outputs": [],
   "source": [
    "src = mne.setup_source_space(fs_subject, spacing='oct6',\n",
    "                             subjects_dir=subjects_dir,\n",
    "                             add_dist=False)"
   ]
  },
  {
   "cell_type": "code",
   "execution_count": 23,
   "metadata": {},
   "outputs": [],
   "source": [
    "info = evoked.info\n",
    "fwd = mne.make_forward_solution(info, trans=trans,\n",
    "                                src=src, bem=bem,\n",
    "                                meg=True, # include MEG channels\n",
    "                                eeg=False, # include EEG channels\n",
    "                                mindist=5.0, # ignore sources <= 5mm from inner skull\n",
    "                                n_jobs=1) # number of jobs to run in parallel"
   ]
  },
  {
   "cell_type": "code",
   "execution_count": 24,
   "metadata": {},
   "outputs": [],
   "source": [
    "from mne.minimum_norm import make_inverse_operator, apply_inverse\n",
    "\n",
    "inverse_operator = make_inverse_operator(info, fwd, cov,\n",
    "                                         loose=0.2, depth=0.8)"
   ]
  },
  {
   "cell_type": "code",
   "execution_count": 25,
   "metadata": {},
   "outputs": [
    {
     "data": {
      "text/plain": [
       "<SourceEstimate | 8195 vertices, subject : sub-09, tmin : -100.0 (ms), tmax : 1000.0 (ms), tstep : 1.0 (ms), data shape : (8195, 1101), ~68.9 MB>"
      ]
     },
     "execution_count": 25,
     "metadata": {},
     "output_type": "execute_result"
    }
   ],
   "source": [
    "method = \"dSPM\"\n",
    "snr = 3.\n",
    "lambda2 = 1. / snr ** 2\n",
    "stc = apply_inverse(evoked, inverse_operator, lambda2,\n",
    "                    method=method, pick_ori=None)\n",
    "stc"
   ]
  },
  {
   "cell_type": "code",
   "execution_count": 26,
   "metadata": {},
   "outputs": [],
   "source": [
    "brain = stc.plot(surface='inflated', views=['lat', 'med'], hemi='split', subjects_dir=subjects_dir)"
   ]
  },
  {
   "cell_type": "code",
   "execution_count": null,
   "metadata": {},
   "outputs": [],
   "source": []
  }
 ],
 "metadata": {
  "kernelspec": {
   "display_name": "Python 3 (ipykernel)",
   "language": "python",
   "name": "python3"
  },
  "language_info": {
   "codemirror_mode": {
    "name": "ipython",
    "version": 3
   },
   "file_extension": ".py",
   "mimetype": "text/x-python",
   "name": "python",
   "nbconvert_exporter": "python",
   "pygments_lexer": "ipython3",
   "version": "3.8.6"
  }
 },
 "nbformat": 4,
 "nbformat_minor": 4
}
