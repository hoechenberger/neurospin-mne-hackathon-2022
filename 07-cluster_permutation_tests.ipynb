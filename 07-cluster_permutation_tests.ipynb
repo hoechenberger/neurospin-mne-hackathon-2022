{
 "cells": [
  {
   "cell_type": "markdown",
   "metadata": {},
   "source": [
    "# Running a cluster-based permutation test"
   ]
  },
  {
   "cell_type": "code",
   "execution_count": null,
   "metadata": {},
   "outputs": [],
   "source": [
    "from pathlib import Path\n",
    "from pqdm.processes import pqdm\n",
    "import numpy as np\n",
    "import matplotlib.pyplot as plt\n",
    "import mne\n",
    "\n",
    "\n",
    "mne.set_log_level(verbose='WARNING')\n",
    "\n",
    "N_JOBS = 7  # Should match the number of your (high-performance) CPU cores\n",
    "\n",
    "%matplotlib inline\n",
    "%config InlineBackend.figure_format = 'svg'"
   ]
  },
  {
   "cell_type": "markdown",
   "metadata": {},
   "source": [
    "## Calculate evoked contrasts\n",
    "\n",
    "The tests we're going to run will be \"one-sample\" t-tests against zero. The input is the difference between the conditions we wish to compare, and the test then tries to evaluate whether this difference is singificantly different from zero (H1) or not (H0)."
   ]
  },
  {
   "cell_type": "code",
   "execution_count": null,
   "metadata": {},
   "outputs": [],
   "source": [
    "subjects = [\n",
    "    '04', '06','07','08','09', '13','14','15','16','18','19',\n",
    "    '20','21','22','23','24','25','26','27','28','29','30','32'\n",
    "]\n",
    "\n",
    "contrast = ['Cond == 2', 'Cond == 4']\n",
    "\n",
    "\n",
    "def read_cleaned_epochs(subject):\n",
    "    # Import epochs\n",
    "    meg_subject_dir = Path(f'lb_analysis_sparse/import_metadata/sub-{subject}/meg/')\n",
    "    filename = f'sub-{subject}_task-sparse_metadata_proc-clean_epo.fif'\n",
    "    epochs_path = meg_subject_dir / filename\n",
    "\n",
    "    epochs = mne.read_epochs(epochs_path)\n",
    "    return epochs\n",
    "\n",
    "\n",
    "def compute_evoked_contrast(subject):\n",
    "    # Read epochs\n",
    "    epochs = read_cleaned_epochs(subject)\n",
    "\n",
    "    # Compute evokeds\n",
    "    evokeds = [\n",
    "        epochs[contrast[0]].average(),\n",
    "        epochs[contrast[1]].average()\n",
    "    ]\n",
    "\n",
    "    # Contrast the evokeds\n",
    "    evoked_contrast = mne.combine_evoked(evokeds, weights=[1, -1])\n",
    "\n",
    "    return evoked_contrast\n",
    "\n",
    "\n",
    "evoked_contrasts_all_subjects = pqdm(\n",
    "    subjects,\n",
    "    function=compute_evoked_contrast,\n",
    "    n_jobs=1\n",
    ")\n",
    "\n",
    "print(f'Calculated {len(evoked_contrasts_all_subjects)} contrasts!')"
   ]
  },
  {
   "cell_type": "code",
   "execution_count": null,
   "metadata": {},
   "outputs": [],
   "source": [
    "ch_type = 'mag'  # we only use magnetometers – data was Maxwell-filtered\n",
    "tmin = 0\n",
    "tmax = None  # end of the evoked\n",
    "\n",
    "all_evoked_contrasts_cropped = []\n",
    "all_data = []\n",
    "\n",
    "for evoked_contrast in evoked_contrasts_all_subjects:\n",
    "    evoked_contrast_cropped = (\n",
    "        evoked_contrast\n",
    "        .copy()  # don't modify the original!\n",
    "        .crop(tmin=tmin, tmax=tmax)\n",
    "        .pick(ch_type)\n",
    "    )\n",
    "    all_evoked_contrasts_cropped.append(evoked_contrast_cropped)\n",
    "\n",
    "    data = evoked_contrast_cropped.data.T  # transpose to have time on the first axis\n",
    "    all_data.append(data)\n",
    "\n",
    "    del evoked_contrast_cropped, data  # so we don't accidentally re-use it later!\n",
    "\n",
    "all_data = np.array(all_data)\n",
    "\n",
    "# get measurement info from first participant\n",
    "info = all_evoked_contrasts_cropped[0].info\n",
    "times = all_evoked_contrasts_cropped[0].times\n",
    "\n",
    "# compute adjacency\n",
    "adjacency, ch_names = mne.channels.find_ch_adjacency(info=info, ch_type=ch_type)\n",
    "\n",
    "all_data.shape, adjacency.shape, times.shape"
   ]
  },
  {
   "cell_type": "code",
   "execution_count": null,
   "metadata": {},
   "outputs": [],
   "source": [
    "all_data[0].shape"
   ]
  },
  {
   "cell_type": "code",
   "execution_count": null,
   "metadata": {},
   "outputs": [],
   "source": [
    "from mne.stats import permutation_cluster_1samp_test, spatio_temporal_cluster_1samp_test\n",
    "\n",
    "n_permutations = 10_000\n",
    "# n_permutations = 'all'\n",
    "tail = 0\n",
    "threshold = None\n",
    "\n",
    "cluster_stats = spatio_temporal_cluster_1samp_test(\n",
    "    X=all_data,\n",
    "    threshold=threshold,\n",
    "    n_jobs=N_JOBS,\n",
    "    tail=tail,\n",
    "    n_permutations=n_permutations,\n",
    "    adjacency=adjacency,\n",
    "    out_type='mask',\n",
    "    seed=42,  # make results reproducible\n",
    "    verbose=True,\n",
    ")\n",
    "\n",
    "T_obs, clusters, p_values, _ = cluster_stats"
   ]
  },
  {
   "cell_type": "code",
   "execution_count": null,
   "metadata": {},
   "outputs": [],
   "source": [
    "len(clusters)"
   ]
  },
  {
   "cell_type": "code",
   "execution_count": null,
   "metadata": {},
   "outputs": [],
   "source": [
    "len(p_values)"
   ]
  },
  {
   "cell_type": "code",
   "execution_count": null,
   "metadata": {},
   "outputs": [],
   "source": [
    "p_threshold = 0.05\n",
    "significant_clusters_indices = np.where(p_values < p_threshold)[0]  # don't forget the [0]\n",
    "significant_clusters_indices"
   ]
  },
  {
   "cell_type": "code",
   "execution_count": null,
   "metadata": {},
   "outputs": [],
   "source": [
    "significant_clusters = []\n",
    "\n",
    "for cluster_index in significant_clusters_indices:\n",
    "    significant_clusters.append(clusters[cluster_index])\n",
    "\n",
    "significant_clusters"
   ]
  },
  {
   "cell_type": "code",
   "execution_count": null,
   "metadata": {},
   "outputs": [],
   "source": [
    "significant_clusters[0].shape"
   ]
  },
  {
   "cell_type": "code",
   "execution_count": null,
   "metadata": {},
   "outputs": [],
   "source": [
    "import pandas as pd\n",
    "\n",
    "cluster_df = pd.DataFrame(\n",
    "    significant_clusters[0],\n",
    "    columns=all_evoked_contrasts_cropped[0].ch_names,\n",
    "    index=pd.Index(times, name='time')\n",
    ")\n",
    "cluster_df.to_clipboard()"
   ]
  },
  {
   "cell_type": "markdown",
   "metadata": {},
   "source": [
    "## Look at T-values for a single channel"
   ]
  },
  {
   "cell_type": "code",
   "execution_count": null,
   "metadata": {},
   "outputs": [],
   "source": [
    "ch_name = 'MEG1031'\n",
    "ch_idx = (\n",
    "    all_evoked_contrasts_cropped[0]\n",
    "    .ch_names\n",
    "    .index(ch_name)\n",
    ")\n",
    "\n",
    "fig, ax = plt.subplots()\n",
    "ax.plot(times, T_obs[:, ch_idx])\n",
    "ax.set_title(f'T-values for {ch_name}')\n",
    "ax.set_xlabel('Time (s)')\n",
    "ax.set_ylabel('T-value')"
   ]
  },
  {
   "cell_type": "markdown",
   "metadata": {},
   "source": [
    "## Cut down result matrix to rows and columns that contain at least one cell that's part of a significant cluster"
   ]
  },
  {
   "cell_type": "code",
   "execution_count": null,
   "metadata": {},
   "outputs": [],
   "source": [
    "cluster_df_cleaned = (\n",
    "    cluster_df[cluster_df]\n",
    "    .dropna(how='all', axis='columns')\n",
    "    .dropna(how='all', axis='index')\n",
    ")\n",
    "cluster_df_cleaned"
   ]
  },
  {
   "cell_type": "code",
   "execution_count": null,
   "metadata": {},
   "outputs": [],
   "source": [
    "cluster_channels = cluster_df_cleaned.columns\n",
    "cluster_times = cluster_df_cleaned.index"
   ]
  },
  {
   "cell_type": "code",
   "execution_count": null,
   "metadata": {},
   "outputs": [],
   "source": [
    "time_indices = np.where((times >= cluster_times[0]) & (times <= cluster_times[-1]))[0]\n",
    "time_indices"
   ]
  },
  {
   "cell_type": "code",
   "execution_count": null,
   "metadata": {},
   "outputs": [],
   "source": [
    "channel_indices = np.array([\n",
    "    all_evoked_contrasts_cropped[0].ch_names.index(ch_name)\n",
    "    for ch_name in cluster_channels\n",
    "])\n",
    "channel_indices"
   ]
  },
  {
   "cell_type": "code",
   "execution_count": null,
   "metadata": {},
   "outputs": [],
   "source": [
    "T_vals_cluster_time = T_obs[time_indices, :]\n",
    "T_vals_cluster_time.shape"
   ]
  },
  {
   "cell_type": "code",
   "execution_count": null,
   "metadata": {},
   "outputs": [],
   "source": [
    "T_vals_cluster_time_average = T_vals_cluster_time.mean(axis=0)\n",
    "T_vals_cluster_time_average.shape"
   ]
  },
  {
   "cell_type": "code",
   "execution_count": null,
   "metadata": {},
   "outputs": [],
   "source": [
    "channel_layout = mne.find_layout(info, ch_type=ch_type)\n",
    "channel_positions = channel_layout.pos\n",
    "channel_positions.shape"
   ]
  },
  {
   "cell_type": "code",
   "execution_count": null,
   "metadata": {},
   "outputs": [],
   "source": [
    "channel_mask = np.array(\n",
    "    [ch_name in cluster_channels\n",
    "     for ch_name in info.ch_names],\n",
    "    dtype='bool'\n",
    ")\n",
    "\n",
    "\n",
    "fig, ax = plt.subplots()\n",
    "ax.set_title(\n",
    "    f'Mean T-values\\n{cluster_times[0]} — {cluster_times[-1]} sec',\n",
    "    fontweight='bold'\n",
    ")\n",
    "\n",
    "mne.viz.plot_topomap(\n",
    "    data=T_vals_cluster_time_average,\n",
    "    pos=info,\n",
    "    extrapolate=\"head\",\n",
    "    mask=channel_mask,\n",
    "    ch_type=ch_type,\n",
    "    axes=ax\n",
    ");\n"
   ]
  },
  {
   "cell_type": "code",
   "execution_count": null,
   "metadata": {},
   "outputs": [],
   "source": [
    "fig, ax = plt.subplots()\n",
    "\n",
    "mne.viz.plot_compare_evokeds(\n",
    "    evokeds={\n",
    "        'Cluster #1': evoked_contrasts_all_subjects\n",
    "    },\n",
    "    picks=cluster_channels.to_list(),\n",
    "    combine='mean',\n",
    "    axes=ax,\n",
    "    truncate_yaxis=False,\n",
    "    truncate_xaxis=False,\n",
    "    show=False\n",
    ")\n",
    "ax.fill_betweenx(ax.get_ylim(), cluster_times[0], cluster_times[-1], color='orange', alpha=0.2)\n",
    "ax.axvline(cluster_times[0], ls='--', color='black')\n",
    "ax.axvline(cluster_times[-1], ls='--', color='black')\n",
    "ax.set_title(f'Mean of {len(cluster_channels)} channels in cluster')\n"
   ]
  },
  {
   "cell_type": "code",
   "execution_count": null,
   "metadata": {},
   "outputs": [],
   "source": []
  }
 ],
 "metadata": {
  "interpreter": {
   "hash": "ce877426c23a3ed9ce32917d0129ed1f7538a0a25ae75e21b1a3c51edc03454a"
  },
  "kernelspec": {
   "display_name": "Python 3.10.4 64-bit ('mne')",
   "language": "python",
   "name": "python3"
  },
  "language_info": {
   "codemirror_mode": {
    "name": "ipython",
    "version": 3
   },
   "file_extension": ".py",
   "mimetype": "text/x-python",
   "name": "python",
   "nbconvert_exporter": "python",
   "pygments_lexer": "ipython3",
   "version": "3.10.4"
  },
  "orig_nbformat": 4
 },
 "nbformat": 4,
 "nbformat_minor": 2
}
