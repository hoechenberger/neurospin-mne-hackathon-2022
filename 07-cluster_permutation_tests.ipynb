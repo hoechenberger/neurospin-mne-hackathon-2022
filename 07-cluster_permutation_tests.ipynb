{
 "cells": [
  {
   "cell_type": "code",
   "execution_count": 8,
   "metadata": {},
   "outputs": [],
   "source": [
    "from pathlib import Path\n",
    "from pqdm.processes import pqdm\n",
    "import numpy as np\n",
    "import matplotlib.pyplot as plt\n",
    "import mne\n",
    "\n",
    "\n",
    "mne.set_log_level(verbose='WARNING')\n",
    "\n",
    "N_JOBS = 7  # Should match the number of your (high-performance) CPU cores\n",
    "\n",
    "%matplotlib inline\n",
    "%config InlineBackend.figure_format = 'svg'"
   ]
  },
  {
   "cell_type": "code",
   "execution_count": 2,
   "metadata": {},
   "outputs": [
    {
     "data": {
      "application/vnd.jupyter.widget-view+json": {
       "model_id": "7188edcec72840c49d1df124a33cb14a",
       "version_major": 2,
       "version_minor": 0
      },
      "text/plain": [
       "  0%|          | 0/23 [00:00<?, ?it/s]"
      ]
     },
     "metadata": {},
     "output_type": "display_data"
    },
    {
     "name": "stdout",
     "output_type": "stream",
     "text": [
      "Calculated 23 contrasts!\n"
     ]
    }
   ],
   "source": [
    "subjects = [\n",
    "    '04', '06','07','08','09', '13','14','15','16','18','19',\n",
    "    '20','21','22','23','24','25','26','27','28','29','30','32'\n",
    "]\n",
    "\n",
    "contrast = ['Cond == 2', 'Cond == 4']\n",
    "\n",
    "\n",
    "def read_cleaned_epochs(subject):\n",
    "    # Import epochs\n",
    "    meg_subject_dir = Path(f'lb_analysis_sparse/import_metadata/sub-{subject}/meg/')\n",
    "    filename = f'sub-{subject}_task-sparse_metadata_proc-clean_epo.fif'\n",
    "    epochs_path = meg_subject_dir / filename\n",
    "\n",
    "    epochs = mne.read_epochs(epochs_path)\n",
    "    return epochs\n",
    "\n",
    "\n",
    "def compute_evoked_contrast(subject):\n",
    "    # Read epochs\n",
    "    epochs = read_cleaned_epochs(subject)\n",
    "\n",
    "    # Compute evokeds\n",
    "    evokeds = [\n",
    "        epochs[contrast[0]].average(),\n",
    "        epochs[contrast[1]].average()\n",
    "    ]\n",
    "\n",
    "    # Contrast the evokeds\n",
    "    evoked_contrast = mne.combine_evoked(evokeds, weights=[1, -1])\n",
    "\n",
    "    return evoked_contrast\n",
    "\n",
    "\n",
    "evoked_contrasts_all_subjects = pqdm(\n",
    "    subjects,\n",
    "    function=compute_evoked_contrast,\n",
    "    n_jobs=1\n",
    ")\n",
    "\n",
    "print(f'Calculated {len(evoked_contrasts_all_subjects)} contrasts!')"
   ]
  },
  {
   "cell_type": "code",
   "execution_count": 4,
   "metadata": {},
   "outputs": [
    {
     "data": {
      "text/plain": [
       "((23, 32, 102), (102, 102), (32,))"
      ]
     },
     "execution_count": 4,
     "metadata": {},
     "output_type": "execute_result"
    }
   ],
   "source": [
    "ch_type = 'mag'  # we only use magnetometers – data was Maxwell-filtered\n",
    "tmin = 0\n",
    "tmax = None  # end of the evoked\n",
    "\n",
    "all_evoked_contrasts_cropped = []\n",
    "all_data = []\n",
    "\n",
    "for evoked_contrast in evoked_contrasts_all_subjects:\n",
    "    evoked_contrast_cropped = (\n",
    "        evoked_contrast\n",
    "        .copy()  # don't modify the original!\n",
    "        .crop(tmin=tmin, tmax=tmax)\n",
    "        .pick(ch_type)\n",
    "    )\n",
    "    all_evoked_contrasts_cropped.append(evoked_contrast_cropped)\n",
    "\n",
    "    data = evoked_contrast_cropped.data.T  # transpose to have time on the first axis\n",
    "    all_data.append(data)\n",
    "\n",
    "    del evoked_contrast_cropped, data  # so we don't accidentally re-use it later!\n",
    "\n",
    "all_data = np.array(all_data)\n",
    "\n",
    "# get measurement info from first participant\n",
    "info = all_evoked_contrasts_cropped[0].info\n",
    "times = all_evoked_contrasts_cropped[0].times\n",
    "\n",
    "# compute adjacency\n",
    "adjacency, ch_names = mne.channels.find_ch_adjacency(info=info, ch_type=ch_type)\n",
    "\n",
    "all_data.shape, adjacency.shape, times.shape"
   ]
  },
  {
   "cell_type": "code",
   "execution_count": 5,
   "metadata": {},
   "outputs": [
    {
     "data": {
      "text/plain": [
       "(32, 102)"
      ]
     },
     "execution_count": 5,
     "metadata": {},
     "output_type": "execute_result"
    }
   ],
   "source": [
    "all_data[0].shape"
   ]
  },
  {
   "cell_type": "code",
   "execution_count": 42,
   "metadata": {},
   "outputs": [
    {
     "name": "stdout",
     "output_type": "stream",
     "text": [
      "Using a threshold of 2.073873\n",
      "stat_fun(H1): min=-3.585704 max=4.689721\n",
      "Running initial clustering\n",
      "Found 27 clusters\n",
      "Permuting 8191 times...\n"
     ]
    },
    {
     "data": {
      "application/vnd.jupyter.widget-view+json": {
       "model_id": "382050b402f2476eaad3b2be24aba217",
       "version_major": 2,
       "version_minor": 0
      },
      "text/plain": [
       "  0%|          |  : 0/8191 [00:00<?,       ?it/s]"
      ]
     },
     "metadata": {},
     "output_type": "display_data"
    },
    {
     "name": "stdout",
     "output_type": "stream",
     "text": [
      "Computing cluster p-values\n",
      "Done.\n"
     ]
    }
   ],
   "source": [
    "from mne.stats import permutation_cluster_1samp_test, spatio_temporal_cluster_1samp_test\n",
    "\n",
    "# n_permutations = 2**12\n",
    "n_permutations = 2**13\n",
    "# n_permutations = 'all'\n",
    "tail = 0\n",
    "threshold = None\n",
    "\n",
    "cluster_stats = spatio_temporal_cluster_1samp_test(\n",
    "    X=all_data,\n",
    "    threshold=threshold,\n",
    "    n_jobs=N_JOBS,\n",
    "    tail=tail,\n",
    "    n_permutations=n_permutations,\n",
    "    adjacency=adjacency,\n",
    "    out_type='mask',\n",
    "    seed=42,  # make results reproducible\n",
    "    verbose=True,\n",
    ")\n",
    "\n",
    "T_obs, clusters, p_values, _ = cluster_stats"
   ]
  },
  {
   "cell_type": "code",
   "execution_count": 43,
   "metadata": {},
   "outputs": [
    {
     "data": {
      "text/plain": [
       "27"
      ]
     },
     "execution_count": 43,
     "metadata": {},
     "output_type": "execute_result"
    }
   ],
   "source": [
    "len(clusters)"
   ]
  },
  {
   "cell_type": "code",
   "execution_count": 44,
   "metadata": {},
   "outputs": [
    {
     "data": {
      "text/plain": [
       "27"
      ]
     },
     "execution_count": 44,
     "metadata": {},
     "output_type": "execute_result"
    }
   ],
   "source": [
    "len(p_values)"
   ]
  },
  {
   "cell_type": "code",
   "execution_count": 45,
   "metadata": {},
   "outputs": [
    {
     "data": {
      "text/plain": [
       "array([5])"
      ]
     },
     "execution_count": 45,
     "metadata": {},
     "output_type": "execute_result"
    }
   ],
   "source": [
    "p_threshold = 0.05\n",
    "significant_clusters_indices = np.where(p_values < p_threshold)[0]  # don't forget the [0]\n",
    "significant_clusters_indices"
   ]
  },
  {
   "cell_type": "code",
   "execution_count": 46,
   "metadata": {},
   "outputs": [
    {
     "data": {
      "text/plain": [
       "[array([[False, False, False, ..., False, False, False],\n",
       "        [False, False, False, ..., False, False, False],\n",
       "        [False, False, False, ..., False, False, False],\n",
       "        ...,\n",
       "        [False, False, False, ..., False, False, False],\n",
       "        [False, False, False, ..., False, False, False],\n",
       "        [False, False, False, ..., False, False, False]])]"
      ]
     },
     "execution_count": 46,
     "metadata": {},
     "output_type": "execute_result"
    }
   ],
   "source": [
    "significant_clusters = []\n",
    "\n",
    "for cluster_index in significant_clusters_indices:\n",
    "    significant_clusters.append(clusters[cluster_index])\n",
    "\n",
    "significant_clusters"
   ]
  },
  {
   "cell_type": "code",
   "execution_count": 50,
   "metadata": {},
   "outputs": [
    {
     "data": {
      "text/plain": [
       "(32, 102)"
      ]
     },
     "execution_count": 50,
     "metadata": {},
     "output_type": "execute_result"
    }
   ],
   "source": [
    "significant_clusters[0].shape"
   ]
  },
  {
   "cell_type": "code",
   "execution_count": 54,
   "metadata": {},
   "outputs": [],
   "source": [
    "import pandas as pd\n",
    "\n",
    "cluster_df = pd.DataFrame(\n",
    "    significant_clusters[0],\n",
    "    columns=all_evoked_contrasts_cropped[0].ch_names,\n",
    "    index=pd.Index(times, name='time')\n",
    ")\n",
    "cluster_df.to_clipboard()"
   ]
  },
  {
   "cell_type": "code",
   "execution_count": 61,
   "metadata": {},
   "outputs": [
    {
     "data": {
      "text/plain": [
       "Text(0, 0.5, 'T-value')"
      ]
     },
     "execution_count": 61,
     "metadata": {},
     "output_type": "execute_result"
    },
    {
     "data": {
      "image/svg+xml": "<?xml version=\"1.0\" encoding=\"utf-8\" standalone=\"no\"?>\n<!DOCTYPE svg PUBLIC \"-//W3C//DTD SVG 1.1//EN\"\n  \"http://www.w3.org/Graphics/SVG/1.1/DTD/svg11.dtd\">\n<svg xmlns:xlink=\"http://www.w3.org/1999/xlink\" width=\"376.240625pt\" height=\"277.314375pt\" viewBox=\"0 0 376.240625 277.314375\" xmlns=\"http://www.w3.org/2000/svg\" version=\"1.1\">\n <metadata>\n  <rdf:RDF xmlns:dc=\"http://purl.org/dc/elements/1.1/\" xmlns:cc=\"http://creativecommons.org/ns#\" xmlns:rdf=\"http://www.w3.org/1999/02/22-rdf-syntax-ns#\">\n   <cc:Work>\n    <dc:type rdf:resource=\"http://purl.org/dc/dcmitype/StillImage\"/>\n    <dc:date>2022-04-27T22:11:33.977911</dc:date>\n    <dc:format>image/svg+xml</dc:format>\n    <dc:creator>\n     <cc:Agent>\n      <dc:title>Matplotlib v3.5.1, https://matplotlib.org/</dc:title>\n     </cc:Agent>\n    </dc:creator>\n   </cc:Work>\n  </rdf:RDF>\n </metadata>\n <defs>\n  <style type=\"text/css\">*{stroke-linejoin: round; stroke-linecap: butt}</style>\n </defs>\n <g id=\"figure_1\">\n  <g id=\"patch_1\">\n   <path d=\"M 0 277.314375 \nL 376.240625 277.314375 \nL 376.240625 0 \nL 0 0 \nL 0 277.314375 \nz\n\" style=\"fill: none\"/>\n  </g>\n  <g id=\"axes_1\">\n   <g id=\"patch_2\">\n    <path d=\"M 34.240625 239.758125 \nL 369.040625 239.758125 \nL 369.040625 22.318125 \nL 34.240625 22.318125 \nz\n\" style=\"fill: #ffffff\"/>\n   </g>\n   <g id=\"matplotlib.axis_1\">\n    <g id=\"xtick_1\">\n     <g id=\"line2d_1\">\n      <defs>\n       <path id=\"maafc7848ad\" d=\"M 0 0 \nL 0 3.5 \n\" style=\"stroke: #000000; stroke-width: 0.8\"/>\n      </defs>\n      <g>\n       <use xlink:href=\"#maafc7848ad\" x=\"49.458807\" y=\"239.758125\" style=\"stroke: #000000; stroke-width: 0.8\"/>\n      </g>\n     </g>\n     <g id=\"text_1\">\n      <!-- 0.00 -->\n      <g transform=\"translate(38.325994 254.356562)scale(0.1 -0.1)\">\n       <defs>\n        <path id=\"DejaVuSans-30\" d=\"M 2034 4250 \nQ 1547 4250 1301 3770 \nQ 1056 3291 1056 2328 \nQ 1056 1369 1301 889 \nQ 1547 409 2034 409 \nQ 2525 409 2770 889 \nQ 3016 1369 3016 2328 \nQ 3016 3291 2770 3770 \nQ 2525 4250 2034 4250 \nz\nM 2034 4750 \nQ 2819 4750 3233 4129 \nQ 3647 3509 3647 2328 \nQ 3647 1150 3233 529 \nQ 2819 -91 2034 -91 \nQ 1250 -91 836 529 \nQ 422 1150 422 2328 \nQ 422 3509 836 4129 \nQ 1250 4750 2034 4750 \nz\n\" transform=\"scale(0.015625)\"/>\n        <path id=\"DejaVuSans-2e\" d=\"M 684 794 \nL 1344 794 \nL 1344 0 \nL 684 0 \nL 684 794 \nz\n\" transform=\"scale(0.015625)\"/>\n       </defs>\n       <use xlink:href=\"#DejaVuSans-30\"/>\n       <use xlink:href=\"#DejaVuSans-2e\" x=\"63.623047\"/>\n       <use xlink:href=\"#DejaVuSans-30\" x=\"95.410156\"/>\n       <use xlink:href=\"#DejaVuSans-30\" x=\"159.033203\"/>\n      </g>\n     </g>\n    </g>\n    <g id=\"xtick_2\">\n     <g id=\"line2d_2\">\n      <g>\n       <use xlink:href=\"#maafc7848ad\" x=\"110.822443\" y=\"239.758125\" style=\"stroke: #000000; stroke-width: 0.8\"/>\n      </g>\n     </g>\n     <g id=\"text_2\">\n      <!-- 0.05 -->\n      <g transform=\"translate(99.689631 254.356562)scale(0.1 -0.1)\">\n       <defs>\n        <path id=\"DejaVuSans-35\" d=\"M 691 4666 \nL 3169 4666 \nL 3169 4134 \nL 1269 4134 \nL 1269 2991 \nQ 1406 3038 1543 3061 \nQ 1681 3084 1819 3084 \nQ 2600 3084 3056 2656 \nQ 3513 2228 3513 1497 \nQ 3513 744 3044 326 \nQ 2575 -91 1722 -91 \nQ 1428 -91 1123 -41 \nQ 819 9 494 109 \nL 494 744 \nQ 775 591 1075 516 \nQ 1375 441 1709 441 \nQ 2250 441 2565 725 \nQ 2881 1009 2881 1497 \nQ 2881 1984 2565 2268 \nQ 2250 2553 1709 2553 \nQ 1456 2553 1204 2497 \nQ 953 2441 691 2322 \nL 691 4666 \nz\n\" transform=\"scale(0.015625)\"/>\n       </defs>\n       <use xlink:href=\"#DejaVuSans-30\"/>\n       <use xlink:href=\"#DejaVuSans-2e\" x=\"63.623047\"/>\n       <use xlink:href=\"#DejaVuSans-30\" x=\"95.410156\"/>\n       <use xlink:href=\"#DejaVuSans-35\" x=\"159.033203\"/>\n      </g>\n     </g>\n    </g>\n    <g id=\"xtick_3\">\n     <g id=\"line2d_3\">\n      <g>\n       <use xlink:href=\"#maafc7848ad\" x=\"172.18608\" y=\"239.758125\" style=\"stroke: #000000; stroke-width: 0.8\"/>\n      </g>\n     </g>\n     <g id=\"text_3\">\n      <!-- 0.10 -->\n      <g transform=\"translate(161.053267 254.356562)scale(0.1 -0.1)\">\n       <defs>\n        <path id=\"DejaVuSans-31\" d=\"M 794 531 \nL 1825 531 \nL 1825 4091 \nL 703 3866 \nL 703 4441 \nL 1819 4666 \nL 2450 4666 \nL 2450 531 \nL 3481 531 \nL 3481 0 \nL 794 0 \nL 794 531 \nz\n\" transform=\"scale(0.015625)\"/>\n       </defs>\n       <use xlink:href=\"#DejaVuSans-30\"/>\n       <use xlink:href=\"#DejaVuSans-2e\" x=\"63.623047\"/>\n       <use xlink:href=\"#DejaVuSans-31\" x=\"95.410156\"/>\n       <use xlink:href=\"#DejaVuSans-30\" x=\"159.033203\"/>\n      </g>\n     </g>\n    </g>\n    <g id=\"xtick_4\">\n     <g id=\"line2d_4\">\n      <g>\n       <use xlink:href=\"#maafc7848ad\" x=\"233.549716\" y=\"239.758125\" style=\"stroke: #000000; stroke-width: 0.8\"/>\n      </g>\n     </g>\n     <g id=\"text_4\">\n      <!-- 0.15 -->\n      <g transform=\"translate(222.416903 254.356562)scale(0.1 -0.1)\">\n       <use xlink:href=\"#DejaVuSans-30\"/>\n       <use xlink:href=\"#DejaVuSans-2e\" x=\"63.623047\"/>\n       <use xlink:href=\"#DejaVuSans-31\" x=\"95.410156\"/>\n       <use xlink:href=\"#DejaVuSans-35\" x=\"159.033203\"/>\n      </g>\n     </g>\n    </g>\n    <g id=\"xtick_5\">\n     <g id=\"line2d_5\">\n      <g>\n       <use xlink:href=\"#maafc7848ad\" x=\"294.913352\" y=\"239.758125\" style=\"stroke: #000000; stroke-width: 0.8\"/>\n      </g>\n     </g>\n     <g id=\"text_5\">\n      <!-- 0.20 -->\n      <g transform=\"translate(283.78054 254.356562)scale(0.1 -0.1)\">\n       <defs>\n        <path id=\"DejaVuSans-32\" d=\"M 1228 531 \nL 3431 531 \nL 3431 0 \nL 469 0 \nL 469 531 \nQ 828 903 1448 1529 \nQ 2069 2156 2228 2338 \nQ 2531 2678 2651 2914 \nQ 2772 3150 2772 3378 \nQ 2772 3750 2511 3984 \nQ 2250 4219 1831 4219 \nQ 1534 4219 1204 4116 \nQ 875 4013 500 3803 \nL 500 4441 \nQ 881 4594 1212 4672 \nQ 1544 4750 1819 4750 \nQ 2544 4750 2975 4387 \nQ 3406 4025 3406 3419 \nQ 3406 3131 3298 2873 \nQ 3191 2616 2906 2266 \nQ 2828 2175 2409 1742 \nQ 1991 1309 1228 531 \nz\n\" transform=\"scale(0.015625)\"/>\n       </defs>\n       <use xlink:href=\"#DejaVuSans-30\"/>\n       <use xlink:href=\"#DejaVuSans-2e\" x=\"63.623047\"/>\n       <use xlink:href=\"#DejaVuSans-32\" x=\"95.410156\"/>\n       <use xlink:href=\"#DejaVuSans-30\" x=\"159.033203\"/>\n      </g>\n     </g>\n    </g>\n    <g id=\"xtick_6\">\n     <g id=\"line2d_6\">\n      <g>\n       <use xlink:href=\"#maafc7848ad\" x=\"356.276989\" y=\"239.758125\" style=\"stroke: #000000; stroke-width: 0.8\"/>\n      </g>\n     </g>\n     <g id=\"text_6\">\n      <!-- 0.25 -->\n      <g transform=\"translate(345.144176 254.356562)scale(0.1 -0.1)\">\n       <use xlink:href=\"#DejaVuSans-30\"/>\n       <use xlink:href=\"#DejaVuSans-2e\" x=\"63.623047\"/>\n       <use xlink:href=\"#DejaVuSans-32\" x=\"95.410156\"/>\n       <use xlink:href=\"#DejaVuSans-35\" x=\"159.033203\"/>\n      </g>\n     </g>\n    </g>\n    <g id=\"text_7\">\n     <!-- Time (s) -->\n     <g transform=\"translate(181.311719 268.034687)scale(0.1 -0.1)\">\n      <defs>\n       <path id=\"DejaVuSans-54\" d=\"M -19 4666 \nL 3928 4666 \nL 3928 4134 \nL 2272 4134 \nL 2272 0 \nL 1638 0 \nL 1638 4134 \nL -19 4134 \nL -19 4666 \nz\n\" transform=\"scale(0.015625)\"/>\n       <path id=\"DejaVuSans-69\" d=\"M 603 3500 \nL 1178 3500 \nL 1178 0 \nL 603 0 \nL 603 3500 \nz\nM 603 4863 \nL 1178 4863 \nL 1178 4134 \nL 603 4134 \nL 603 4863 \nz\n\" transform=\"scale(0.015625)\"/>\n       <path id=\"DejaVuSans-6d\" d=\"M 3328 2828 \nQ 3544 3216 3844 3400 \nQ 4144 3584 4550 3584 \nQ 5097 3584 5394 3201 \nQ 5691 2819 5691 2113 \nL 5691 0 \nL 5113 0 \nL 5113 2094 \nQ 5113 2597 4934 2840 \nQ 4756 3084 4391 3084 \nQ 3944 3084 3684 2787 \nQ 3425 2491 3425 1978 \nL 3425 0 \nL 2847 0 \nL 2847 2094 \nQ 2847 2600 2669 2842 \nQ 2491 3084 2119 3084 \nQ 1678 3084 1418 2786 \nQ 1159 2488 1159 1978 \nL 1159 0 \nL 581 0 \nL 581 3500 \nL 1159 3500 \nL 1159 2956 \nQ 1356 3278 1631 3431 \nQ 1906 3584 2284 3584 \nQ 2666 3584 2933 3390 \nQ 3200 3197 3328 2828 \nz\n\" transform=\"scale(0.015625)\"/>\n       <path id=\"DejaVuSans-65\" d=\"M 3597 1894 \nL 3597 1613 \nL 953 1613 \nQ 991 1019 1311 708 \nQ 1631 397 2203 397 \nQ 2534 397 2845 478 \nQ 3156 559 3463 722 \nL 3463 178 \nQ 3153 47 2828 -22 \nQ 2503 -91 2169 -91 \nQ 1331 -91 842 396 \nQ 353 884 353 1716 \nQ 353 2575 817 3079 \nQ 1281 3584 2069 3584 \nQ 2775 3584 3186 3129 \nQ 3597 2675 3597 1894 \nz\nM 3022 2063 \nQ 3016 2534 2758 2815 \nQ 2500 3097 2075 3097 \nQ 1594 3097 1305 2825 \nQ 1016 2553 972 2059 \nL 3022 2063 \nz\n\" transform=\"scale(0.015625)\"/>\n       <path id=\"DejaVuSans-20\" transform=\"scale(0.015625)\"/>\n       <path id=\"DejaVuSans-28\" d=\"M 1984 4856 \nQ 1566 4138 1362 3434 \nQ 1159 2731 1159 2009 \nQ 1159 1288 1364 580 \nQ 1569 -128 1984 -844 \nL 1484 -844 \nQ 1016 -109 783 600 \nQ 550 1309 550 2009 \nQ 550 2706 781 3412 \nQ 1013 4119 1484 4856 \nL 1984 4856 \nz\n\" transform=\"scale(0.015625)\"/>\n       <path id=\"DejaVuSans-73\" d=\"M 2834 3397 \nL 2834 2853 \nQ 2591 2978 2328 3040 \nQ 2066 3103 1784 3103 \nQ 1356 3103 1142 2972 \nQ 928 2841 928 2578 \nQ 928 2378 1081 2264 \nQ 1234 2150 1697 2047 \nL 1894 2003 \nQ 2506 1872 2764 1633 \nQ 3022 1394 3022 966 \nQ 3022 478 2636 193 \nQ 2250 -91 1575 -91 \nQ 1294 -91 989 -36 \nQ 684 19 347 128 \nL 347 722 \nQ 666 556 975 473 \nQ 1284 391 1588 391 \nQ 1994 391 2212 530 \nQ 2431 669 2431 922 \nQ 2431 1156 2273 1281 \nQ 2116 1406 1581 1522 \nL 1381 1569 \nQ 847 1681 609 1914 \nQ 372 2147 372 2553 \nQ 372 3047 722 3315 \nQ 1072 3584 1716 3584 \nQ 2034 3584 2315 3537 \nQ 2597 3491 2834 3397 \nz\n\" transform=\"scale(0.015625)\"/>\n       <path id=\"DejaVuSans-29\" d=\"M 513 4856 \nL 1013 4856 \nQ 1481 4119 1714 3412 \nQ 1947 2706 1947 2009 \nQ 1947 1309 1714 600 \nQ 1481 -109 1013 -844 \nL 513 -844 \nQ 928 -128 1133 580 \nQ 1338 1288 1338 2009 \nQ 1338 2731 1133 3434 \nQ 928 4138 513 4856 \nz\n\" transform=\"scale(0.015625)\"/>\n      </defs>\n      <use xlink:href=\"#DejaVuSans-54\"/>\n      <use xlink:href=\"#DejaVuSans-69\" x=\"57.958984\"/>\n      <use xlink:href=\"#DejaVuSans-6d\" x=\"85.742188\"/>\n      <use xlink:href=\"#DejaVuSans-65\" x=\"183.154297\"/>\n      <use xlink:href=\"#DejaVuSans-20\" x=\"244.677734\"/>\n      <use xlink:href=\"#DejaVuSans-28\" x=\"276.464844\"/>\n      <use xlink:href=\"#DejaVuSans-73\" x=\"315.478516\"/>\n      <use xlink:href=\"#DejaVuSans-29\" x=\"367.578125\"/>\n     </g>\n    </g>\n   </g>\n   <g id=\"matplotlib.axis_2\">\n    <g id=\"ytick_1\">\n     <g id=\"line2d_7\">\n      <defs>\n       <path id=\"m6d7948b723\" d=\"M 0 0 \nL -3.5 0 \n\" style=\"stroke: #000000; stroke-width: 0.8\"/>\n      </defs>\n      <g>\n       <use xlink:href=\"#m6d7948b723\" x=\"34.240625\" y=\"222.610956\" style=\"stroke: #000000; stroke-width: 0.8\"/>\n      </g>\n     </g>\n     <g id=\"text_8\">\n      <!-- 0 -->\n      <g transform=\"translate(20.878125 226.410175)scale(0.1 -0.1)\">\n       <use xlink:href=\"#DejaVuSans-30\"/>\n      </g>\n     </g>\n    </g>\n    <g id=\"ytick_2\">\n     <g id=\"line2d_8\">\n      <g>\n       <use xlink:href=\"#m6d7948b723\" x=\"34.240625\" y=\"174.490917\" style=\"stroke: #000000; stroke-width: 0.8\"/>\n      </g>\n     </g>\n     <g id=\"text_9\">\n      <!-- 1 -->\n      <g transform=\"translate(20.878125 178.290136)scale(0.1 -0.1)\">\n       <use xlink:href=\"#DejaVuSans-31\"/>\n      </g>\n     </g>\n    </g>\n    <g id=\"ytick_3\">\n     <g id=\"line2d_9\">\n      <g>\n       <use xlink:href=\"#m6d7948b723\" x=\"34.240625\" y=\"126.370878\" style=\"stroke: #000000; stroke-width: 0.8\"/>\n      </g>\n     </g>\n     <g id=\"text_10\">\n      <!-- 2 -->\n      <g transform=\"translate(20.878125 130.170096)scale(0.1 -0.1)\">\n       <use xlink:href=\"#DejaVuSans-32\"/>\n      </g>\n     </g>\n    </g>\n    <g id=\"ytick_4\">\n     <g id=\"line2d_10\">\n      <g>\n       <use xlink:href=\"#m6d7948b723\" x=\"34.240625\" y=\"78.250838\" style=\"stroke: #000000; stroke-width: 0.8\"/>\n      </g>\n     </g>\n     <g id=\"text_11\">\n      <!-- 3 -->\n      <g transform=\"translate(20.878125 82.050057)scale(0.1 -0.1)\">\n       <defs>\n        <path id=\"DejaVuSans-33\" d=\"M 2597 2516 \nQ 3050 2419 3304 2112 \nQ 3559 1806 3559 1356 \nQ 3559 666 3084 287 \nQ 2609 -91 1734 -91 \nQ 1441 -91 1130 -33 \nQ 819 25 488 141 \nL 488 750 \nQ 750 597 1062 519 \nQ 1375 441 1716 441 \nQ 2309 441 2620 675 \nQ 2931 909 2931 1356 \nQ 2931 1769 2642 2001 \nQ 2353 2234 1838 2234 \nL 1294 2234 \nL 1294 2753 \nL 1863 2753 \nQ 2328 2753 2575 2939 \nQ 2822 3125 2822 3475 \nQ 2822 3834 2567 4026 \nQ 2313 4219 1838 4219 \nQ 1578 4219 1281 4162 \nQ 984 4106 628 3988 \nL 628 4550 \nQ 988 4650 1302 4700 \nQ 1616 4750 1894 4750 \nQ 2613 4750 3031 4423 \nQ 3450 4097 3450 3541 \nQ 3450 3153 3228 2886 \nQ 3006 2619 2597 2516 \nz\n\" transform=\"scale(0.015625)\"/>\n       </defs>\n       <use xlink:href=\"#DejaVuSans-33\"/>\n      </g>\n     </g>\n    </g>\n    <g id=\"ytick_5\">\n     <g id=\"line2d_11\">\n      <g>\n       <use xlink:href=\"#m6d7948b723\" x=\"34.240625\" y=\"30.130799\" style=\"stroke: #000000; stroke-width: 0.8\"/>\n      </g>\n     </g>\n     <g id=\"text_12\">\n      <!-- 4 -->\n      <g transform=\"translate(20.878125 33.930018)scale(0.1 -0.1)\">\n       <defs>\n        <path id=\"DejaVuSans-34\" d=\"M 2419 4116 \nL 825 1625 \nL 2419 1625 \nL 2419 4116 \nz\nM 2253 4666 \nL 3047 4666 \nL 3047 1625 \nL 3713 1625 \nL 3713 1100 \nL 3047 1100 \nL 3047 0 \nL 2419 0 \nL 2419 1100 \nL 313 1100 \nL 313 1709 \nL 2253 4666 \nz\n\" transform=\"scale(0.015625)\"/>\n       </defs>\n       <use xlink:href=\"#DejaVuSans-34\"/>\n      </g>\n     </g>\n    </g>\n    <g id=\"text_13\">\n     <!-- T-value -->\n     <g transform=\"translate(14.798437 148.96625)rotate(-90)scale(0.1 -0.1)\">\n      <defs>\n       <path id=\"DejaVuSans-2d\" d=\"M 313 2009 \nL 1997 2009 \nL 1997 1497 \nL 313 1497 \nL 313 2009 \nz\n\" transform=\"scale(0.015625)\"/>\n       <path id=\"DejaVuSans-76\" d=\"M 191 3500 \nL 800 3500 \nL 1894 563 \nL 2988 3500 \nL 3597 3500 \nL 2284 0 \nL 1503 0 \nL 191 3500 \nz\n\" transform=\"scale(0.015625)\"/>\n       <path id=\"DejaVuSans-61\" d=\"M 2194 1759 \nQ 1497 1759 1228 1600 \nQ 959 1441 959 1056 \nQ 959 750 1161 570 \nQ 1363 391 1709 391 \nQ 2188 391 2477 730 \nQ 2766 1069 2766 1631 \nL 2766 1759 \nL 2194 1759 \nz\nM 3341 1997 \nL 3341 0 \nL 2766 0 \nL 2766 531 \nQ 2569 213 2275 61 \nQ 1981 -91 1556 -91 \nQ 1019 -91 701 211 \nQ 384 513 384 1019 \nQ 384 1609 779 1909 \nQ 1175 2209 1959 2209 \nL 2766 2209 \nL 2766 2266 \nQ 2766 2663 2505 2880 \nQ 2244 3097 1772 3097 \nQ 1472 3097 1187 3025 \nQ 903 2953 641 2809 \nL 641 3341 \nQ 956 3463 1253 3523 \nQ 1550 3584 1831 3584 \nQ 2591 3584 2966 3190 \nQ 3341 2797 3341 1997 \nz\n\" transform=\"scale(0.015625)\"/>\n       <path id=\"DejaVuSans-6c\" d=\"M 603 4863 \nL 1178 4863 \nL 1178 0 \nL 603 0 \nL 603 4863 \nz\n\" transform=\"scale(0.015625)\"/>\n       <path id=\"DejaVuSans-75\" d=\"M 544 1381 \nL 544 3500 \nL 1119 3500 \nL 1119 1403 \nQ 1119 906 1312 657 \nQ 1506 409 1894 409 \nQ 2359 409 2629 706 \nQ 2900 1003 2900 1516 \nL 2900 3500 \nL 3475 3500 \nL 3475 0 \nL 2900 0 \nL 2900 538 \nQ 2691 219 2414 64 \nQ 2138 -91 1772 -91 \nQ 1169 -91 856 284 \nQ 544 659 544 1381 \nz\nM 1991 3584 \nL 1991 3584 \nz\n\" transform=\"scale(0.015625)\"/>\n      </defs>\n      <use xlink:href=\"#DejaVuSans-54\"/>\n      <use xlink:href=\"#DejaVuSans-2d\" x=\"51.958984\"/>\n      <use xlink:href=\"#DejaVuSans-76\" x=\"85.417969\"/>\n      <use xlink:href=\"#DejaVuSans-61\" x=\"144.597656\"/>\n      <use xlink:href=\"#DejaVuSans-6c\" x=\"205.876953\"/>\n      <use xlink:href=\"#DejaVuSans-75\" x=\"233.660156\"/>\n      <use xlink:href=\"#DejaVuSans-65\" x=\"297.039062\"/>\n     </g>\n    </g>\n   </g>\n   <g id=\"line2d_12\">\n    <path d=\"M 49.458807 111.03748 \nL 59.276989 128.253956 \nL 69.09517 166.077098 \nL 78.913352 214.81499 \nL 88.731534 229.874489 \nL 98.549716 200.492848 \nL 108.367898 154.41969 \nL 118.18608 128.662517 \nL 128.004261 157.797019 \nL 137.822443 183.63114 \nL 147.640625 161.657232 \nL 157.458807 133.134564 \nL 167.276989 77.102987 \nL 177.09517 32.201761 \nL 186.913352 48.625705 \nL 196.731534 84.170854 \nL 206.549716 91.869548 \nL 216.367898 80.232413 \nL 226.18608 42.035507 \nL 236.004261 80.370879 \nL 245.822443 148.833107 \nL 255.640625 142.841057 \nL 265.458807 106.159046 \nL 275.276989 98.693489 \nL 285.09517 110.850601 \nL 294.913352 110.089918 \nL 304.731534 152.18503 \nL 314.549716 177.079112 \nL 324.367898 173.672862 \nL 334.18608 143.549382 \nL 344.004261 147.180493 \nL 353.822443 182.069017 \n\" clip-path=\"url(#p3563f4da61)\" style=\"fill: none; stroke: #1f77b4; stroke-width: 1.5; stroke-linecap: square\"/>\n   </g>\n   <g id=\"patch_3\">\n    <path d=\"M 34.240625 239.758125 \nL 34.240625 22.318125 \n\" style=\"fill: none; stroke: #000000; stroke-width: 0.8; stroke-linejoin: miter; stroke-linecap: square\"/>\n   </g>\n   <g id=\"patch_4\">\n    <path d=\"M 369.040625 239.758125 \nL 369.040625 22.318125 \n\" style=\"fill: none; stroke: #000000; stroke-width: 0.8; stroke-linejoin: miter; stroke-linecap: square\"/>\n   </g>\n   <g id=\"patch_5\">\n    <path d=\"M 34.240625 239.758125 \nL 369.040625 239.758125 \n\" style=\"fill: none; stroke: #000000; stroke-width: 0.8; stroke-linejoin: miter; stroke-linecap: square\"/>\n   </g>\n   <g id=\"patch_6\">\n    <path d=\"M 34.240625 22.318125 \nL 369.040625 22.318125 \n\" style=\"fill: none; stroke: #000000; stroke-width: 0.8; stroke-linejoin: miter; stroke-linecap: square\"/>\n   </g>\n   <g id=\"text_14\">\n    <!-- T-values for MEG1031 -->\n    <g transform=\"translate(136.050313 16.318125)scale(0.12 -0.12)\">\n     <defs>\n      <path id=\"DejaVuSans-66\" d=\"M 2375 4863 \nL 2375 4384 \nL 1825 4384 \nQ 1516 4384 1395 4259 \nQ 1275 4134 1275 3809 \nL 1275 3500 \nL 2222 3500 \nL 2222 3053 \nL 1275 3053 \nL 1275 0 \nL 697 0 \nL 697 3053 \nL 147 3053 \nL 147 3500 \nL 697 3500 \nL 697 3744 \nQ 697 4328 969 4595 \nQ 1241 4863 1831 4863 \nL 2375 4863 \nz\n\" transform=\"scale(0.015625)\"/>\n      <path id=\"DejaVuSans-6f\" d=\"M 1959 3097 \nQ 1497 3097 1228 2736 \nQ 959 2375 959 1747 \nQ 959 1119 1226 758 \nQ 1494 397 1959 397 \nQ 2419 397 2687 759 \nQ 2956 1122 2956 1747 \nQ 2956 2369 2687 2733 \nQ 2419 3097 1959 3097 \nz\nM 1959 3584 \nQ 2709 3584 3137 3096 \nQ 3566 2609 3566 1747 \nQ 3566 888 3137 398 \nQ 2709 -91 1959 -91 \nQ 1206 -91 779 398 \nQ 353 888 353 1747 \nQ 353 2609 779 3096 \nQ 1206 3584 1959 3584 \nz\n\" transform=\"scale(0.015625)\"/>\n      <path id=\"DejaVuSans-72\" d=\"M 2631 2963 \nQ 2534 3019 2420 3045 \nQ 2306 3072 2169 3072 \nQ 1681 3072 1420 2755 \nQ 1159 2438 1159 1844 \nL 1159 0 \nL 581 0 \nL 581 3500 \nL 1159 3500 \nL 1159 2956 \nQ 1341 3275 1631 3429 \nQ 1922 3584 2338 3584 \nQ 2397 3584 2469 3576 \nQ 2541 3569 2628 3553 \nL 2631 2963 \nz\n\" transform=\"scale(0.015625)\"/>\n      <path id=\"DejaVuSans-4d\" d=\"M 628 4666 \nL 1569 4666 \nL 2759 1491 \nL 3956 4666 \nL 4897 4666 \nL 4897 0 \nL 4281 0 \nL 4281 4097 \nL 3078 897 \nL 2444 897 \nL 1241 4097 \nL 1241 0 \nL 628 0 \nL 628 4666 \nz\n\" transform=\"scale(0.015625)\"/>\n      <path id=\"DejaVuSans-45\" d=\"M 628 4666 \nL 3578 4666 \nL 3578 4134 \nL 1259 4134 \nL 1259 2753 \nL 3481 2753 \nL 3481 2222 \nL 1259 2222 \nL 1259 531 \nL 3634 531 \nL 3634 0 \nL 628 0 \nL 628 4666 \nz\n\" transform=\"scale(0.015625)\"/>\n      <path id=\"DejaVuSans-47\" d=\"M 3809 666 \nL 3809 1919 \nL 2778 1919 \nL 2778 2438 \nL 4434 2438 \nL 4434 434 \nQ 4069 175 3628 42 \nQ 3188 -91 2688 -91 \nQ 1594 -91 976 548 \nQ 359 1188 359 2328 \nQ 359 3472 976 4111 \nQ 1594 4750 2688 4750 \nQ 3144 4750 3555 4637 \nQ 3966 4525 4313 4306 \nL 4313 3634 \nQ 3963 3931 3569 4081 \nQ 3175 4231 2741 4231 \nQ 1884 4231 1454 3753 \nQ 1025 3275 1025 2328 \nQ 1025 1384 1454 906 \nQ 1884 428 2741 428 \nQ 3075 428 3337 486 \nQ 3600 544 3809 666 \nz\n\" transform=\"scale(0.015625)\"/>\n     </defs>\n     <use xlink:href=\"#DejaVuSans-54\"/>\n     <use xlink:href=\"#DejaVuSans-2d\" x=\"51.958984\"/>\n     <use xlink:href=\"#DejaVuSans-76\" x=\"85.417969\"/>\n     <use xlink:href=\"#DejaVuSans-61\" x=\"144.597656\"/>\n     <use xlink:href=\"#DejaVuSans-6c\" x=\"205.876953\"/>\n     <use xlink:href=\"#DejaVuSans-75\" x=\"233.660156\"/>\n     <use xlink:href=\"#DejaVuSans-65\" x=\"297.039062\"/>\n     <use xlink:href=\"#DejaVuSans-73\" x=\"358.5625\"/>\n     <use xlink:href=\"#DejaVuSans-20\" x=\"410.662109\"/>\n     <use xlink:href=\"#DejaVuSans-66\" x=\"442.449219\"/>\n     <use xlink:href=\"#DejaVuSans-6f\" x=\"477.654297\"/>\n     <use xlink:href=\"#DejaVuSans-72\" x=\"538.835938\"/>\n     <use xlink:href=\"#DejaVuSans-20\" x=\"579.949219\"/>\n     <use xlink:href=\"#DejaVuSans-4d\" x=\"611.736328\"/>\n     <use xlink:href=\"#DejaVuSans-45\" x=\"698.015625\"/>\n     <use xlink:href=\"#DejaVuSans-47\" x=\"761.199219\"/>\n     <use xlink:href=\"#DejaVuSans-31\" x=\"838.689453\"/>\n     <use xlink:href=\"#DejaVuSans-30\" x=\"902.3125\"/>\n     <use xlink:href=\"#DejaVuSans-33\" x=\"965.935547\"/>\n     <use xlink:href=\"#DejaVuSans-31\" x=\"1029.558594\"/>\n    </g>\n   </g>\n  </g>\n </g>\n <defs>\n  <clipPath id=\"p3563f4da61\">\n   <rect x=\"34.240625\" y=\"22.318125\" width=\"334.8\" height=\"217.44\"/>\n  </clipPath>\n </defs>\n</svg>\n",
      "text/plain": [
       "<Figure size 432x288 with 1 Axes>"
      ]
     },
     "metadata": {
      "needs_background": "light"
     },
     "output_type": "display_data"
    }
   ],
   "source": [
    "ch_name = 'MEG1031'\n",
    "ch_idx = (\n",
    "    all_evoked_contrasts_cropped[0]\n",
    "    .ch_names\n",
    "    .index(ch_name)\n",
    ")\n",
    "\n",
    "fig, ax = plt.subplots()\n",
    "ax.plot(times, T_obs[:, ch_idx])\n",
    "ax.set_title(f'T-values for {ch_name}')\n",
    "ax.set_xlabel('Time (s)')\n",
    "ax.set_ylabel('T-value')"
   ]
  },
  {
   "cell_type": "code",
   "execution_count": 100,
   "metadata": {},
   "outputs": [
    {
     "data": {
      "text/html": [
       "<div>\n",
       "<style scoped>\n",
       "    .dataframe tbody tr th:only-of-type {\n",
       "        vertical-align: middle;\n",
       "    }\n",
       "\n",
       "    .dataframe tbody tr th {\n",
       "        vertical-align: top;\n",
       "    }\n",
       "\n",
       "    .dataframe thead th {\n",
       "        text-align: right;\n",
       "    }\n",
       "</style>\n",
       "<table border=\"1\" class=\"dataframe\">\n",
       "  <thead>\n",
       "    <tr style=\"text-align: right;\">\n",
       "      <th></th>\n",
       "      <th>MEG0221</th>\n",
       "      <th>MEG0321</th>\n",
       "      <th>MEG0331</th>\n",
       "      <th>MEG0411</th>\n",
       "      <th>MEG0421</th>\n",
       "      <th>MEG0431</th>\n",
       "      <th>MEG0441</th>\n",
       "      <th>MEG0531</th>\n",
       "      <th>MEG0611</th>\n",
       "      <th>MEG0621</th>\n",
       "      <th>...</th>\n",
       "      <th>MEG1111</th>\n",
       "      <th>MEG1121</th>\n",
       "      <th>MEG1131</th>\n",
       "      <th>MEG1141</th>\n",
       "      <th>MEG1231</th>\n",
       "      <th>MEG1241</th>\n",
       "      <th>MEG1311</th>\n",
       "      <th>MEG1341</th>\n",
       "      <th>MEG1821</th>\n",
       "      <th>MEG2421</th>\n",
       "    </tr>\n",
       "    <tr>\n",
       "      <th>time</th>\n",
       "      <th></th>\n",
       "      <th></th>\n",
       "      <th></th>\n",
       "      <th></th>\n",
       "      <th></th>\n",
       "      <th></th>\n",
       "      <th></th>\n",
       "      <th></th>\n",
       "      <th></th>\n",
       "      <th></th>\n",
       "      <th></th>\n",
       "      <th></th>\n",
       "      <th></th>\n",
       "      <th></th>\n",
       "      <th></th>\n",
       "      <th></th>\n",
       "      <th></th>\n",
       "      <th></th>\n",
       "      <th></th>\n",
       "      <th></th>\n",
       "      <th></th>\n",
       "    </tr>\n",
       "  </thead>\n",
       "  <tbody>\n",
       "    <tr>\n",
       "      <th>0.064</th>\n",
       "      <td>NaN</td>\n",
       "      <td>NaN</td>\n",
       "      <td>NaN</td>\n",
       "      <td>NaN</td>\n",
       "      <td>NaN</td>\n",
       "      <td>NaN</td>\n",
       "      <td>NaN</td>\n",
       "      <td>NaN</td>\n",
       "      <td>NaN</td>\n",
       "      <td>NaN</td>\n",
       "      <td>...</td>\n",
       "      <td>NaN</td>\n",
       "      <td>NaN</td>\n",
       "      <td>True</td>\n",
       "      <td>NaN</td>\n",
       "      <td>NaN</td>\n",
       "      <td>NaN</td>\n",
       "      <td>NaN</td>\n",
       "      <td>True</td>\n",
       "      <td>NaN</td>\n",
       "      <td>NaN</td>\n",
       "    </tr>\n",
       "    <tr>\n",
       "      <th>0.072</th>\n",
       "      <td>NaN</td>\n",
       "      <td>NaN</td>\n",
       "      <td>NaN</td>\n",
       "      <td>NaN</td>\n",
       "      <td>NaN</td>\n",
       "      <td>NaN</td>\n",
       "      <td>NaN</td>\n",
       "      <td>NaN</td>\n",
       "      <td>NaN</td>\n",
       "      <td>NaN</td>\n",
       "      <td>...</td>\n",
       "      <td>NaN</td>\n",
       "      <td>True</td>\n",
       "      <td>True</td>\n",
       "      <td>NaN</td>\n",
       "      <td>True</td>\n",
       "      <td>True</td>\n",
       "      <td>True</td>\n",
       "      <td>True</td>\n",
       "      <td>NaN</td>\n",
       "      <td>NaN</td>\n",
       "    </tr>\n",
       "    <tr>\n",
       "      <th>0.080</th>\n",
       "      <td>NaN</td>\n",
       "      <td>NaN</td>\n",
       "      <td>NaN</td>\n",
       "      <td>NaN</td>\n",
       "      <td>NaN</td>\n",
       "      <td>NaN</td>\n",
       "      <td>NaN</td>\n",
       "      <td>NaN</td>\n",
       "      <td>NaN</td>\n",
       "      <td>NaN</td>\n",
       "      <td>...</td>\n",
       "      <td>NaN</td>\n",
       "      <td>True</td>\n",
       "      <td>True</td>\n",
       "      <td>NaN</td>\n",
       "      <td>True</td>\n",
       "      <td>True</td>\n",
       "      <td>NaN</td>\n",
       "      <td>NaN</td>\n",
       "      <td>NaN</td>\n",
       "      <td>NaN</td>\n",
       "    </tr>\n",
       "    <tr>\n",
       "      <th>0.088</th>\n",
       "      <td>NaN</td>\n",
       "      <td>NaN</td>\n",
       "      <td>NaN</td>\n",
       "      <td>NaN</td>\n",
       "      <td>NaN</td>\n",
       "      <td>True</td>\n",
       "      <td>NaN</td>\n",
       "      <td>NaN</td>\n",
       "      <td>NaN</td>\n",
       "      <td>NaN</td>\n",
       "      <td>...</td>\n",
       "      <td>True</td>\n",
       "      <td>True</td>\n",
       "      <td>True</td>\n",
       "      <td>True</td>\n",
       "      <td>NaN</td>\n",
       "      <td>NaN</td>\n",
       "      <td>NaN</td>\n",
       "      <td>NaN</td>\n",
       "      <td>True</td>\n",
       "      <td>NaN</td>\n",
       "    </tr>\n",
       "    <tr>\n",
       "      <th>0.096</th>\n",
       "      <td>NaN</td>\n",
       "      <td>NaN</td>\n",
       "      <td>NaN</td>\n",
       "      <td>NaN</td>\n",
       "      <td>NaN</td>\n",
       "      <td>NaN</td>\n",
       "      <td>NaN</td>\n",
       "      <td>NaN</td>\n",
       "      <td>NaN</td>\n",
       "      <td>NaN</td>\n",
       "      <td>...</td>\n",
       "      <td>True</td>\n",
       "      <td>True</td>\n",
       "      <td>True</td>\n",
       "      <td>True</td>\n",
       "      <td>NaN</td>\n",
       "      <td>True</td>\n",
       "      <td>True</td>\n",
       "      <td>True</td>\n",
       "      <td>NaN</td>\n",
       "      <td>NaN</td>\n",
       "    </tr>\n",
       "    <tr>\n",
       "      <th>0.104</th>\n",
       "      <td>NaN</td>\n",
       "      <td>NaN</td>\n",
       "      <td>NaN</td>\n",
       "      <td>NaN</td>\n",
       "      <td>True</td>\n",
       "      <td>True</td>\n",
       "      <td>NaN</td>\n",
       "      <td>NaN</td>\n",
       "      <td>NaN</td>\n",
       "      <td>True</td>\n",
       "      <td>...</td>\n",
       "      <td>True</td>\n",
       "      <td>True</td>\n",
       "      <td>True</td>\n",
       "      <td>NaN</td>\n",
       "      <td>NaN</td>\n",
       "      <td>True</td>\n",
       "      <td>True</td>\n",
       "      <td>True</td>\n",
       "      <td>NaN</td>\n",
       "      <td>True</td>\n",
       "    </tr>\n",
       "    <tr>\n",
       "      <th>0.112</th>\n",
       "      <td>NaN</td>\n",
       "      <td>NaN</td>\n",
       "      <td>NaN</td>\n",
       "      <td>NaN</td>\n",
       "      <td>True</td>\n",
       "      <td>True</td>\n",
       "      <td>NaN</td>\n",
       "      <td>NaN</td>\n",
       "      <td>NaN</td>\n",
       "      <td>True</td>\n",
       "      <td>...</td>\n",
       "      <td>True</td>\n",
       "      <td>True</td>\n",
       "      <td>NaN</td>\n",
       "      <td>NaN</td>\n",
       "      <td>NaN</td>\n",
       "      <td>True</td>\n",
       "      <td>NaN</td>\n",
       "      <td>NaN</td>\n",
       "      <td>NaN</td>\n",
       "      <td>NaN</td>\n",
       "    </tr>\n",
       "    <tr>\n",
       "      <th>0.120</th>\n",
       "      <td>NaN</td>\n",
       "      <td>NaN</td>\n",
       "      <td>NaN</td>\n",
       "      <td>True</td>\n",
       "      <td>True</td>\n",
       "      <td>NaN</td>\n",
       "      <td>NaN</td>\n",
       "      <td>NaN</td>\n",
       "      <td>NaN</td>\n",
       "      <td>True</td>\n",
       "      <td>...</td>\n",
       "      <td>NaN</td>\n",
       "      <td>NaN</td>\n",
       "      <td>NaN</td>\n",
       "      <td>NaN</td>\n",
       "      <td>NaN</td>\n",
       "      <td>True</td>\n",
       "      <td>NaN</td>\n",
       "      <td>NaN</td>\n",
       "      <td>NaN</td>\n",
       "      <td>NaN</td>\n",
       "    </tr>\n",
       "    <tr>\n",
       "      <th>0.128</th>\n",
       "      <td>NaN</td>\n",
       "      <td>NaN</td>\n",
       "      <td>True</td>\n",
       "      <td>True</td>\n",
       "      <td>True</td>\n",
       "      <td>NaN</td>\n",
       "      <td>True</td>\n",
       "      <td>NaN</td>\n",
       "      <td>True</td>\n",
       "      <td>True</td>\n",
       "      <td>...</td>\n",
       "      <td>NaN</td>\n",
       "      <td>NaN</td>\n",
       "      <td>NaN</td>\n",
       "      <td>NaN</td>\n",
       "      <td>NaN</td>\n",
       "      <td>True</td>\n",
       "      <td>NaN</td>\n",
       "      <td>NaN</td>\n",
       "      <td>NaN</td>\n",
       "      <td>NaN</td>\n",
       "    </tr>\n",
       "    <tr>\n",
       "      <th>0.136</th>\n",
       "      <td>True</td>\n",
       "      <td>True</td>\n",
       "      <td>True</td>\n",
       "      <td>True</td>\n",
       "      <td>True</td>\n",
       "      <td>NaN</td>\n",
       "      <td>NaN</td>\n",
       "      <td>NaN</td>\n",
       "      <td>True</td>\n",
       "      <td>True</td>\n",
       "      <td>...</td>\n",
       "      <td>True</td>\n",
       "      <td>True</td>\n",
       "      <td>NaN</td>\n",
       "      <td>NaN</td>\n",
       "      <td>NaN</td>\n",
       "      <td>True</td>\n",
       "      <td>NaN</td>\n",
       "      <td>NaN</td>\n",
       "      <td>NaN</td>\n",
       "      <td>NaN</td>\n",
       "    </tr>\n",
       "    <tr>\n",
       "      <th>0.144</th>\n",
       "      <td>NaN</td>\n",
       "      <td>True</td>\n",
       "      <td>True</td>\n",
       "      <td>True</td>\n",
       "      <td>True</td>\n",
       "      <td>NaN</td>\n",
       "      <td>NaN</td>\n",
       "      <td>True</td>\n",
       "      <td>True</td>\n",
       "      <td>True</td>\n",
       "      <td>...</td>\n",
       "      <td>True</td>\n",
       "      <td>True</td>\n",
       "      <td>NaN</td>\n",
       "      <td>NaN</td>\n",
       "      <td>NaN</td>\n",
       "      <td>True</td>\n",
       "      <td>NaN</td>\n",
       "      <td>NaN</td>\n",
       "      <td>NaN</td>\n",
       "      <td>NaN</td>\n",
       "    </tr>\n",
       "    <tr>\n",
       "      <th>0.152</th>\n",
       "      <td>NaN</td>\n",
       "      <td>NaN</td>\n",
       "      <td>NaN</td>\n",
       "      <td>True</td>\n",
       "      <td>True</td>\n",
       "      <td>NaN</td>\n",
       "      <td>NaN</td>\n",
       "      <td>NaN</td>\n",
       "      <td>NaN</td>\n",
       "      <td>True</td>\n",
       "      <td>...</td>\n",
       "      <td>NaN</td>\n",
       "      <td>NaN</td>\n",
       "      <td>NaN</td>\n",
       "      <td>NaN</td>\n",
       "      <td>NaN</td>\n",
       "      <td>True</td>\n",
       "      <td>NaN</td>\n",
       "      <td>NaN</td>\n",
       "      <td>NaN</td>\n",
       "      <td>NaN</td>\n",
       "    </tr>\n",
       "  </tbody>\n",
       "</table>\n",
       "<p>12 rows × 32 columns</p>\n",
       "</div>"
      ],
      "text/plain": [
       "      MEG0221 MEG0321 MEG0331 MEG0411 MEG0421 MEG0431 MEG0441 MEG0531 MEG0611  \\\n",
       "time                                                                            \n",
       "0.064     NaN     NaN     NaN     NaN     NaN     NaN     NaN     NaN     NaN   \n",
       "0.072     NaN     NaN     NaN     NaN     NaN     NaN     NaN     NaN     NaN   \n",
       "0.080     NaN     NaN     NaN     NaN     NaN     NaN     NaN     NaN     NaN   \n",
       "0.088     NaN     NaN     NaN     NaN     NaN    True     NaN     NaN     NaN   \n",
       "0.096     NaN     NaN     NaN     NaN     NaN     NaN     NaN     NaN     NaN   \n",
       "0.104     NaN     NaN     NaN     NaN    True    True     NaN     NaN     NaN   \n",
       "0.112     NaN     NaN     NaN     NaN    True    True     NaN     NaN     NaN   \n",
       "0.120     NaN     NaN     NaN    True    True     NaN     NaN     NaN     NaN   \n",
       "0.128     NaN     NaN    True    True    True     NaN    True     NaN    True   \n",
       "0.136    True    True    True    True    True     NaN     NaN     NaN    True   \n",
       "0.144     NaN    True    True    True    True     NaN     NaN    True    True   \n",
       "0.152     NaN     NaN     NaN    True    True     NaN     NaN     NaN     NaN   \n",
       "\n",
       "      MEG0621  ... MEG1111 MEG1121 MEG1131 MEG1141 MEG1231 MEG1241 MEG1311  \\\n",
       "time           ...                                                           \n",
       "0.064     NaN  ...     NaN     NaN    True     NaN     NaN     NaN     NaN   \n",
       "0.072     NaN  ...     NaN    True    True     NaN    True    True    True   \n",
       "0.080     NaN  ...     NaN    True    True     NaN    True    True     NaN   \n",
       "0.088     NaN  ...    True    True    True    True     NaN     NaN     NaN   \n",
       "0.096     NaN  ...    True    True    True    True     NaN    True    True   \n",
       "0.104    True  ...    True    True    True     NaN     NaN    True    True   \n",
       "0.112    True  ...    True    True     NaN     NaN     NaN    True     NaN   \n",
       "0.120    True  ...     NaN     NaN     NaN     NaN     NaN    True     NaN   \n",
       "0.128    True  ...     NaN     NaN     NaN     NaN     NaN    True     NaN   \n",
       "0.136    True  ...    True    True     NaN     NaN     NaN    True     NaN   \n",
       "0.144    True  ...    True    True     NaN     NaN     NaN    True     NaN   \n",
       "0.152    True  ...     NaN     NaN     NaN     NaN     NaN    True     NaN   \n",
       "\n",
       "      MEG1341 MEG1821 MEG2421  \n",
       "time                           \n",
       "0.064    True     NaN     NaN  \n",
       "0.072    True     NaN     NaN  \n",
       "0.080     NaN     NaN     NaN  \n",
       "0.088     NaN    True     NaN  \n",
       "0.096    True     NaN     NaN  \n",
       "0.104    True     NaN    True  \n",
       "0.112     NaN     NaN     NaN  \n",
       "0.120     NaN     NaN     NaN  \n",
       "0.128     NaN     NaN     NaN  \n",
       "0.136     NaN     NaN     NaN  \n",
       "0.144     NaN     NaN     NaN  \n",
       "0.152     NaN     NaN     NaN  \n",
       "\n",
       "[12 rows x 32 columns]"
      ]
     },
     "execution_count": 100,
     "metadata": {},
     "output_type": "execute_result"
    }
   ],
   "source": [
    "cluster_df_cleaned = (\n",
    "    cluster_df[cluster_df]\n",
    "    .dropna(how='all', axis='columns')\n",
    "    .dropna(how='all', axis='index')\n",
    ")\n",
    "cluster_df_cleaned"
   ]
  },
  {
   "cell_type": "code",
   "execution_count": 106,
   "metadata": {},
   "outputs": [],
   "source": [
    "cluster_channels = cluster_df_cleaned.columns\n",
    "cluster_times = cluster_df_cleaned.index"
   ]
  },
  {
   "cell_type": "code",
   "execution_count": 82,
   "metadata": {},
   "outputs": [
    {
     "data": {
      "text/plain": [
       "<Layout | Vectorview-mag - Channels: MEG0111, MEG0121, MEG0131 ...>"
      ]
     },
     "execution_count": 82,
     "metadata": {},
     "output_type": "execute_result"
    }
   ],
   "source": [
    "\n",
    "channel_layout = mne.find_layout(info, ch_type=ch_type)\n",
    "channel_layout"
   ]
  },
  {
   "cell_type": "code",
   "execution_count": 107,
   "metadata": {},
   "outputs": [
    {
     "data": {
      "text/plain": [
       "(102, 4)"
      ]
     },
     "execution_count": 107,
     "metadata": {},
     "output_type": "execute_result"
    }
   ],
   "source": [
    "channel_positions = channel_layout.pos\n",
    "channel_positions.shape"
   ]
  },
  {
   "cell_type": "code",
   "execution_count": 102,
   "metadata": {},
   "outputs": [
    {
     "data": {
      "text/plain": [
       "(32, 102)"
      ]
     },
     "execution_count": 102,
     "metadata": {},
     "output_type": "execute_result"
    }
   ],
   "source": [
    "T_obs.shape"
   ]
  },
  {
   "cell_type": "code",
   "execution_count": 134,
   "metadata": {},
   "outputs": [
    {
     "data": {
      "text/plain": [
       "array([ 8,  9, 10, 11, 12, 13, 14, 15, 16, 17, 18, 19])"
      ]
     },
     "execution_count": 134,
     "metadata": {},
     "output_type": "execute_result"
    }
   ],
   "source": [
    "time_indices = np.where((times >= cluster_times[0]) & (times <= cluster_times[-1]))[0]\n",
    "time_indices"
   ]
  },
  {
   "cell_type": "code",
   "execution_count": 138,
   "metadata": {},
   "outputs": [
    {
     "data": {
      "text/plain": [
       "array([ 5,  9, 10, 12, 13, 14, 15, 18, 20, 21, 22, 23, 24, 25, 28, 29, 32,\n",
       "       33, 34, 35, 36, 37, 38, 39, 40, 41, 44, 45, 46, 49, 67, 91])"
      ]
     },
     "execution_count": 138,
     "metadata": {},
     "output_type": "execute_result"
    }
   ],
   "source": [
    "channel_indices = np.array([\n",
    "    all_evoked_contrasts_cropped[0].ch_names.index(ch_name)\n",
    "    for ch_name in cluster_channels\n",
    "])\n",
    "channel_indices"
   ]
  },
  {
   "cell_type": "code",
   "execution_count": 125,
   "metadata": {},
   "outputs": [
    {
     "data": {
      "text/plain": [
       "32"
      ]
     },
     "execution_count": 125,
     "metadata": {},
     "output_type": "execute_result"
    }
   ],
   "source": [
    "len(channel_indices)"
   ]
  },
  {
   "cell_type": "code",
   "execution_count": 142,
   "metadata": {},
   "outputs": [
    {
     "data": {
      "text/plain": [
       "(12, 32)"
      ]
     },
     "execution_count": 142,
     "metadata": {},
     "output_type": "execute_result"
    }
   ],
   "source": [
    "T_obs[time_indices,:][:,channel_indices]"
   ]
  },
  {
   "cell_type": "code",
   "execution_count": 136,
   "metadata": {},
   "outputs": [
    {
     "data": {
      "text/plain": [
       "array([ 8,  9, 10, 11, 12, 13, 14, 15, 16, 17, 18, 19])"
      ]
     },
     "execution_count": 136,
     "metadata": {},
     "output_type": "execute_result"
    }
   ],
   "source": [
    "time_indices"
   ]
  },
  {
   "cell_type": "code",
   "execution_count": 159,
   "metadata": {},
   "outputs": [
    {
     "data": {
      "text/plain": [
       "array([ 5,  9, 10, 12, 13, 14, 15, 18, 20, 21, 22, 23, 24, 25, 28, 29, 32,\n",
       "       33, 34, 35, 36, 37, 38, 39, 40, 41, 44, 45, 46, 49, 67, 91])"
      ]
     },
     "execution_count": 159,
     "metadata": {},
     "output_type": "execute_result"
    }
   ],
   "source": [
    "channel_indices"
   ]
  },
  {
   "cell_type": "code",
   "execution_count": 169,
   "metadata": {},
   "outputs": [
    {
     "data": {
      "text/plain": [
       "(12, 102)"
      ]
     },
     "execution_count": 169,
     "metadata": {},
     "output_type": "execute_result"
    }
   ],
   "source": [
    "T_vals_cluster = T_obs[time_indices, :]\n",
    "T_vals_cluster.shape"
   ]
  },
  {
   "cell_type": "code",
   "execution_count": 170,
   "metadata": {},
   "outputs": [
    {
     "data": {
      "text/plain": [
       "(102,)"
      ]
     },
     "execution_count": 170,
     "metadata": {},
     "output_type": "execute_result"
    }
   ],
   "source": [
    "T_vals_cluster_time_average = T_vals_cluster.mean(axis=0)\n",
    "T_vals_cluster_time_average.shape"
   ]
  },
  {
   "cell_type": "code",
   "execution_count": 206,
   "metadata": {},
   "outputs": [
    {
     "data": {
      "image/svg+xml": "<?xml version=\"1.0\" encoding=\"utf-8\" standalone=\"no\"?>\n<!DOCTYPE svg PUBLIC \"-//W3C//DTD SVG 1.1//EN\"\n  \"http://www.w3.org/Graphics/SVG/1.1/DTD/svg11.dtd\">\n<svg xmlns:xlink=\"http://www.w3.org/1999/xlink\" width=\"252pt\" height=\"280.5555pt\" viewBox=\"0 0 252 280.5555\" xmlns=\"http://www.w3.org/2000/svg\" version=\"1.1\">\n <metadata>\n  <rdf:RDF xmlns:dc=\"http://purl.org/dc/elements/1.1/\" xmlns:cc=\"http://creativecommons.org/ns#\" xmlns:rdf=\"http://www.w3.org/1999/02/22-rdf-syntax-ns#\">\n   <cc:Work>\n    <dc:type rdf:resource=\"http://purl.org/dc/dcmitype/StillImage\"/>\n    <dc:date>2022-04-27T23:13:30.802445</dc:date>\n    <dc:format>image/svg+xml</dc:format>\n    <dc:creator>\n     <cc:Agent>\n      <dc:title>Matplotlib v3.5.1, https://matplotlib.org/</dc:title>\n     </cc:Agent>\n    </dc:creator>\n   </cc:Work>\n  </rdf:RDF>\n </metadata>\n <defs>\n  <style type=\"text/css\">*{stroke-linejoin: round; stroke-linecap: butt}</style>\n </defs>\n <g id=\"figure_1\">\n  <g id=\"patch_1\">\n   <path d=\"M 0 280.5555 \nL 252 280.5555 \nL 252 0 \nL 0 0 \nL 0 280.5555 \nz\n\" style=\"fill: none\"/>\n  </g>\n  <g id=\"axes_1\">\n   <g clip-path=\"url(#p4714ec9a6e)\">\n    <image xlink:href=\"data:image/png;base64,\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\" id=\"imageeb11a6fdf2\" transform=\"scale(1 -1)translate(0 -238)\" x=\"7.2\" y=\"-35.3555\" width=\"238\" height=\"238\"/>\n   </g>\n   <g id=\"PathCollection_1\">\n    <defs>\n     <path id=\"C0_0_92fcd9eb33\" d=\"M 0 0.25 \nC 0.066301 0.25 0.129895 0.223658 0.176777 0.176777 \nC 0.223658 0.129895 0.25 0.066301 0.25 -0 \nC 0.25 -0.066301 0.223658 -0.129895 0.176777 -0.176777 \nC 0.129895 -0.223658 0.066301 -0.25 0 -0.25 \nC -0.066301 -0.25 -0.129895 -0.223658 -0.176777 -0.176777 \nC -0.223658 -0.129895 -0.25 -0.066301 -0.25 0 \nC -0.25 0.066301 -0.223658 0.129895 -0.176777 0.176777 \nC -0.129895 0.223658 -0.066301 0.25 0 0.25 \nz\n\"/>\n    </defs>\n    <g clip-path=\"url(#p40c48ad2e2)\">\n     <use xlink:href=\"#C0_0_92fcd9eb33\" x=\"18.15008\" y=\"107.611446\" style=\"fill: none; stroke: #000000\"/>\n    </g>\n    <g clip-path=\"url(#p40c48ad2e2)\">\n     <use xlink:href=\"#C0_0_92fcd9eb33\" x=\"44.643231\" y=\"104.225966\" style=\"fill: none; stroke: #000000\"/>\n    </g>\n    <g clip-path=\"url(#p40c48ad2e2)\">\n     <use xlink:href=\"#C0_0_92fcd9eb33\" x=\"37.979571\" y=\"130.055803\" style=\"fill: none; stroke: #000000\"/>\n    </g>\n    <g clip-path=\"url(#p40c48ad2e2)\">\n     <use xlink:href=\"#C0_0_92fcd9eb33\" x=\"10.592193\" y=\"140.798973\" style=\"fill: none; stroke: #000000\"/>\n    </g>\n    <g clip-path=\"url(#p40c48ad2e2)\">\n     <use xlink:href=\"#C0_0_92fcd9eb33\" x=\"55.280029\" y=\"132.891746\" style=\"fill: none; stroke: #000000\"/>\n    </g>\n    <g clip-path=\"url(#p40c48ad2e2)\">\n     <use xlink:href=\"#C0_0_92fcd9eb33\" x=\"69.30478\" y=\"152.088052\" style=\"fill: none; stroke: #000000\"/>\n    </g>\n    <g clip-path=\"url(#p40c48ad2e2)\">\n     <use xlink:href=\"#C0_0_92fcd9eb33\" x=\"54.446838\" y=\"155.282263\" style=\"fill: none; stroke: #000000\"/>\n    </g>\n    <g clip-path=\"url(#p40c48ad2e2)\">\n     <use xlink:href=\"#C0_0_92fcd9eb33\" x=\"69.219778\" y=\"89.400025\" style=\"fill: none; stroke: #000000\"/>\n    </g>\n    <g clip-path=\"url(#p40c48ad2e2)\">\n     <use xlink:href=\"#C0_0_92fcd9eb33\" x=\"59.808833\" y=\"111.06599\" style=\"fill: none; stroke: #000000\"/>\n    </g>\n    <g clip-path=\"url(#p40c48ad2e2)\">\n     <use xlink:href=\"#C0_0_92fcd9eb33\" x=\"84.67503\" y=\"73.203041\" style=\"fill: none; stroke: #000000\"/>\n    </g>\n    <g clip-path=\"url(#p40c48ad2e2)\">\n     <use xlink:href=\"#C0_0_92fcd9eb33\" x=\"104.759268\" y=\"65.178086\" style=\"fill: none; stroke: #000000\"/>\n    </g>\n    <g clip-path=\"url(#p40c48ad2e2)\">\n     <use xlink:href=\"#C0_0_92fcd9eb33\" x=\"87.457735\" y=\"92.096379\" style=\"fill: none; stroke: #000000\"/>\n    </g>\n    <g clip-path=\"url(#p40c48ad2e2)\">\n     <use xlink:href=\"#C0_0_92fcd9eb33\" x=\"134.249237\" y=\"164.889221\" style=\"fill: none; stroke: #000000\"/>\n    </g>\n    <g clip-path=\"url(#p40c48ad2e2)\">\n     <use xlink:href=\"#C0_0_92fcd9eb33\" x=\"117.793256\" y=\"165.069005\" style=\"fill: none; stroke: #000000\"/>\n    </g>\n    <g clip-path=\"url(#p40c48ad2e2)\">\n     <use xlink:href=\"#C0_0_92fcd9eb33\" x=\"147.184791\" y=\"65.14417\" style=\"fill: none; stroke: #000000\"/>\n    </g>\n    <g clip-path=\"url(#p40c48ad2e2)\">\n     <use xlink:href=\"#C0_0_92fcd9eb33\" x=\"167.406096\" y=\"73.236\" style=\"fill: none; stroke: #000000\"/>\n    </g>\n    <g clip-path=\"url(#p40c48ad2e2)\">\n     <use xlink:href=\"#C0_0_92fcd9eb33\" x=\"182.870472\" y=\"89.504124\" style=\"fill: none; stroke: #000000\"/>\n    </g>\n    <g clip-path=\"url(#p40c48ad2e2)\">\n     <use xlink:href=\"#C0_0_92fcd9eb33\" x=\"192.159606\" y=\"111.020764\" style=\"fill: none; stroke: #000000\"/>\n    </g>\n    <g clip-path=\"url(#p40c48ad2e2)\">\n     <use xlink:href=\"#C0_0_92fcd9eb33\" x=\"196.68269\" y=\"132.903166\" style=\"fill: none; stroke: #000000\"/>\n    </g>\n    <g clip-path=\"url(#p40c48ad2e2)\">\n     <use xlink:href=\"#C0_0_92fcd9eb33\" x=\"197.671597\" y=\"155.283466\" style=\"fill: none; stroke: #000000\"/>\n    </g>\n    <g clip-path=\"url(#p40c48ad2e2)\">\n     <use xlink:href=\"#C0_0_92fcd9eb33\" x=\"207.564028\" y=\"104.177716\" style=\"fill: none; stroke: #000000\"/>\n    </g>\n    <g clip-path=\"url(#p40c48ad2e2)\">\n     <use xlink:href=\"#C0_0_92fcd9eb33\" x=\"233.413903\" y=\"107.253039\" style=\"fill: none; stroke: #000000\"/>\n    </g>\n    <g clip-path=\"url(#p40c48ad2e2)\">\n     <use xlink:href=\"#C0_0_92fcd9eb33\" x=\"240.936982\" y=\"140.842618\" style=\"fill: none; stroke: #000000\"/>\n    </g>\n    <g clip-path=\"url(#p40c48ad2e2)\">\n     <use xlink:href=\"#C0_0_92fcd9eb33\" x=\"213.654705\" y=\"130.193482\" style=\"fill: none; stroke: #000000\"/>\n    </g>\n    <g clip-path=\"url(#p40c48ad2e2)\">\n     <use xlink:href=\"#C0_0_92fcd9eb33\" x=\"36.076634\" y=\"157.200305\" style=\"fill: none; stroke: #000000\"/>\n    </g>\n    <g clip-path=\"url(#p40c48ad2e2)\">\n     <use xlink:href=\"#C0_0_92fcd9eb33\" x=\"41.973478\" y=\"184.2994\" style=\"fill: none; stroke: #000000\"/>\n    </g>\n    <g clip-path=\"url(#p40c48ad2e2)\">\n     <use xlink:href=\"#C0_0_92fcd9eb33\" x=\"25.558494\" y=\"209.898664\" style=\"fill: none; stroke: #000000\"/>\n    </g>\n    <g clip-path=\"url(#p40c48ad2e2)\">\n     <use xlink:href=\"#C0_0_92fcd9eb33\" x=\"13.116722\" y=\"176.223172\" style=\"fill: none; stroke: #000000\"/>\n    </g>\n    <g clip-path=\"url(#p40c48ad2e2)\">\n     <use xlink:href=\"#C0_0_92fcd9eb33\" x=\"58.268018\" y=\"177.132827\" style=\"fill: none; stroke: #000000\"/>\n    </g>\n    <g clip-path=\"url(#p40c48ad2e2)\">\n     <use xlink:href=\"#C0_0_92fcd9eb33\" x=\"72.360273\" y=\"171.909529\" style=\"fill: none; stroke: #000000\"/>\n    </g>\n    <g clip-path=\"url(#p40c48ad2e2)\">\n     <use xlink:href=\"#C0_0_92fcd9eb33\" x=\"82.03528\" y=\"189.90741\" style=\"fill: none; stroke: #000000\"/>\n    </g>\n    <g clip-path=\"url(#p40c48ad2e2)\">\n     <use xlink:href=\"#C0_0_92fcd9eb33\" x=\"68.28402\" y=\"197.209345\" style=\"fill: none; stroke: #000000\"/>\n    </g>\n    <g clip-path=\"url(#p40c48ad2e2)\">\n     <use xlink:href=\"#C0_0_92fcd9eb33\" x=\"46.521444\" y=\"238.12332\" style=\"fill: none; stroke: #000000\"/>\n    </g>\n    <g clip-path=\"url(#p40c48ad2e2)\">\n     <use xlink:href=\"#C0_0_92fcd9eb33\" x=\"54.890726\" y=\"209.064353\" style=\"fill: none; stroke: #000000\"/>\n    </g>\n    <g clip-path=\"url(#p40c48ad2e2)\">\n     <use xlink:href=\"#C0_0_92fcd9eb33\" x=\"74.121761\" y=\"228.84317\" style=\"fill: none; stroke: #000000\"/>\n    </g>\n    <g clip-path=\"url(#p40c48ad2e2)\">\n     <use xlink:href=\"#C0_0_92fcd9eb33\" x=\"74.8896\" y=\"258.44862\" style=\"fill: none; stroke: #000000\"/>\n    </g>\n    <g clip-path=\"url(#p40c48ad2e2)\">\n     <use xlink:href=\"#C0_0_92fcd9eb33\" x=\"86.732981\" y=\"168.893458\" style=\"fill: none; stroke: #000000\"/>\n    </g>\n    <g clip-path=\"url(#p40c48ad2e2)\">\n     <use xlink:href=\"#C0_0_92fcd9eb33\" x=\"117.651859\" y=\"179.553799\" style=\"fill: none; stroke: #000000\"/>\n    </g>\n    <g clip-path=\"url(#p40c48ad2e2)\">\n     <use xlink:href=\"#C0_0_92fcd9eb33\" x=\"98.495349\" y=\"185.797199\" style=\"fill: none; stroke: #000000\"/>\n    </g>\n    <g clip-path=\"url(#p40c48ad2e2)\">\n     <use xlink:href=\"#C0_0_92fcd9eb33\" x=\"97.154511\" y=\"202.968687\" style=\"fill: none; stroke: #000000\"/>\n    </g>\n    <g clip-path=\"url(#p40c48ad2e2)\">\n     <use xlink:href=\"#C0_0_92fcd9eb33\" x=\"103.754288\" y=\"223.151976\" style=\"fill: none; stroke: #000000\"/>\n    </g>\n    <g clip-path=\"url(#p40c48ad2e2)\">\n     <use xlink:href=\"#C0_0_92fcd9eb33\" x=\"98.820485\" y=\"240.856613\" style=\"fill: none; stroke: #000000\"/>\n    </g>\n    <g clip-path=\"url(#p40c48ad2e2)\">\n     <use xlink:href=\"#C0_0_92fcd9eb33\" x=\"83.715542\" y=\"213.328233\" style=\"fill: none; stroke: #000000\"/>\n    </g>\n    <g clip-path=\"url(#p40c48ad2e2)\">\n     <use xlink:href=\"#C0_0_92fcd9eb33\" x=\"116.720115\" y=\"194.518877\" style=\"fill: none; stroke: #000000\"/>\n    </g>\n    <g clip-path=\"url(#p40c48ad2e2)\">\n     <use xlink:href=\"#C0_0_92fcd9eb33\" x=\"135.283581\" y=\"194.584707\" style=\"fill: none; stroke: #000000\"/>\n    </g>\n    <g clip-path=\"url(#p40c48ad2e2)\">\n     <use xlink:href=\"#C0_0_92fcd9eb33\" x=\"135.480035\" y=\"209.079727\" style=\"fill: none; stroke: #000000\"/>\n    </g>\n    <g clip-path=\"url(#p40c48ad2e2)\">\n     <use xlink:href=\"#C0_0_92fcd9eb33\" x=\"116.463617\" y=\"209.081171\" style=\"fill: none; stroke: #000000\"/>\n    </g>\n    <g clip-path=\"url(#p40c48ad2e2)\">\n     <use xlink:href=\"#C0_0_92fcd9eb33\" x=\"126\" y=\"226.353903\" style=\"fill: none; stroke: #000000\"/>\n    </g>\n    <g clip-path=\"url(#p40c48ad2e2)\">\n     <use xlink:href=\"#C0_0_92fcd9eb33\" x=\"126\" y=\"245.12333\" style=\"fill: none; stroke: #000000\"/>\n    </g>\n    <g clip-path=\"url(#p40c48ad2e2)\">\n     <use xlink:href=\"#C0_0_92fcd9eb33\" x=\"143.707029\" y=\"268.922076\" style=\"fill: none; stroke: #000000\"/>\n    </g>\n    <g clip-path=\"url(#p40c48ad2e2)\">\n     <use xlink:href=\"#C0_0_92fcd9eb33\" x=\"108.177193\" y=\"268.996678\" style=\"fill: none; stroke: #000000\"/>\n    </g>\n    <g clip-path=\"url(#p40c48ad2e2)\">\n     <use xlink:href=\"#C0_0_92fcd9eb33\" x=\"149.885833\" y=\"167.306931\" style=\"fill: none; stroke: #000000\"/>\n    </g>\n    <g clip-path=\"url(#p40c48ad2e2)\">\n     <use xlink:href=\"#C0_0_92fcd9eb33\" x=\"165.242665\" y=\"168.734784\" style=\"fill: none; stroke: #000000\"/>\n    </g>\n    <g clip-path=\"url(#p40c48ad2e2)\">\n     <use xlink:href=\"#C0_0_92fcd9eb33\" x=\"153.56736\" y=\"185.86165\" style=\"fill: none; stroke: #000000\"/>\n    </g>\n    <g clip-path=\"url(#p40c48ad2e2)\">\n     <use xlink:href=\"#C0_0_92fcd9eb33\" x=\"134.395426\" y=\"179.557263\" style=\"fill: none; stroke: #000000\"/>\n    </g>\n    <g clip-path=\"url(#p40c48ad2e2)\">\n     <use xlink:href=\"#C0_0_92fcd9eb33\" x=\"154.845489\" y=\"202.968687\" style=\"fill: none; stroke: #000000\"/>\n    </g>\n    <g clip-path=\"url(#p40c48ad2e2)\">\n     <use xlink:href=\"#C0_0_92fcd9eb33\" x=\"168.304902\" y=\"213.264344\" style=\"fill: none; stroke: #000000\"/>\n    </g>\n    <g clip-path=\"url(#p40c48ad2e2)\">\n     <use xlink:href=\"#C0_0_92fcd9eb33\" x=\"153.080257\" y=\"240.802015\" style=\"fill: none; stroke: #000000\"/>\n    </g>\n    <g clip-path=\"url(#p40c48ad2e2)\">\n     <use xlink:href=\"#C0_0_92fcd9eb33\" x=\"148.100901\" y=\"223.181117\" style=\"fill: none; stroke: #000000\"/>\n    </g>\n    <g clip-path=\"url(#p40c48ad2e2)\">\n     <use xlink:href=\"#C0_0_92fcd9eb33\" x=\"179.614154\" y=\"171.788621\" style=\"fill: none; stroke: #000000\"/>\n    </g>\n    <g clip-path=\"url(#p40c48ad2e2)\">\n     <use xlink:href=\"#C0_0_92fcd9eb33\" x=\"183.682558\" y=\"197.118036\" style=\"fill: none; stroke: #000000\"/>\n    </g>\n    <g clip-path=\"url(#p40c48ad2e2)\">\n     <use xlink:href=\"#C0_0_92fcd9eb33\" x=\"169.968866\" y=\"189.967043\" style=\"fill: none; stroke: #000000\"/>\n    </g>\n    <g clip-path=\"url(#p40c48ad2e2)\">\n     <use xlink:href=\"#C0_0_92fcd9eb33\" x=\"177.646325\" y=\"228.827833\" style=\"fill: none; stroke: #000000\"/>\n    </g>\n    <g clip-path=\"url(#p40c48ad2e2)\">\n     <use xlink:href=\"#C0_0_92fcd9eb33\" x=\"197.002408\" y=\"209.064901\" style=\"fill: none; stroke: #000000\"/>\n    </g>\n    <g clip-path=\"url(#p40c48ad2e2)\">\n     <use xlink:href=\"#C0_0_92fcd9eb33\" x=\"205.315405\" y=\"238.166722\" style=\"fill: none; stroke: #000000\"/>\n    </g>\n    <g clip-path=\"url(#p40c48ad2e2)\">\n     <use xlink:href=\"#C0_0_92fcd9eb33\" x=\"177.014899\" y=\"258.466996\" style=\"fill: none; stroke: #000000\"/>\n    </g>\n    <g clip-path=\"url(#p40c48ad2e2)\">\n     <use xlink:href=\"#C0_0_92fcd9eb33\" x=\"215.606849\" y=\"157.275855\" style=\"fill: none; stroke: #000000\"/>\n    </g>\n    <g clip-path=\"url(#p40c48ad2e2)\">\n     <use xlink:href=\"#C0_0_92fcd9eb33\" x=\"238.546333\" y=\"176.263876\" style=\"fill: none; stroke: #000000\"/>\n    </g>\n    <g clip-path=\"url(#p40c48ad2e2)\">\n     <use xlink:href=\"#C0_0_92fcd9eb33\" x=\"226.222118\" y=\"209.777782\" style=\"fill: none; stroke: #000000\"/>\n    </g>\n    <g clip-path=\"url(#p40c48ad2e2)\">\n     <use xlink:href=\"#C0_0_92fcd9eb33\" x=\"209.844897\" y=\"184.317553\" style=\"fill: none; stroke: #000000\"/>\n    </g>\n   </g>\n   <g id=\"matplotlib.axis_1\"/>\n   <g id=\"matplotlib.axis_2\"/>\n   <g id=\"PathCollection_2\"/>\n   <g id=\"PathCollection_3\">\n    <path d=\"M 7.2 216.287957 \nL 10.971429 214.661874 \nL 11.930082 213.012643 \nL 11.14775 209.241214 \nL 10.692735 205.469786 \nL 10.971429 204.900084 \nL 12.689603 197.926929 \nL 13.15525 194.1555 \nL 13.312774 190.384071 \nL 13.249423 186.612643 \nL 13.022406 182.841214 \nL 12.673365 179.069786 \nL 11.662836 171.526929 \nL 11.465704 167.7555 \nL 11.458561 163.984071 \nL 11.634862 160.212643 \nL 11.987111 156.441214 \nL 12.507462 152.669786 \nL 13.188153 148.898357 \nL 14.242767 145.126929 \nL 14.742857 144.16324 \nL 16.389551 141.3555 \nL 18.514286 136.147377 \nL 19.38334 133.812643 \nL 22.285714 128.394197 \nL 23.765931 126.269786 \nL 26.057143 123.298106 \nL 27.064787 122.498357 \nL 29.828571 120.796398 \nL 33.6 119.892272 \nL 37.371429 119.932579 \nL 41.142857 122.021291 \nL 41.608963 122.498357 \nL 43.553925 126.269786 \nL 43.863304 133.812643 \nL 43.865668 137.584071 \nL 43.734975 141.3555 \nL 43.848358 148.898357 \nL 44.013957 152.669786 \nL 44.46824 156.441214 \nL 45.131409 160.212643 \nL 45.701561 163.984071 \nL 46.065731 167.7555 \nL 46.63352 171.526929 \nL 47.416622 175.298357 \nL 48.685714 179.451604 \nL 50.207214 182.841214 \nL 52.464097 186.612643 \nL 54.52976 190.384071 \nL 56.437378 194.1555 \nL 58.63386 197.926929 \nL 60 199.94376 \nL 61.424594 201.698357 \nL 63.771429 204.146073 \nL 67.542857 207.641298 \nL 69.441283 209.241214 \nL 71.314286 211.180058 \nL 73.339664 213.012643 \nL 75.085714 214.803428 \nL 81.316102 220.5555 \nL 84.530881 224.326929 \nL 86.4 226.165613 \nL 90.171429 228.690546 \nL 93.942857 230.427647 \nL 97.714286 231.357407 \nL 101.485714 231.09444 \nL 105.257143 229.490227 \nL 109.028571 226.973961 \nL 112.097642 224.326929 \nL 112.8 223.571816 \nL 114.925144 220.5555 \nL 120.342857 211.534 \nL 125.586229 201.698357 \nL 130.190971 194.1555 \nL 132.359187 190.384071 \nL 135.428571 186.288154 \nL 139.2 182.620566 \nL 142.971429 180.526983 \nL 146.742857 179.301034 \nL 150.514286 178.669255 \nL 154.285714 178.300376 \nL 158.057143 178.665284 \nL 161.828571 179.51715 \nL 165.6 180.542013 \nL 169.371429 181.929714 \nL 170.781607 182.841214 \nL 173.142857 184.854787 \nL 174.504265 186.612643 \nL 176.723826 190.384071 \nL 177.946355 194.1555 \nL 178.002784 197.926929 \nL 176.016784 205.469786 \nL 174.309121 209.241214 \nL 171.9469 213.012643 \nL 169.371429 217.198361 \nL 167.784111 220.5555 \nL 166.880775 224.326929 \nL 166.640891 228.098357 \nL 167.261008 231.869786 \nL 168.349521 235.641214 \nL 169.785595 239.412643 \nL 171.626324 243.184071 \nL 173.142857 245.814103 \nL 174.043987 246.9555 \nL 176.914286 250.303958 \nL 180.685714 252.038153 \nL 184.457143 252.606146 \nL 191.097543 254.498357 \nL 192 254.942949 \nL 195.771429 256.506904 \nL 200.566061 258.269786 \nL 203.314286 260.052494 \nL 205.622585 262.041214 \nL 207.085714 265.965285 \nL 208.193486 269.584071 \nL 209.882576 273.3555 \nL 209.882576 273.3555 \n\" clip-path=\"url(#p4714ec9a6e)\" style=\"fill: none; stroke-dasharray: 1.85,0.8; stroke-dashoffset: 0; stroke: #000000; stroke-width: 0.5\"/>\n    <path d=\"M 244.8 152.876908 \nL 241.028571 153.656067 \nL 237.257143 156.308272 \nL 237.172174 156.441214 \nL 234.673977 160.212643 \nL 233.485714 162.027228 \nL 231.70371 163.984071 \nL 229.714286 165.532253 \nL 225.942857 165.26397 \nL 224.53856 163.984071 \nL 222.171429 160.686521 \nL 222.018656 160.212643 \nL 221.632828 156.441214 \nL 222.171429 152.728119 \nL 222.184725 152.669786 \nL 223.943535 148.898357 \nL 225.942857 145.141674 \nL 225.954903 145.126929 \nL 228.958466 141.3555 \nL 229.714286 138.731237 \nL 230.080116 137.584071 \nL 229.714286 136.834388 \nL 228.664163 133.812643 \nL 226.890667 130.041214 \nL 225.942857 128.290079 \nL 225.072075 126.269786 \nL 223.362356 122.498357 \nL 222.171429 119.955522 \nL 221.619996 118.726929 \nL 219.12126 114.9555 \nL 218.4 114.042276 \nL 216.44782 111.184071 \nL 214.628571 108.424413 \nL 214.076676 107.412643 \nL 212.283634 103.641214 \nL 210.905675 99.869786 \nL 210.857143 99.429774 \nL 210.560278 96.098357 \nL 210.821939 92.326929 \nL 210.857143 92.168619 \nL 211.752718 88.5555 \nL 213.369016 84.784071 \nL 214.628571 82.68273 \nL 215.73601 81.012643 \nL 218.4 77.804872 \nL 218.91901 77.241214 \nL 222.171429 74.202636 \nL 223.043532 73.469786 \nL 225.942857 71.265536 \nL 228.496142 69.698357 \nL 229.714286 68.947432 \nL 233.485714 68.33294 \nL 237.257143 67.321566 \nL 239.691079 65.926929 \nL 241.028571 65.204545 \nL 244.8 62.935642 \n\" clip-path=\"url(#p4714ec9a6e)\" style=\"fill: none; stroke-dasharray: 1.85,0.8; stroke-dashoffset: 0; stroke: #000000; stroke-width: 0.5\"/>\n   </g>\n   <g id=\"PathCollection_4\">\n    <path d=\"M 7.2 103.704933 \nL 7.530304 103.641214 \nL 10.971429 102.835888 \nL 14.742857 101.221727 \nL 16.322738 99.869786 \nL 18.514286 97.161883 \nL 19.138932 96.098357 \nL 20.535005 92.326929 \nL 21.317694 88.5555 \nL 21.59026 84.784071 \nL 21.391975 81.012643 \nL 20.660566 77.241214 \nL 18.996669 73.469786 \nL 18.514286 72.877626 \nL 16.148517 69.698357 \nL 14.742857 68.560305 \nL 13.448886 69.698357 \nL 10.971429 71.502537 \nL 9.741405 73.469786 \nL 7.2 77.228373 \n\" clip-path=\"url(#p4714ec9a6e)\" style=\"fill: none; stroke: #000000; stroke-width: 0.5\"/>\n    <path d=\"M 19.1964 50.1591 \nL 19.719136 50.841214 \nL 21.831064 54.612643 \nL 22.285714 56.865683 \nL 22.842432 58.384071 \nL 22.285714 59.55422 \nL 21.690544 62.1555 \nL 22.285714 66.150169 \nL 23.641464 69.698357 \nL 25.750475 73.469786 \nL 26.057143 73.716331 \nL 28.428792 77.241214 \nL 29.828571 78.447194 \nL 33.6 81.89509 \nL 37.371429 84.332281 \nL 38.279648 84.784071 \nL 44.914286 87.41962 \nL 46.653313 88.5555 \nL 48.685714 89.566305 \nL 52.457143 92.455574 \nL 56.42518 96.098357 \nL 59.562183 99.869786 \nL 60 100.628368 \nL 61.074239 103.641214 \nL 61.700199 107.412643 \nL 61.89652 111.184071 \nL 61.925493 114.9555 \nL 61.727303 118.726929 \nL 61.225525 122.498357 \nL 60 128.005258 \nL 59.513795 130.041214 \nL 57.315039 137.584071 \nL 56.042237 141.3555 \nL 55.121358 145.126929 \nL 54.35818 148.898357 \nL 53.749151 152.669786 \nL 53.521002 156.441214 \nL 53.733124 160.212643 \nL 54.232209 163.984071 \nL 54.944344 167.7555 \nL 56.228571 173.151811 \nL 56.978143 175.298357 \nL 58.455252 179.069786 \nL 60 181.998848 \nL 60.583868 182.841214 \nL 63.771429 186.873225 \nL 72.065919 194.1555 \nL 75.085714 196.588125 \nL 78.857143 199.214204 \nL 82.771803 201.698357 \nL 88.17025 205.469786 \nL 90.171429 206.738646 \nL 93.942857 208.290099 \nL 97.714286 209.011097 \nL 101.485714 208.18417 \nL 105.257143 205.93382 \nL 109.028571 202.634139 \nL 112.967747 197.926929 \nL 118.095828 190.384071 \nL 120.519972 186.612643 \nL 124.81404 179.069786 \nL 126.242347 175.298357 \nL 127.885714 173.191006 \nL 132.188545 171.526929 \nL 139.2 169.31133 \nL 142.971429 168.561993 \nL 146.742857 168.191471 \nL 150.514286 168.167744 \nL 154.285714 168.613208 \nL 158.057143 169.495268 \nL 161.828571 170.675496 \nL 165.6 172.077491 \nL 169.371429 173.668023 \nL 173.142857 175.618873 \nL 176.914286 178.176705 \nL 177.963805 179.069786 \nL 180.685714 182.167654 \nL 181.514504 182.841214 \nL 188.228571 189.304803 \nL 192 189.515419 \nL 195.771429 188.349264 \nL 199.542857 185.591897 \nL 202.267343 182.841214 \nL 203.314286 181.492544 \nL 204.693363 179.069786 \nL 206.020697 175.298357 \nL 207.085714 171.32714 \nL 207.876894 167.7555 \nL 209.130599 160.212643 \nL 209.858663 156.441214 \nL 210.376542 152.669786 \nL 210.943836 145.126929 \nL 211.12413 141.3555 \nL 211.025092 137.584071 \nL 210.857143 136.735375 \nL 210.127711 133.812643 \nL 208.669004 130.041214 \nL 203.578226 118.726929 \nL 201.748902 114.9555 \nL 199.542857 110.212856 \nL 198.473398 107.412643 \nL 195.771429 99.449291 \nL 194.851164 96.098357 \nL 194.097413 92.326929 \nL 193.643819 88.5555 \nL 193.391836 84.784071 \nL 192.166479 81.012643 \nL 191.833184 77.241214 \nL 192.503651 73.469786 \nL 193.457725 69.698357 \nL 195.208148 65.926929 \nL 197.517296 62.1555 \nL 200.984393 58.384071 \nL 203.314286 56.390658 \nL 207.085714 53.668726 \nL 210.857143 51.922201 \nL 215.088989 50.841214 \nL 218.4 50.183427 \nL 222.171429 49.297723 \nL 225.942857 48.233243 \nL 229.606046 46.961546 \nL 229.606046 46.961546 \n\" clip-path=\"url(#p4714ec9a6e)\" style=\"fill: none; stroke: #000000; stroke-width: 0.5\"/>\n   </g>\n   <g id=\"PathCollection_5\">\n    <path d=\"M 90.171429 187.071188 \nL 93.942857 187.866379 \nL 97.714286 187.468992 \nL 99.387294 186.612643 \nL 101.485714 185.427843 \nL 104.455922 182.841214 \nL 105.257143 181.95998 \nL 107.23739 179.069786 \nL 109.028571 175.675104 \nL 109.193148 175.298357 \nL 110.270537 171.526929 \nL 110.719844 167.7555 \nL 111.990256 163.984071 \nL 112.8 162.850782 \nL 115.682191 160.212643 \nL 116.571429 159.75623 \nL 120.342857 158.315869 \nL 124.114286 157.590376 \nL 127.498779 156.441214 \nL 127.885714 156.248373 \nL 131.657143 153.157597 \nL 132.510695 152.669786 \nL 135.428571 151.471462 \nL 139.2 151.141894 \nL 142.971429 151.899105 \nL 144.753293 152.669786 \nL 146.742857 153.674095 \nL 150.514286 155.550324 \nL 152.068899 156.441214 \nL 154.285714 157.504436 \nL 158.057143 159.618621 \nL 158.984895 160.212643 \nL 161.828571 161.806826 \nL 165.6 163.8935 \nL 165.791846 163.984071 \nL 169.371429 165.589785 \nL 173.142857 167.311366 \nL 174.14626 167.7555 \nL 176.914286 169.084326 \nL 180.685714 170.761893 \nL 182.562439 171.526929 \nL 184.457143 172.456561 \nL 188.228571 173.770937 \nL 192 173.611912 \nL 194.779241 171.526929 \nL 195.771429 170.707397 \nL 197.504064 167.7555 \nL 199.470832 163.984071 \nL 199.542857 163.816642 \nL 200.711665 160.212643 \nL 201.634259 156.441214 \nL 202.256779 152.669786 \nL 202.419079 148.898357 \nL 201.895675 145.126929 \nL 200.706376 141.3555 \nL 199.542857 138.661502 \nL 199.020949 137.584071 \nL 197.146046 133.812643 \nL 195.771429 130.79508 \nL 195.427593 130.041214 \nL 193.876439 126.269786 \nL 192.498199 122.498357 \nL 192 121.062638 \nL 191.219747 118.726929 \nL 190.066762 114.9555 \nL 189.024505 111.184071 \nL 188.228571 108.877312 \nL 187.7532 107.412643 \nL 186.387226 103.641214 \nL 184.908444 99.869786 \nL 184.457143 98.785508 \nL 183.356946 96.098357 \nL 181.732388 92.326929 \nL 180.685714 90.068054 \nL 179.971718 88.5555 \nL 177.718283 84.784071 \nL 176.914286 83.504177 \nL 175.086361 81.012643 \nL 173.142857 78.629262 \nL 171.809245 77.241214 \nL 169.371429 74.899684 \nL 167.497364 73.469786 \nL 165.6 71.993937 \nL 161.828571 69.892835 \nL 161.307651 69.698357 \nL 158.057143 68.259915 \nL 154.285714 67.119296 \nL 150.514286 66.443237 \nL 146.742857 66.112397 \nL 142.971429 66.11961 \nL 139.2 66.352744 \nL 135.428571 66.856348 \nL 131.657143 67.722644 \nL 127.885714 69.083194 \nL 126.626015 69.698357 \nL 124.114286 70.959024 \nL 120.342857 73.147771 \nL 119.882742 73.469786 \nL 116.571429 76.640898 \nL 116.094729 77.241214 \nL 113.648825 81.012643 \nL 112.8 82.475392 \nL 111.454256 84.784071 \nL 109.737779 88.5555 \nL 109.028571 90.610017 \nL 108.292301 92.326929 \nL 106.178065 96.098357 \nL 105.257143 97.254338 \nL 102.319691 99.869786 \nL 101.485714 100.517699 \nL 97.714286 102.841919 \nL 96.077921 103.641214 \nL 93.942857 104.672095 \nL 90.171429 106.714225 \nL 89.323278 107.412643 \nL 86.4 109.860297 \nL 85.059602 111.184071 \nL 82.628571 113.722154 \nL 81.754904 114.9555 \nL 79.786911 118.726929 \nL 78.861054 122.498357 \nL 78.857143 122.527155 \nL 78.393258 126.269786 \nL 78.072939 130.041214 \nL 77.762035 133.812643 \nL 77.493987 137.584071 \nL 77.26927 141.3555 \nL 77.266771 145.126929 \nL 77.536006 148.898357 \nL 77.306153 152.669786 \nL 76.209833 156.441214 \nL 75.085714 159.643668 \nL 74.87281 160.212643 \nL 73.780364 163.984071 \nL 73.363434 167.7555 \nL 73.587672 171.526929 \nL 75.085714 174.599661 \nL 75.41111 175.298357 \nL 78.240783 179.069786 \nL 78.857143 179.653334 \nL 82.086767 182.841214 \nL 82.628571 183.286232 \nL 86.4 185.569104 \nL 89.086323 186.612643 \nL 90.171429 187.071188 \nz\n\" clip-path=\"url(#p4714ec9a6e)\" style=\"fill: none; stroke: #000000; stroke-width: 0.5\"/>\n   </g>\n   <g id=\"PathCollection_6\">\n    <path d=\"M 169.371429 156.46228 \nL 173.142857 157.711675 \nL 176.914286 158.404013 \nL 180.685714 158.403018 \nL 184.457143 157.511979 \nL 186.134421 156.441214 \nL 188.167568 152.669786 \nL 187.825723 148.898357 \nL 186.921782 145.126929 \nL 185.676934 141.3555 \nL 184.457143 138.326006 \nL 184.191955 137.584071 \nL 182.924943 133.812643 \nL 182.014291 130.041214 \nL 181.380787 126.269786 \nL 180.903364 122.498357 \nL 180.685714 120.682512 \nL 180.446295 118.726929 \nL 179.89417 114.9555 \nL 179.125276 111.184071 \nL 177.967378 107.412643 \nL 176.914286 104.718466 \nL 176.477496 103.641214 \nL 174.753282 99.869786 \nL 173.142857 96.721596 \nL 172.778725 96.098357 \nL 170.4633 92.326929 \nL 169.371429 90.690977 \nL 167.554485 88.5555 \nL 165.6 86.752697 \nL 162.911971 84.784071 \nL 161.828571 84.056586 \nL 158.057143 81.698915 \nL 156.728371 81.012643 \nL 154.285714 79.691297 \nL 150.514286 78.207341 \nL 146.742857 77.55648 \nL 142.971429 78.112768 \nL 139.2 79.401973 \nL 135.88701 81.012643 \nL 135.428571 81.336264 \nL 131.657143 84.755445 \nL 131.62983 84.784071 \nL 128.705221 88.5555 \nL 127.885714 89.676671 \nL 125.841364 92.326929 \nL 124.114286 94.575758 \nL 123.043517 96.098357 \nL 120.429418 99.869786 \nL 120.342857 99.964374 \nL 117.159712 103.641214 \nL 116.571429 104.200435 \nL 113.315117 107.412643 \nL 112.8 107.964422 \nL 109.777421 111.184071 \nL 109.028571 111.936132 \nL 105.282008 114.9555 \nL 105.257143 114.976016 \nL 101.485714 117.967129 \nL 100.527748 118.726929 \nL 97.714286 120.780045 \nL 95.607291 122.498357 \nL 93.942857 124.598091 \nL 92.982537 126.269786 \nL 91.594431 130.041214 \nL 90.97963 133.812643 \nL 91.469924 137.584071 \nL 92.557594 141.3555 \nL 93.942857 144.729273 \nL 94.239754 145.126929 \nL 97.714286 147.726587 \nL 101.485714 148.682823 \nL 105.257143 148.877938 \nL 109.028571 148.844408 \nL 112.8 148.551729 \nL 116.571429 147.948991 \nL 120.342857 146.925611 \nL 124.114286 145.215359 \nL 124.293036 145.126929 \nL 127.885714 143.204485 \nL 130.812 141.3555 \nL 131.657143 140.784578 \nL 135.428571 139.178212 \nL 139.2 138.561843 \nL 142.971429 138.67616 \nL 146.742857 139.610931 \nL 150.394514 141.3555 \nL 150.514286 141.413255 \nL 154.285714 144.411799 \nL 154.989076 145.126929 \nL 158.057143 148.228913 \nL 158.733584 148.898357 \nL 161.828571 151.651724 \nL 163.111612 152.669786 \nL 165.6 154.399215 \nL 169.328441 156.441214 \nL 169.371429 156.46228 \nz\n\" clip-path=\"url(#p4714ec9a6e)\" style=\"fill: none; stroke: #000000; stroke-width: 0.5\"/>\n   </g>\n   <g id=\"PathCollection_7\">\n    <path d=\"M 109.028571 135.675539 \nL 112.8 137.270389 \nL 116.571429 137.167295 \nL 120.342857 135.632951 \nL 122.96616 133.812643 \nL 124.114286 132.930396 \nL 127.885714 130.110805 \nL 128.009794 130.041214 \nL 131.657143 127.973866 \nL 135.428571 126.621047 \nL 136.729235 126.269786 \nL 139.2 125.429092 \nL 142.971429 124.734363 \nL 146.742857 124.417391 \nL 150.514286 124.175869 \nL 154.285714 124.019771 \nL 158.057143 124.467362 \nL 161.828571 126.20166 \nL 163.828188 122.498357 \nL 164.190973 118.726929 \nL 163.723476 114.9555 \nL 162.622927 111.184071 \nL 161.828571 109.406248 \nL 159.353714 107.412643 \nL 158.057143 106.652132 \nL 154.285714 106.451624 \nL 150.514286 106.551696 \nL 146.742857 106.111022 \nL 142.971429 106.238483 \nL 139.2 106.999517 \nL 136.429122 107.412643 \nL 135.428571 107.559268 \nL 131.657143 108.758169 \nL 127.885714 110.48694 \nL 126.798186 111.184071 \nL 124.114286 113.008803 \nL 121.966773 114.9555 \nL 120.342857 116.627426 \nL 118.48696 118.726929 \nL 116.571429 120.725127 \nL 114.748009 122.498357 \nL 112.8 124.456172 \nL 110.94166 126.269786 \nL 109.028571 128.639712 \nL 108.000415 130.041214 \nL 107.138788 133.812643 \nL 109.028571 135.675539 \nz\n\" clip-path=\"url(#p4714ec9a6e)\" style=\"fill: none; stroke: #000000; stroke-width: 0.5\"/>\n   </g>\n   <g id=\"PathCollection_8\"/>\n   <g id=\"line2d_1\">\n    <path d=\"M 70.188272 131.813207 \nL 75.274927 111.264765 \nL 89.838076 115.508865 \nL 85.341098 133.773165 \nL 101.473276 135.624225 \nL 101.436088 151.856672 \nL 84.903071 151.481906 \nL 106.842021 82.130384 \nL 107.527391 100.479257 \nL 126.047314 117.886775 \nL 117.69757 134.701863 \nL 108.322411 118.383695 \nL 117.847868 149.928614 \nL 134.1966 149.928387 \nL 126.063685 62.530502 \nL 126.056582 80.09394 \nL 164.466601 92.183427 \nL 145.207493 82.214853 \nL 126.051262 98.525895 \nL 144.472609 100.479257 \nL 143.672749 118.441623 \nL 134.304558 134.606508 \nL 150.474737 135.628369 \nL 166.706662 133.774473 \nL 167.039524 151.532057 \nL 150.4651 151.720292 \nL 176.725073 111.264765 \nL 161.979557 115.53904 \nL 181.814686 131.755568 \nL 182.588442 152.090261 \nL 102.060933 167.356892 \nL 193.655047 177.040657 \n\" clip-path=\"url(#p40c48ad2e2)\" style=\"fill: none\"/>\n    <defs>\n     <path id=\"m17e1a5263d\" d=\"M 0 2 \nC 0.530406 2 1.03916 1.789267 1.414214 1.414214 \nC 1.789267 1.03916 2 0.530406 2 0 \nC 2 -0.530406 1.789267 -1.03916 1.414214 -1.414214 \nC 1.03916 -1.789267 0.530406 -2 0 -2 \nC -0.530406 -2 -1.03916 -1.789267 -1.414214 -1.414214 \nC -1.789267 -1.03916 -2 -0.530406 -2 0 \nC -2 0.530406 -1.789267 1.03916 -1.414214 1.414214 \nC -1.03916 1.789267 -0.530406 2 0 2 \nz\n\" style=\"stroke: #000000\"/>\n    </defs>\n    <g clip-path=\"url(#p40c48ad2e2)\">\n     <use xlink:href=\"#m17e1a5263d\" x=\"70.188272\" y=\"131.813207\" style=\"fill: #ffffff; stroke: #000000\"/>\n     <use xlink:href=\"#m17e1a5263d\" x=\"75.274927\" y=\"111.264765\" style=\"fill: #ffffff; stroke: #000000\"/>\n     <use xlink:href=\"#m17e1a5263d\" x=\"89.838076\" y=\"115.508865\" style=\"fill: #ffffff; stroke: #000000\"/>\n     <use xlink:href=\"#m17e1a5263d\" x=\"85.341098\" y=\"133.773165\" style=\"fill: #ffffff; stroke: #000000\"/>\n     <use xlink:href=\"#m17e1a5263d\" x=\"101.473276\" y=\"135.624225\" style=\"fill: #ffffff; stroke: #000000\"/>\n     <use xlink:href=\"#m17e1a5263d\" x=\"101.436088\" y=\"151.856672\" style=\"fill: #ffffff; stroke: #000000\"/>\n     <use xlink:href=\"#m17e1a5263d\" x=\"84.903071\" y=\"151.481906\" style=\"fill: #ffffff; stroke: #000000\"/>\n     <use xlink:href=\"#m17e1a5263d\" x=\"106.842021\" y=\"82.130384\" style=\"fill: #ffffff; stroke: #000000\"/>\n     <use xlink:href=\"#m17e1a5263d\" x=\"107.527391\" y=\"100.479257\" style=\"fill: #ffffff; stroke: #000000\"/>\n     <use xlink:href=\"#m17e1a5263d\" x=\"126.047314\" y=\"117.886775\" style=\"fill: #ffffff; stroke: #000000\"/>\n     <use xlink:href=\"#m17e1a5263d\" x=\"117.69757\" y=\"134.701863\" style=\"fill: #ffffff; stroke: #000000\"/>\n     <use xlink:href=\"#m17e1a5263d\" x=\"108.322411\" y=\"118.383695\" style=\"fill: #ffffff; stroke: #000000\"/>\n     <use xlink:href=\"#m17e1a5263d\" x=\"117.847868\" y=\"149.928614\" style=\"fill: #ffffff; stroke: #000000\"/>\n     <use xlink:href=\"#m17e1a5263d\" x=\"134.1966\" y=\"149.928387\" style=\"fill: #ffffff; stroke: #000000\"/>\n     <use xlink:href=\"#m17e1a5263d\" x=\"126.063685\" y=\"62.530502\" style=\"fill: #ffffff; stroke: #000000\"/>\n     <use xlink:href=\"#m17e1a5263d\" x=\"126.056582\" y=\"80.09394\" style=\"fill: #ffffff; stroke: #000000\"/>\n     <use xlink:href=\"#m17e1a5263d\" x=\"164.466601\" y=\"92.183427\" style=\"fill: #ffffff; stroke: #000000\"/>\n     <use xlink:href=\"#m17e1a5263d\" x=\"145.207493\" y=\"82.214853\" style=\"fill: #ffffff; stroke: #000000\"/>\n     <use xlink:href=\"#m17e1a5263d\" x=\"126.051262\" y=\"98.525895\" style=\"fill: #ffffff; stroke: #000000\"/>\n     <use xlink:href=\"#m17e1a5263d\" x=\"144.472609\" y=\"100.479257\" style=\"fill: #ffffff; stroke: #000000\"/>\n     <use xlink:href=\"#m17e1a5263d\" x=\"143.672749\" y=\"118.441623\" style=\"fill: #ffffff; stroke: #000000\"/>\n     <use xlink:href=\"#m17e1a5263d\" x=\"134.304558\" y=\"134.606508\" style=\"fill: #ffffff; stroke: #000000\"/>\n     <use xlink:href=\"#m17e1a5263d\" x=\"150.474737\" y=\"135.628369\" style=\"fill: #ffffff; stroke: #000000\"/>\n     <use xlink:href=\"#m17e1a5263d\" x=\"166.706662\" y=\"133.774473\" style=\"fill: #ffffff; stroke: #000000\"/>\n     <use xlink:href=\"#m17e1a5263d\" x=\"167.039524\" y=\"151.532057\" style=\"fill: #ffffff; stroke: #000000\"/>\n     <use xlink:href=\"#m17e1a5263d\" x=\"150.4651\" y=\"151.720292\" style=\"fill: #ffffff; stroke: #000000\"/>\n     <use xlink:href=\"#m17e1a5263d\" x=\"176.725073\" y=\"111.264765\" style=\"fill: #ffffff; stroke: #000000\"/>\n     <use xlink:href=\"#m17e1a5263d\" x=\"161.979557\" y=\"115.53904\" style=\"fill: #ffffff; stroke: #000000\"/>\n     <use xlink:href=\"#m17e1a5263d\" x=\"181.814686\" y=\"131.755568\" style=\"fill: #ffffff; stroke: #000000\"/>\n     <use xlink:href=\"#m17e1a5263d\" x=\"182.588442\" y=\"152.090261\" style=\"fill: #ffffff; stroke: #000000\"/>\n     <use xlink:href=\"#m17e1a5263d\" x=\"102.060933\" y=\"167.356892\" style=\"fill: #ffffff; stroke: #000000\"/>\n     <use xlink:href=\"#m17e1a5263d\" x=\"193.655047\" y=\"177.040657\" style=\"fill: #ffffff; stroke: #000000\"/>\n    </g>\n   </g>\n   <g id=\"line2d_2\">\n    <path d=\"M 191.355114 154.5555 \nL 191.226151 150.451818 \nL 190.83977 146.364332 \nL 190.197495 142.309173 \nL 189.301863 138.302344 \nL 188.156407 134.359659 \nL 186.765648 130.496678 \nL 185.135075 126.728646 \nL 183.271123 123.070434 \nL 181.181148 119.536479 \nL 178.873398 116.140728 \nL 176.356981 112.896582 \nL 173.641828 109.816846 \nL 170.738654 106.913672 \nL 167.658918 104.198519 \nL 164.414772 101.682102 \nL 161.019021 99.374352 \nL 157.485066 97.284377 \nL 153.826854 95.420425 \nL 150.058822 93.789852 \nL 146.195841 92.399093 \nL 142.253156 91.253637 \nL 138.246327 90.358005 \nL 134.191168 89.71573 \nL 130.103682 89.329349 \nL 126 89.200386 \nL 121.896318 89.329349 \nL 117.808832 89.71573 \nL 113.753673 90.358005 \nL 109.746844 91.253637 \nL 105.804159 92.399093 \nL 101.941178 93.789852 \nL 98.173146 95.420425 \nL 94.514934 97.284377 \nL 90.980979 99.374352 \nL 87.585228 101.682102 \nL 84.341082 104.198519 \nL 81.261346 106.913672 \nL 78.358172 109.816846 \nL 75.643019 112.896582 \nL 73.126602 116.140728 \nL 70.818852 119.536479 \nL 68.728877 123.070434 \nL 66.864925 126.728646 \nL 65.234352 130.496678 \nL 63.843593 134.359659 \nL 62.698137 138.302344 \nL 61.802505 142.309173 \nL 61.16023 146.364332 \nL 60.773849 150.451818 \nL 60.644886 154.5555 \nL 60.773849 158.659182 \nL 61.16023 162.746668 \nL 61.802505 166.801827 \nL 62.698137 170.808656 \nL 63.843593 174.751341 \nL 65.234352 178.614322 \nL 66.864925 182.382354 \nL 68.728877 186.040566 \nL 70.818852 189.574521 \nL 73.126602 192.970272 \nL 75.643019 196.214418 \nL 78.358172 199.294154 \nL 81.261346 202.197328 \nL 84.341082 204.912481 \nL 87.585228 207.428898 \nL 90.980979 209.736648 \nL 94.514934 211.826623 \nL 98.173146 213.690575 \nL 101.941178 215.321148 \nL 105.804159 216.711907 \nL 109.746844 217.857363 \nL 113.753673 218.752995 \nL 117.808832 219.39527 \nL 121.896318 219.781651 \nL 126 219.910614 \nL 130.103682 219.781651 \nL 134.191168 219.39527 \nL 138.246327 218.752995 \nL 142.253156 217.857363 \nL 146.195841 216.711907 \nL 150.058822 215.321148 \nL 153.826854 213.690575 \nL 157.485066 211.826623 \nL 161.019021 209.736648 \nL 164.414772 207.428898 \nL 167.658918 204.912481 \nL 170.738654 202.197328 \nL 173.641828 199.294154 \nL 176.356981 196.214418 \nL 178.873398 192.970272 \nL 181.181148 189.574521 \nL 183.271123 186.040566 \nL 185.135075 182.382354 \nL 186.765648 178.614322 \nL 188.156407 174.751341 \nL 189.301863 170.808656 \nL 190.197495 166.801827 \nL 190.83977 162.746668 \nL 191.226151 158.659182 \nL 191.355114 154.5555 \n\" style=\"fill: none; stroke: #000000; stroke-linecap: square\"/>\n   </g>\n   <g id=\"line2d_3\">\n    <path d=\"M 112.312057 90.649857 \nL 126 79.397119 \nL 139.687943 90.649857 \n\" style=\"fill: none; stroke: #000000; stroke-linecap: square\"/>\n   </g>\n   <g id=\"line2d_4\">\n    <path d=\"M 190.962984 147.301082 \nL 192.662216 144.425457 \nL 193.707898 144.320889 \nL 195.26335 144.804517 \nL 196.831873 147.301082 \nL 196.583523 155.274406 \nL 197.498495 166.737693 \nL 195.537842 171.717753 \nL 192.662216 172.645796 \nL 189.917302 170.227656 \n\" style=\"fill: none; stroke: #000000; stroke-linecap: square\"/>\n   </g>\n   <g id=\"line2d_5\">\n    <path d=\"M 61.037016 147.301082 \nL 59.337784 144.425457 \nL 58.292102 144.320889 \nL 56.73665 144.804517 \nL 55.168127 147.301082 \nL 55.416477 155.274406 \nL 54.501505 166.737693 \nL 56.462158 171.717753 \nL 59.337784 172.645796 \nL 62.082698 170.227656 \n\" style=\"fill: none; stroke: #000000; stroke-linecap: square\"/>\n   </g>\n   <g id=\"text_1\">\n    <!-- Mean T-values -->\n    <g transform=\"translate(77.923125 16.318125)scale(0.12 -0.12)\">\n     <defs>\n      <path id=\"DejaVuSans-Bold-4d\" d=\"M 588 4666 \nL 2119 4666 \nL 3181 2169 \nL 4250 4666 \nL 5778 4666 \nL 5778 0 \nL 4641 0 \nL 4641 3413 \nL 3566 897 \nL 2803 897 \nL 1728 3413 \nL 1728 0 \nL 588 0 \nL 588 4666 \nz\n\" transform=\"scale(0.015625)\"/>\n      <path id=\"DejaVuSans-Bold-65\" d=\"M 4031 1759 \nL 4031 1441 \nL 1416 1441 \nQ 1456 1047 1700 850 \nQ 1944 653 2381 653 \nQ 2734 653 3104 758 \nQ 3475 863 3866 1075 \nL 3866 213 \nQ 3469 63 3072 -14 \nQ 2675 -91 2278 -91 \nQ 1328 -91 801 392 \nQ 275 875 275 1747 \nQ 275 2603 792 3093 \nQ 1309 3584 2216 3584 \nQ 3041 3584 3536 3087 \nQ 4031 2591 4031 1759 \nz\nM 2881 2131 \nQ 2881 2450 2695 2645 \nQ 2509 2841 2209 2841 \nQ 1884 2841 1681 2658 \nQ 1478 2475 1428 2131 \nL 2881 2131 \nz\n\" transform=\"scale(0.015625)\"/>\n      <path id=\"DejaVuSans-Bold-61\" d=\"M 2106 1575 \nQ 1756 1575 1579 1456 \nQ 1403 1338 1403 1106 \nQ 1403 894 1545 773 \nQ 1688 653 1941 653 \nQ 2256 653 2472 879 \nQ 2688 1106 2688 1447 \nL 2688 1575 \nL 2106 1575 \nz\nM 3816 1997 \nL 3816 0 \nL 2688 0 \nL 2688 519 \nQ 2463 200 2181 54 \nQ 1900 -91 1497 -91 \nQ 953 -91 614 226 \nQ 275 544 275 1050 \nQ 275 1666 698 1953 \nQ 1122 2241 2028 2241 \nL 2688 2241 \nL 2688 2328 \nQ 2688 2594 2478 2717 \nQ 2269 2841 1825 2841 \nQ 1466 2841 1156 2769 \nQ 847 2697 581 2553 \nL 581 3406 \nQ 941 3494 1303 3539 \nQ 1666 3584 2028 3584 \nQ 2975 3584 3395 3211 \nQ 3816 2838 3816 1997 \nz\n\" transform=\"scale(0.015625)\"/>\n      <path id=\"DejaVuSans-Bold-6e\" d=\"M 4056 2131 \nL 4056 0 \nL 2931 0 \nL 2931 347 \nL 2931 1631 \nQ 2931 2084 2911 2256 \nQ 2891 2428 2841 2509 \nQ 2775 2619 2662 2680 \nQ 2550 2741 2406 2741 \nQ 2056 2741 1856 2470 \nQ 1656 2200 1656 1722 \nL 1656 0 \nL 538 0 \nL 538 3500 \nL 1656 3500 \nL 1656 2988 \nQ 1909 3294 2193 3439 \nQ 2478 3584 2822 3584 \nQ 3428 3584 3742 3212 \nQ 4056 2841 4056 2131 \nz\n\" transform=\"scale(0.015625)\"/>\n      <path id=\"DejaVuSans-Bold-20\" transform=\"scale(0.015625)\"/>\n      <path id=\"DejaVuSans-Bold-54\" d=\"M 31 4666 \nL 4331 4666 \nL 4331 3756 \nL 2784 3756 \nL 2784 0 \nL 1581 0 \nL 1581 3756 \nL 31 3756 \nL 31 4666 \nz\n\" transform=\"scale(0.015625)\"/>\n      <path id=\"DejaVuSans-Bold-2d\" d=\"M 347 2297 \nL 2309 2297 \nL 2309 1388 \nL 347 1388 \nL 347 2297 \nz\n\" transform=\"scale(0.015625)\"/>\n      <path id=\"DejaVuSans-Bold-76\" d=\"M 97 3500 \nL 1216 3500 \nL 2088 1081 \nL 2956 3500 \nL 4078 3500 \nL 2700 0 \nL 1472 0 \nL 97 3500 \nz\n\" transform=\"scale(0.015625)\"/>\n      <path id=\"DejaVuSans-Bold-6c\" d=\"M 538 4863 \nL 1656 4863 \nL 1656 0 \nL 538 0 \nL 538 4863 \nz\n\" transform=\"scale(0.015625)\"/>\n      <path id=\"DejaVuSans-Bold-75\" d=\"M 500 1363 \nL 500 3500 \nL 1625 3500 \nL 1625 3150 \nQ 1625 2866 1622 2436 \nQ 1619 2006 1619 1863 \nQ 1619 1441 1641 1255 \nQ 1663 1069 1716 984 \nQ 1784 875 1895 815 \nQ 2006 756 2150 756 \nQ 2500 756 2700 1025 \nQ 2900 1294 2900 1772 \nL 2900 3500 \nL 4019 3500 \nL 4019 0 \nL 2900 0 \nL 2900 506 \nQ 2647 200 2364 54 \nQ 2081 -91 1741 -91 \nQ 1134 -91 817 281 \nQ 500 653 500 1363 \nz\n\" transform=\"scale(0.015625)\"/>\n      <path id=\"DejaVuSans-Bold-73\" d=\"M 3272 3391 \nL 3272 2541 \nQ 2913 2691 2578 2766 \nQ 2244 2841 1947 2841 \nQ 1628 2841 1473 2761 \nQ 1319 2681 1319 2516 \nQ 1319 2381 1436 2309 \nQ 1553 2238 1856 2203 \nL 2053 2175 \nQ 2913 2066 3209 1816 \nQ 3506 1566 3506 1031 \nQ 3506 472 3093 190 \nQ 2681 -91 1863 -91 \nQ 1516 -91 1145 -36 \nQ 775 19 384 128 \nL 384 978 \nQ 719 816 1070 734 \nQ 1422 653 1784 653 \nQ 2113 653 2278 743 \nQ 2444 834 2444 1013 \nQ 2444 1163 2330 1236 \nQ 2216 1309 1875 1350 \nL 1678 1375 \nQ 931 1469 631 1722 \nQ 331 1975 331 2491 \nQ 331 3047 712 3315 \nQ 1094 3584 1881 3584 \nQ 2191 3584 2531 3537 \nQ 2872 3491 3272 3391 \nz\n\" transform=\"scale(0.015625)\"/>\n     </defs>\n     <use xlink:href=\"#DejaVuSans-Bold-4d\"/>\n     <use xlink:href=\"#DejaVuSans-Bold-65\" x=\"99.511719\"/>\n     <use xlink:href=\"#DejaVuSans-Bold-61\" x=\"167.333984\"/>\n     <use xlink:href=\"#DejaVuSans-Bold-6e\" x=\"234.814453\"/>\n     <use xlink:href=\"#DejaVuSans-Bold-20\" x=\"306.005859\"/>\n     <use xlink:href=\"#DejaVuSans-Bold-54\" x=\"340.820312\"/>\n     <use xlink:href=\"#DejaVuSans-Bold-2d\" x=\"394.283203\"/>\n     <use xlink:href=\"#DejaVuSans-Bold-76\" x=\"435.787109\"/>\n     <use xlink:href=\"#DejaVuSans-Bold-61\" x=\"500.972656\"/>\n     <use xlink:href=\"#DejaVuSans-Bold-6c\" x=\"568.453125\"/>\n     <use xlink:href=\"#DejaVuSans-Bold-75\" x=\"602.730469\"/>\n     <use xlink:href=\"#DejaVuSans-Bold-65\" x=\"673.921875\"/>\n     <use xlink:href=\"#DejaVuSans-Bold-73\" x=\"741.744141\"/>\n    </g>\n    <!-- 0.064 — 0.152 sec -->\n    <g transform=\"translate(64.580625 29.7555)scale(0.12 -0.12)\">\n     <defs>\n      <path id=\"DejaVuSans-Bold-30\" d=\"M 2944 2338 \nQ 2944 3213 2780 3570 \nQ 2616 3928 2228 3928 \nQ 1841 3928 1675 3570 \nQ 1509 3213 1509 2338 \nQ 1509 1453 1675 1090 \nQ 1841 728 2228 728 \nQ 2613 728 2778 1090 \nQ 2944 1453 2944 2338 \nz\nM 4147 2328 \nQ 4147 1169 3647 539 \nQ 3147 -91 2228 -91 \nQ 1306 -91 806 539 \nQ 306 1169 306 2328 \nQ 306 3491 806 4120 \nQ 1306 4750 2228 4750 \nQ 3147 4750 3647 4120 \nQ 4147 3491 4147 2328 \nz\n\" transform=\"scale(0.015625)\"/>\n      <path id=\"DejaVuSans-Bold-2e\" d=\"M 653 1209 \nL 1778 1209 \nL 1778 0 \nL 653 0 \nL 653 1209 \nz\n\" transform=\"scale(0.015625)\"/>\n      <path id=\"DejaVuSans-Bold-36\" d=\"M 2316 2303 \nQ 2000 2303 1842 2098 \nQ 1684 1894 1684 1484 \nQ 1684 1075 1842 870 \nQ 2000 666 2316 666 \nQ 2634 666 2792 870 \nQ 2950 1075 2950 1484 \nQ 2950 1894 2792 2098 \nQ 2634 2303 2316 2303 \nz\nM 3803 4544 \nL 3803 3681 \nQ 3506 3822 3243 3889 \nQ 2981 3956 2731 3956 \nQ 2194 3956 1894 3657 \nQ 1594 3359 1544 2772 \nQ 1750 2925 1990 3001 \nQ 2231 3078 2516 3078 \nQ 3231 3078 3670 2659 \nQ 4109 2241 4109 1563 \nQ 4109 813 3618 361 \nQ 3128 -91 2303 -91 \nQ 1394 -91 895 523 \nQ 397 1138 397 2266 \nQ 397 3422 980 4083 \nQ 1563 4744 2578 4744 \nQ 2900 4744 3203 4694 \nQ 3506 4644 3803 4544 \nz\n\" transform=\"scale(0.015625)\"/>\n      <path id=\"DejaVuSans-Bold-34\" d=\"M 2356 3675 \nL 1038 1722 \nL 2356 1722 \nL 2356 3675 \nz\nM 2156 4666 \nL 3494 4666 \nL 3494 1722 \nL 4159 1722 \nL 4159 850 \nL 3494 850 \nL 3494 0 \nL 2356 0 \nL 2356 850 \nL 288 850 \nL 288 1881 \nL 2156 4666 \nz\n\" transform=\"scale(0.015625)\"/>\n      <path id=\"DejaVuSans-Bold-2014\" d=\"M 344 2156 \nL 6056 2156 \nL 6056 1350 \nL 344 1350 \nL 344 2156 \nz\n\" transform=\"scale(0.015625)\"/>\n      <path id=\"DejaVuSans-Bold-31\" d=\"M 750 831 \nL 1813 831 \nL 1813 3847 \nL 722 3622 \nL 722 4441 \nL 1806 4666 \nL 2950 4666 \nL 2950 831 \nL 4013 831 \nL 4013 0 \nL 750 0 \nL 750 831 \nz\n\" transform=\"scale(0.015625)\"/>\n      <path id=\"DejaVuSans-Bold-35\" d=\"M 678 4666 \nL 3669 4666 \nL 3669 3781 \nL 1638 3781 \nL 1638 3059 \nQ 1775 3097 1914 3117 \nQ 2053 3138 2203 3138 \nQ 3056 3138 3531 2711 \nQ 4006 2284 4006 1522 \nQ 4006 766 3489 337 \nQ 2972 -91 2053 -91 \nQ 1656 -91 1267 -14 \nQ 878 63 494 219 \nL 494 1166 \nQ 875 947 1217 837 \nQ 1559 728 1863 728 \nQ 2300 728 2551 942 \nQ 2803 1156 2803 1522 \nQ 2803 1891 2551 2103 \nQ 2300 2316 1863 2316 \nQ 1603 2316 1309 2248 \nQ 1016 2181 678 2041 \nL 678 4666 \nz\n\" transform=\"scale(0.015625)\"/>\n      <path id=\"DejaVuSans-Bold-32\" d=\"M 1844 884 \nL 3897 884 \nL 3897 0 \nL 506 0 \nL 506 884 \nL 2209 2388 \nQ 2438 2594 2547 2791 \nQ 2656 2988 2656 3200 \nQ 2656 3528 2436 3728 \nQ 2216 3928 1850 3928 \nQ 1569 3928 1234 3808 \nQ 900 3688 519 3450 \nL 519 4475 \nQ 925 4609 1322 4679 \nQ 1719 4750 2100 4750 \nQ 2938 4750 3402 4381 \nQ 3866 4013 3866 3353 \nQ 3866 2972 3669 2642 \nQ 3472 2313 2841 1759 \nL 1844 884 \nz\n\" transform=\"scale(0.015625)\"/>\n      <path id=\"DejaVuSans-Bold-63\" d=\"M 3366 3391 \nL 3366 2478 \nQ 3138 2634 2908 2709 \nQ 2678 2784 2431 2784 \nQ 1963 2784 1702 2511 \nQ 1441 2238 1441 1747 \nQ 1441 1256 1702 982 \nQ 1963 709 2431 709 \nQ 2694 709 2930 787 \nQ 3166 866 3366 1019 \nL 3366 103 \nQ 3103 6 2833 -42 \nQ 2563 -91 2291 -91 \nQ 1344 -91 809 395 \nQ 275 881 275 1747 \nQ 275 2613 809 3098 \nQ 1344 3584 2291 3584 \nQ 2566 3584 2833 3536 \nQ 3100 3488 3366 3391 \nz\n\" transform=\"scale(0.015625)\"/>\n     </defs>\n     <use xlink:href=\"#DejaVuSans-Bold-30\"/>\n     <use xlink:href=\"#DejaVuSans-Bold-2e\" x=\"69.580078\"/>\n     <use xlink:href=\"#DejaVuSans-Bold-30\" x=\"107.568359\"/>\n     <use xlink:href=\"#DejaVuSans-Bold-36\" x=\"177.148438\"/>\n     <use xlink:href=\"#DejaVuSans-Bold-34\" x=\"246.728516\"/>\n     <use xlink:href=\"#DejaVuSans-Bold-20\" x=\"316.308594\"/>\n     <use xlink:href=\"#DejaVuSans-Bold-2014\" x=\"351.123047\"/>\n     <use xlink:href=\"#DejaVuSans-Bold-20\" x=\"451.123047\"/>\n     <use xlink:href=\"#DejaVuSans-Bold-30\" x=\"485.9375\"/>\n     <use xlink:href=\"#DejaVuSans-Bold-2e\" x=\"555.517578\"/>\n     <use xlink:href=\"#DejaVuSans-Bold-31\" x=\"593.505859\"/>\n     <use xlink:href=\"#DejaVuSans-Bold-35\" x=\"663.085938\"/>\n     <use xlink:href=\"#DejaVuSans-Bold-32\" x=\"732.666016\"/>\n     <use xlink:href=\"#DejaVuSans-Bold-20\" x=\"802.246094\"/>\n     <use xlink:href=\"#DejaVuSans-Bold-73\" x=\"837.060547\"/>\n     <use xlink:href=\"#DejaVuSans-Bold-65\" x=\"896.582031\"/>\n     <use xlink:href=\"#DejaVuSans-Bold-63\" x=\"964.404297\"/>\n    </g>\n   </g>\n  </g>\n </g>\n <defs>\n  <clipPath id=\"p4714ec9a6e\">\n   <path d=\"M 126 273.3555 \nC 157.506128 273.3555 187.726089 260.837983 210.004286 238.559786 \nC 232.282483 216.281589 244.8 186.061628 244.8 154.5555 \nC 244.8 123.049372 232.282483 92.829411 210.004286 70.551214 \nC 187.726089 48.273017 157.506128 35.7555 126 35.7555 \nC 94.493872 35.7555 64.273911 48.273017 41.995714 70.551214 \nC 19.717517 92.829411 7.2 123.049372 7.2 154.5555 \nC 7.2 186.061628 19.717517 216.281589 41.995714 238.559786 \nC 64.273911 260.837983 94.493872 273.3555 126 273.3555 \nz\n\"/>\n  </clipPath>\n  <clipPath id=\"p40c48ad2e2\">\n   <rect x=\"7.2\" y=\"35.7555\" width=\"237.6\" height=\"237.6\"/>\n  </clipPath>\n </defs>\n</svg>\n",
      "text/plain": [
       "<Figure size 432x288 with 1 Axes>"
      ]
     },
     "metadata": {},
     "output_type": "display_data"
    }
   ],
   "source": [
    "channel_mask = np.array(\n",
    "    [ch_name in cluster_channels\n",
    "     for ch_name in info.ch_names],\n",
    "    dtype='bool'\n",
    ")\n",
    "\n",
    "\n",
    "fig, ax = plt.subplots()\n",
    "ax.set_title(\n",
    "    f'Mean T-values\\n{cluster_times[0]} — {cluster_times[-1]} sec',\n",
    "    fontweight='bold'\n",
    ")\n",
    "\n",
    "mne.viz.plot_topomap(\n",
    "    data=T_vals_cluster_time_average,\n",
    "    pos=info,\n",
    "    extrapolate=\"head\",\n",
    "    mask=channel_mask,\n",
    "    ch_type=ch_type,\n",
    "    axes=ax\n",
    ");\n"
   ]
  },
  {
   "cell_type": "code",
   "execution_count": 242,
   "metadata": {},
   "outputs": [
    {
     "data": {
      "text/plain": [
       "Text(0.5, 1.0, 'Mean of 32 channels in cluster')"
      ]
     },
     "execution_count": 242,
     "metadata": {},
     "output_type": "execute_result"
    },
    {
     "data": {
      "image/svg+xml": "<?xml version=\"1.0\" encoding=\"utf-8\" standalone=\"no\"?>\n<!DOCTYPE svg PUBLIC \"-//W3C//DTD SVG 1.1//EN\"\n  \"http://www.w3.org/Graphics/SVG/1.1/DTD/svg11.dtd\">\n<svg xmlns:xlink=\"http://www.w3.org/1999/xlink\" width=\"402.115625pt\" height=\"277.314375pt\" viewBox=\"0 0 402.115625 277.314375\" xmlns=\"http://www.w3.org/2000/svg\" version=\"1.1\">\n <metadata>\n  <rdf:RDF xmlns:dc=\"http://purl.org/dc/elements/1.1/\" xmlns:cc=\"http://creativecommons.org/ns#\" xmlns:rdf=\"http://www.w3.org/1999/02/22-rdf-syntax-ns#\">\n   <cc:Work>\n    <dc:type rdf:resource=\"http://purl.org/dc/dcmitype/StillImage\"/>\n    <dc:date>2022-04-27T23:34:31.114451</dc:date>\n    <dc:format>image/svg+xml</dc:format>\n    <dc:creator>\n     <cc:Agent>\n      <dc:title>Matplotlib v3.5.1, https://matplotlib.org/</dc:title>\n     </cc:Agent>\n    </dc:creator>\n   </cc:Work>\n  </rdf:RDF>\n </metadata>\n <defs>\n  <style type=\"text/css\">*{stroke-linejoin: round; stroke-linecap: butt}</style>\n </defs>\n <g id=\"figure_1\">\n  <g id=\"patch_1\">\n   <path d=\"M 0 277.314375 \nL 402.115625 277.314375 \nL 402.115625 0 \nL 0 0 \nL 0 277.314375 \nz\n\" style=\"fill: none\"/>\n  </g>\n  <g id=\"axes_1\">\n   <g id=\"patch_2\">\n    <path d=\"M 48.982813 239.758125 \nL 383.782813 239.758125 \nL 383.782813 22.318125 \nL 48.982813 22.318125 \nL 48.982813 239.758125 \nz\n\" style=\"fill: none; opacity: 0\"/>\n   </g>\n   <g id=\"patch_3\">\n    <path d=\"M 48.982813 239.758125 \nL 48.982813 22.318125 \n\" style=\"fill: none; stroke: #000000; stroke-width: 0.8; stroke-linejoin: miter; stroke-linecap: square\"/>\n   </g>\n   <g id=\"LineCollection_1\">\n    <path d=\"M 144.639955 22.318125 \nL 144.639955 239.758125 \n\" clip-path=\"url(#p2f0d476353)\" style=\"fill: none; stroke-dasharray: 3.7,1.6; stroke-dashoffset: 0; stroke: #000000\"/>\n   </g>\n   <g id=\"PolyCollection_1\">\n    <defs>\n     <path id=\"m887c623077\" d=\"M 290.038813 -37.55625 \nL 205.860527 -37.55625 \nL 205.860527 -254.99625 \nL 290.038813 -254.99625 \nL 290.038813 -254.99625 \nL 290.038813 -37.55625 \nz\n\" style=\"stroke: #ffa500; stroke-opacity: 0.2\"/>\n    </defs>\n    <g clip-path=\"url(#p2f0d476353)\">\n     <use xlink:href=\"#m887c623077\" x=\"0\" y=\"277.314375\" style=\"fill: #ffa500; fill-opacity: 0.2; stroke: #ffa500; stroke-opacity: 0.2\"/>\n    </g>\n   </g>\n   <g id=\"matplotlib.axis_1\">\n    <g id=\"xtick_1\">\n     <g id=\"line2d_1\">\n      <defs>\n       <path id=\"m846e8228d8\" d=\"M 0 0 \nL 0 3.5 \n\" style=\"stroke: #000000; stroke-width: 0.8\"/>\n      </defs>\n      <g>\n       <use xlink:href=\"#m846e8228d8\" x=\"48.982812\" y=\"239.758125\" style=\"stroke: #000000; stroke-width: 0.8\"/>\n      </g>\n     </g>\n     <g id=\"text_1\">\n      <!-- −0.10 -->\n      <g transform=\"translate(33.660156 254.356562)scale(0.1 -0.1)\">\n       <defs>\n        <path id=\"DejaVuSans-2212\" d=\"M 678 2272 \nL 4684 2272 \nL 4684 1741 \nL 678 1741 \nL 678 2272 \nz\n\" transform=\"scale(0.015625)\"/>\n        <path id=\"DejaVuSans-30\" d=\"M 2034 4250 \nQ 1547 4250 1301 3770 \nQ 1056 3291 1056 2328 \nQ 1056 1369 1301 889 \nQ 1547 409 2034 409 \nQ 2525 409 2770 889 \nQ 3016 1369 3016 2328 \nQ 3016 3291 2770 3770 \nQ 2525 4250 2034 4250 \nz\nM 2034 4750 \nQ 2819 4750 3233 4129 \nQ 3647 3509 3647 2328 \nQ 3647 1150 3233 529 \nQ 2819 -91 2034 -91 \nQ 1250 -91 836 529 \nQ 422 1150 422 2328 \nQ 422 3509 836 4129 \nQ 1250 4750 2034 4750 \nz\n\" transform=\"scale(0.015625)\"/>\n        <path id=\"DejaVuSans-2e\" d=\"M 684 794 \nL 1344 794 \nL 1344 0 \nL 684 0 \nL 684 794 \nz\n\" transform=\"scale(0.015625)\"/>\n        <path id=\"DejaVuSans-31\" d=\"M 794 531 \nL 1825 531 \nL 1825 4091 \nL 703 3866 \nL 703 4441 \nL 1819 4666 \nL 2450 4666 \nL 2450 531 \nL 3481 531 \nL 3481 0 \nL 794 0 \nL 794 531 \nz\n\" transform=\"scale(0.015625)\"/>\n       </defs>\n       <use xlink:href=\"#DejaVuSans-2212\"/>\n       <use xlink:href=\"#DejaVuSans-30\" x=\"83.789062\"/>\n       <use xlink:href=\"#DejaVuSans-2e\" x=\"147.412109\"/>\n       <use xlink:href=\"#DejaVuSans-31\" x=\"179.199219\"/>\n       <use xlink:href=\"#DejaVuSans-30\" x=\"242.822266\"/>\n      </g>\n     </g>\n    </g>\n    <g id=\"xtick_2\">\n     <g id=\"line2d_2\">\n      <g>\n       <use xlink:href=\"#m846e8228d8\" x=\"96.811384\" y=\"239.758125\" style=\"stroke: #000000; stroke-width: 0.8\"/>\n      </g>\n     </g>\n     <g id=\"text_2\">\n      <!-- −0.05 -->\n      <g transform=\"translate(81.488728 254.356562)scale(0.1 -0.1)\">\n       <defs>\n        <path id=\"DejaVuSans-35\" d=\"M 691 4666 \nL 3169 4666 \nL 3169 4134 \nL 1269 4134 \nL 1269 2991 \nQ 1406 3038 1543 3061 \nQ 1681 3084 1819 3084 \nQ 2600 3084 3056 2656 \nQ 3513 2228 3513 1497 \nQ 3513 744 3044 326 \nQ 2575 -91 1722 -91 \nQ 1428 -91 1123 -41 \nQ 819 9 494 109 \nL 494 744 \nQ 775 591 1075 516 \nQ 1375 441 1709 441 \nQ 2250 441 2565 725 \nQ 2881 1009 2881 1497 \nQ 2881 1984 2565 2268 \nQ 2250 2553 1709 2553 \nQ 1456 2553 1204 2497 \nQ 953 2441 691 2322 \nL 691 4666 \nz\n\" transform=\"scale(0.015625)\"/>\n       </defs>\n       <use xlink:href=\"#DejaVuSans-2212\"/>\n       <use xlink:href=\"#DejaVuSans-30\" x=\"83.789062\"/>\n       <use xlink:href=\"#DejaVuSans-2e\" x=\"147.412109\"/>\n       <use xlink:href=\"#DejaVuSans-30\" x=\"179.199219\"/>\n       <use xlink:href=\"#DejaVuSans-35\" x=\"242.822266\"/>\n      </g>\n     </g>\n    </g>\n    <g id=\"xtick_3\">\n     <g id=\"line2d_3\">\n      <g>\n       <use xlink:href=\"#m846e8228d8\" x=\"144.639955\" y=\"239.758125\" style=\"stroke: #000000; stroke-width: 0.8\"/>\n      </g>\n     </g>\n     <g id=\"text_3\">\n      <!-- 0.00 -->\n      <g transform=\"translate(133.507143 254.356562)scale(0.1 -0.1)\">\n       <use xlink:href=\"#DejaVuSans-30\"/>\n       <use xlink:href=\"#DejaVuSans-2e\" x=\"63.623047\"/>\n       <use xlink:href=\"#DejaVuSans-30\" x=\"95.410156\"/>\n       <use xlink:href=\"#DejaVuSans-30\" x=\"159.033203\"/>\n      </g>\n     </g>\n    </g>\n    <g id=\"xtick_4\">\n     <g id=\"line2d_4\">\n      <g>\n       <use xlink:href=\"#m846e8228d8\" x=\"192.468527\" y=\"239.758125\" style=\"stroke: #000000; stroke-width: 0.8\"/>\n      </g>\n     </g>\n     <g id=\"text_4\">\n      <!-- 0.05 -->\n      <g transform=\"translate(181.335714 254.356562)scale(0.1 -0.1)\">\n       <use xlink:href=\"#DejaVuSans-30\"/>\n       <use xlink:href=\"#DejaVuSans-2e\" x=\"63.623047\"/>\n       <use xlink:href=\"#DejaVuSans-30\" x=\"95.410156\"/>\n       <use xlink:href=\"#DejaVuSans-35\" x=\"159.033203\"/>\n      </g>\n     </g>\n    </g>\n    <g id=\"xtick_5\">\n     <g id=\"line2d_5\">\n      <g>\n       <use xlink:href=\"#m846e8228d8\" x=\"240.297098\" y=\"239.758125\" style=\"stroke: #000000; stroke-width: 0.8\"/>\n      </g>\n     </g>\n     <g id=\"text_5\">\n      <!-- 0.10 -->\n      <g transform=\"translate(229.164286 254.356562)scale(0.1 -0.1)\">\n       <use xlink:href=\"#DejaVuSans-30\"/>\n       <use xlink:href=\"#DejaVuSans-2e\" x=\"63.623047\"/>\n       <use xlink:href=\"#DejaVuSans-31\" x=\"95.410156\"/>\n       <use xlink:href=\"#DejaVuSans-30\" x=\"159.033203\"/>\n      </g>\n     </g>\n    </g>\n    <g id=\"xtick_6\">\n     <g id=\"line2d_6\">\n      <g>\n       <use xlink:href=\"#m846e8228d8\" x=\"288.12567\" y=\"239.758125\" style=\"stroke: #000000; stroke-width: 0.8\"/>\n      </g>\n     </g>\n     <g id=\"text_6\">\n      <!-- 0.15 -->\n      <g transform=\"translate(276.992857 254.356562)scale(0.1 -0.1)\">\n       <use xlink:href=\"#DejaVuSans-30\"/>\n       <use xlink:href=\"#DejaVuSans-2e\" x=\"63.623047\"/>\n       <use xlink:href=\"#DejaVuSans-31\" x=\"95.410156\"/>\n       <use xlink:href=\"#DejaVuSans-35\" x=\"159.033203\"/>\n      </g>\n     </g>\n    </g>\n    <g id=\"xtick_7\">\n     <g id=\"line2d_7\">\n      <g>\n       <use xlink:href=\"#m846e8228d8\" x=\"335.954241\" y=\"239.758125\" style=\"stroke: #000000; stroke-width: 0.8\"/>\n      </g>\n     </g>\n     <g id=\"text_7\">\n      <!-- 0.20 -->\n      <g transform=\"translate(324.821429 254.356562)scale(0.1 -0.1)\">\n       <defs>\n        <path id=\"DejaVuSans-32\" d=\"M 1228 531 \nL 3431 531 \nL 3431 0 \nL 469 0 \nL 469 531 \nQ 828 903 1448 1529 \nQ 2069 2156 2228 2338 \nQ 2531 2678 2651 2914 \nQ 2772 3150 2772 3378 \nQ 2772 3750 2511 3984 \nQ 2250 4219 1831 4219 \nQ 1534 4219 1204 4116 \nQ 875 4013 500 3803 \nL 500 4441 \nQ 881 4594 1212 4672 \nQ 1544 4750 1819 4750 \nQ 2544 4750 2975 4387 \nQ 3406 4025 3406 3419 \nQ 3406 3131 3298 2873 \nQ 3191 2616 2906 2266 \nQ 2828 2175 2409 1742 \nQ 1991 1309 1228 531 \nz\n\" transform=\"scale(0.015625)\"/>\n       </defs>\n       <use xlink:href=\"#DejaVuSans-30\"/>\n       <use xlink:href=\"#DejaVuSans-2e\" x=\"63.623047\"/>\n       <use xlink:href=\"#DejaVuSans-32\" x=\"95.410156\"/>\n       <use xlink:href=\"#DejaVuSans-30\" x=\"159.033203\"/>\n      </g>\n     </g>\n    </g>\n    <g id=\"xtick_8\">\n     <g id=\"line2d_8\">\n      <g>\n       <use xlink:href=\"#m846e8228d8\" x=\"383.782813\" y=\"239.758125\" style=\"stroke: #000000; stroke-width: 0.8\"/>\n      </g>\n     </g>\n     <g id=\"text_8\">\n      <!-- 0.25 -->\n      <g transform=\"translate(372.65 254.356562)scale(0.1 -0.1)\">\n       <use xlink:href=\"#DejaVuSans-30\"/>\n       <use xlink:href=\"#DejaVuSans-2e\" x=\"63.623047\"/>\n       <use xlink:href=\"#DejaVuSans-32\" x=\"95.410156\"/>\n       <use xlink:href=\"#DejaVuSans-35\" x=\"159.033203\"/>\n      </g>\n     </g>\n    </g>\n    <g id=\"text_9\">\n     <!-- Time (s) -->\n     <g transform=\"translate(196.053906 268.034687)scale(0.1 -0.1)\">\n      <defs>\n       <path id=\"DejaVuSans-54\" d=\"M -19 4666 \nL 3928 4666 \nL 3928 4134 \nL 2272 4134 \nL 2272 0 \nL 1638 0 \nL 1638 4134 \nL -19 4134 \nL -19 4666 \nz\n\" transform=\"scale(0.015625)\"/>\n       <path id=\"DejaVuSans-69\" d=\"M 603 3500 \nL 1178 3500 \nL 1178 0 \nL 603 0 \nL 603 3500 \nz\nM 603 4863 \nL 1178 4863 \nL 1178 4134 \nL 603 4134 \nL 603 4863 \nz\n\" transform=\"scale(0.015625)\"/>\n       <path id=\"DejaVuSans-6d\" d=\"M 3328 2828 \nQ 3544 3216 3844 3400 \nQ 4144 3584 4550 3584 \nQ 5097 3584 5394 3201 \nQ 5691 2819 5691 2113 \nL 5691 0 \nL 5113 0 \nL 5113 2094 \nQ 5113 2597 4934 2840 \nQ 4756 3084 4391 3084 \nQ 3944 3084 3684 2787 \nQ 3425 2491 3425 1978 \nL 3425 0 \nL 2847 0 \nL 2847 2094 \nQ 2847 2600 2669 2842 \nQ 2491 3084 2119 3084 \nQ 1678 3084 1418 2786 \nQ 1159 2488 1159 1978 \nL 1159 0 \nL 581 0 \nL 581 3500 \nL 1159 3500 \nL 1159 2956 \nQ 1356 3278 1631 3431 \nQ 1906 3584 2284 3584 \nQ 2666 3584 2933 3390 \nQ 3200 3197 3328 2828 \nz\n\" transform=\"scale(0.015625)\"/>\n       <path id=\"DejaVuSans-65\" d=\"M 3597 1894 \nL 3597 1613 \nL 953 1613 \nQ 991 1019 1311 708 \nQ 1631 397 2203 397 \nQ 2534 397 2845 478 \nQ 3156 559 3463 722 \nL 3463 178 \nQ 3153 47 2828 -22 \nQ 2503 -91 2169 -91 \nQ 1331 -91 842 396 \nQ 353 884 353 1716 \nQ 353 2575 817 3079 \nQ 1281 3584 2069 3584 \nQ 2775 3584 3186 3129 \nQ 3597 2675 3597 1894 \nz\nM 3022 2063 \nQ 3016 2534 2758 2815 \nQ 2500 3097 2075 3097 \nQ 1594 3097 1305 2825 \nQ 1016 2553 972 2059 \nL 3022 2063 \nz\n\" transform=\"scale(0.015625)\"/>\n       <path id=\"DejaVuSans-20\" transform=\"scale(0.015625)\"/>\n       <path id=\"DejaVuSans-28\" d=\"M 1984 4856 \nQ 1566 4138 1362 3434 \nQ 1159 2731 1159 2009 \nQ 1159 1288 1364 580 \nQ 1569 -128 1984 -844 \nL 1484 -844 \nQ 1016 -109 783 600 \nQ 550 1309 550 2009 \nQ 550 2706 781 3412 \nQ 1013 4119 1484 4856 \nL 1984 4856 \nz\n\" transform=\"scale(0.015625)\"/>\n       <path id=\"DejaVuSans-73\" d=\"M 2834 3397 \nL 2834 2853 \nQ 2591 2978 2328 3040 \nQ 2066 3103 1784 3103 \nQ 1356 3103 1142 2972 \nQ 928 2841 928 2578 \nQ 928 2378 1081 2264 \nQ 1234 2150 1697 2047 \nL 1894 2003 \nQ 2506 1872 2764 1633 \nQ 3022 1394 3022 966 \nQ 3022 478 2636 193 \nQ 2250 -91 1575 -91 \nQ 1294 -91 989 -36 \nQ 684 19 347 128 \nL 347 722 \nQ 666 556 975 473 \nQ 1284 391 1588 391 \nQ 1994 391 2212 530 \nQ 2431 669 2431 922 \nQ 2431 1156 2273 1281 \nQ 2116 1406 1581 1522 \nL 1381 1569 \nQ 847 1681 609 1914 \nQ 372 2147 372 2553 \nQ 372 3047 722 3315 \nQ 1072 3584 1716 3584 \nQ 2034 3584 2315 3537 \nQ 2597 3491 2834 3397 \nz\n\" transform=\"scale(0.015625)\"/>\n       <path id=\"DejaVuSans-29\" d=\"M 513 4856 \nL 1013 4856 \nQ 1481 4119 1714 3412 \nQ 1947 2706 1947 2009 \nQ 1947 1309 1714 600 \nQ 1481 -109 1013 -844 \nL 513 -844 \nQ 928 -128 1133 580 \nQ 1338 1288 1338 2009 \nQ 1338 2731 1133 3434 \nQ 928 4138 513 4856 \nz\n\" transform=\"scale(0.015625)\"/>\n      </defs>\n      <use xlink:href=\"#DejaVuSans-54\"/>\n      <use xlink:href=\"#DejaVuSans-69\" x=\"57.958984\"/>\n      <use xlink:href=\"#DejaVuSans-6d\" x=\"85.742188\"/>\n      <use xlink:href=\"#DejaVuSans-65\" x=\"183.154297\"/>\n      <use xlink:href=\"#DejaVuSans-20\" x=\"244.677734\"/>\n      <use xlink:href=\"#DejaVuSans-28\" x=\"276.464844\"/>\n      <use xlink:href=\"#DejaVuSans-73\" x=\"315.478516\"/>\n      <use xlink:href=\"#DejaVuSans-29\" x=\"367.578125\"/>\n     </g>\n    </g>\n   </g>\n   <g id=\"matplotlib.axis_2\">\n    <g id=\"ytick_1\">\n     <g id=\"line2d_9\">\n      <defs>\n       <path id=\"m6e32e1a57c\" d=\"M 0 0 \nL -3.5 0 \n\" style=\"stroke: #000000; stroke-width: 0.8\"/>\n      </defs>\n      <g>\n       <use xlink:href=\"#m6e32e1a57c\" x=\"48.982813\" y=\"211.394693\" style=\"stroke: #000000; stroke-width: 0.8\"/>\n      </g>\n     </g>\n     <g id=\"text_10\">\n      <!-- −10 -->\n      <g transform=\"translate(20.878125 215.193912)scale(0.1 -0.1)\">\n       <use xlink:href=\"#DejaVuSans-2212\"/>\n       <use xlink:href=\"#DejaVuSans-31\" x=\"83.789062\"/>\n       <use xlink:href=\"#DejaVuSans-30\" x=\"147.412109\"/>\n      </g>\n     </g>\n    </g>\n    <g id=\"ytick_2\">\n     <g id=\"line2d_10\">\n      <g>\n       <use xlink:href=\"#m6e32e1a57c\" x=\"48.982813\" y=\"171.216409\" style=\"stroke: #000000; stroke-width: 0.8\"/>\n      </g>\n     </g>\n     <g id=\"text_11\">\n      <!-- −5 -->\n      <g transform=\"translate(27.240625 175.015628)scale(0.1 -0.1)\">\n       <use xlink:href=\"#DejaVuSans-2212\"/>\n       <use xlink:href=\"#DejaVuSans-35\" x=\"83.789062\"/>\n      </g>\n     </g>\n    </g>\n    <g id=\"ytick_3\">\n     <g id=\"line2d_11\">\n      <g>\n       <use xlink:href=\"#m6e32e1a57c\" x=\"48.982813\" y=\"131.038125\" style=\"stroke: #000000; stroke-width: 0.8\"/>\n      </g>\n     </g>\n     <g id=\"text_12\">\n      <!-- 0 -->\n      <g transform=\"translate(35.620312 134.837344)scale(0.1 -0.1)\">\n       <use xlink:href=\"#DejaVuSans-30\"/>\n      </g>\n     </g>\n    </g>\n    <g id=\"ytick_4\">\n     <g id=\"line2d_12\">\n      <g>\n       <use xlink:href=\"#m6e32e1a57c\" x=\"48.982813\" y=\"90.859841\" style=\"stroke: #000000; stroke-width: 0.8\"/>\n      </g>\n     </g>\n     <g id=\"text_13\">\n      <!-- 5 -->\n      <g transform=\"translate(35.620312 94.65906)scale(0.1 -0.1)\">\n       <use xlink:href=\"#DejaVuSans-35\"/>\n      </g>\n     </g>\n    </g>\n    <g id=\"ytick_5\">\n     <g id=\"line2d_13\">\n      <g>\n       <use xlink:href=\"#m6e32e1a57c\" x=\"48.982813\" y=\"50.681557\" style=\"stroke: #000000; stroke-width: 0.8\"/>\n      </g>\n     </g>\n     <g id=\"text_14\">\n      <!-- 10 -->\n      <g transform=\"translate(29.257812 54.480776)scale(0.1 -0.1)\">\n       <use xlink:href=\"#DejaVuSans-31\"/>\n       <use xlink:href=\"#DejaVuSans-30\" x=\"63.623047\"/>\n      </g>\n     </g>\n    </g>\n    <g id=\"text_15\">\n     <!-- fT -->\n     <g transform=\"translate(14.798438 135.852187)rotate(-90)scale(0.1 -0.1)\">\n      <defs>\n       <path id=\"DejaVuSans-66\" d=\"M 2375 4863 \nL 2375 4384 \nL 1825 4384 \nQ 1516 4384 1395 4259 \nQ 1275 4134 1275 3809 \nL 1275 3500 \nL 2222 3500 \nL 2222 3053 \nL 1275 3053 \nL 1275 0 \nL 697 0 \nL 697 3053 \nL 147 3053 \nL 147 3500 \nL 697 3500 \nL 697 3744 \nQ 697 4328 969 4595 \nQ 1241 4863 1831 4863 \nL 2375 4863 \nz\n\" transform=\"scale(0.015625)\"/>\n      </defs>\n      <use xlink:href=\"#DejaVuSans-66\"/>\n      <use xlink:href=\"#DejaVuSans-54\" x=\"35.205078\"/>\n     </g>\n    </g>\n   </g>\n   <g id=\"line2d_14\">\n    <path d=\"M 205.860527 239.758125 \nL 205.860527 22.318125 \n\" clip-path=\"url(#p2f0d476353)\" style=\"fill: none; stroke-dasharray: 5.55,2.4; stroke-dashoffset: 0; stroke: #000000; stroke-width: 1.5\"/>\n   </g>\n   <g id=\"line2d_15\">\n    <path d=\"M 290.038813 239.758125 \nL 290.038813 22.318125 \n\" clip-path=\"url(#p2f0d476353)\" style=\"fill: none; stroke-dasharray: 5.55,2.4; stroke-dashoffset: 0; stroke: #000000; stroke-width: 1.5\"/>\n   </g>\n   <g id=\"patch_4\">\n    <path d=\"M 48.982812 239.758125 \nL 383.782813 239.758125 \n\" style=\"fill: none; stroke: #000000; stroke-width: 0.8; stroke-linejoin: miter; stroke-linecap: square\"/>\n   </g>\n   <g id=\"patch_5\">\n    <path d=\"M 48.982812 131.038125 \nL 383.782813 131.038125 \n\" style=\"fill: none; stroke: #000000; stroke-width: 0.8; stroke-linejoin: miter; stroke-linecap: square\"/>\n   </g>\n   <g id=\"text_16\">\n    <!-- Mean of 32 channels in cluster -->\n    <g transform=\"translate(124.34 16.318125)scale(0.12 -0.12)\">\n     <defs>\n      <path id=\"DejaVuSans-4d\" d=\"M 628 4666 \nL 1569 4666 \nL 2759 1491 \nL 3956 4666 \nL 4897 4666 \nL 4897 0 \nL 4281 0 \nL 4281 4097 \nL 3078 897 \nL 2444 897 \nL 1241 4097 \nL 1241 0 \nL 628 0 \nL 628 4666 \nz\n\" transform=\"scale(0.015625)\"/>\n      <path id=\"DejaVuSans-61\" d=\"M 2194 1759 \nQ 1497 1759 1228 1600 \nQ 959 1441 959 1056 \nQ 959 750 1161 570 \nQ 1363 391 1709 391 \nQ 2188 391 2477 730 \nQ 2766 1069 2766 1631 \nL 2766 1759 \nL 2194 1759 \nz\nM 3341 1997 \nL 3341 0 \nL 2766 0 \nL 2766 531 \nQ 2569 213 2275 61 \nQ 1981 -91 1556 -91 \nQ 1019 -91 701 211 \nQ 384 513 384 1019 \nQ 384 1609 779 1909 \nQ 1175 2209 1959 2209 \nL 2766 2209 \nL 2766 2266 \nQ 2766 2663 2505 2880 \nQ 2244 3097 1772 3097 \nQ 1472 3097 1187 3025 \nQ 903 2953 641 2809 \nL 641 3341 \nQ 956 3463 1253 3523 \nQ 1550 3584 1831 3584 \nQ 2591 3584 2966 3190 \nQ 3341 2797 3341 1997 \nz\n\" transform=\"scale(0.015625)\"/>\n      <path id=\"DejaVuSans-6e\" d=\"M 3513 2113 \nL 3513 0 \nL 2938 0 \nL 2938 2094 \nQ 2938 2591 2744 2837 \nQ 2550 3084 2163 3084 \nQ 1697 3084 1428 2787 \nQ 1159 2491 1159 1978 \nL 1159 0 \nL 581 0 \nL 581 3500 \nL 1159 3500 \nL 1159 2956 \nQ 1366 3272 1645 3428 \nQ 1925 3584 2291 3584 \nQ 2894 3584 3203 3211 \nQ 3513 2838 3513 2113 \nz\n\" transform=\"scale(0.015625)\"/>\n      <path id=\"DejaVuSans-6f\" d=\"M 1959 3097 \nQ 1497 3097 1228 2736 \nQ 959 2375 959 1747 \nQ 959 1119 1226 758 \nQ 1494 397 1959 397 \nQ 2419 397 2687 759 \nQ 2956 1122 2956 1747 \nQ 2956 2369 2687 2733 \nQ 2419 3097 1959 3097 \nz\nM 1959 3584 \nQ 2709 3584 3137 3096 \nQ 3566 2609 3566 1747 \nQ 3566 888 3137 398 \nQ 2709 -91 1959 -91 \nQ 1206 -91 779 398 \nQ 353 888 353 1747 \nQ 353 2609 779 3096 \nQ 1206 3584 1959 3584 \nz\n\" transform=\"scale(0.015625)\"/>\n      <path id=\"DejaVuSans-33\" d=\"M 2597 2516 \nQ 3050 2419 3304 2112 \nQ 3559 1806 3559 1356 \nQ 3559 666 3084 287 \nQ 2609 -91 1734 -91 \nQ 1441 -91 1130 -33 \nQ 819 25 488 141 \nL 488 750 \nQ 750 597 1062 519 \nQ 1375 441 1716 441 \nQ 2309 441 2620 675 \nQ 2931 909 2931 1356 \nQ 2931 1769 2642 2001 \nQ 2353 2234 1838 2234 \nL 1294 2234 \nL 1294 2753 \nL 1863 2753 \nQ 2328 2753 2575 2939 \nQ 2822 3125 2822 3475 \nQ 2822 3834 2567 4026 \nQ 2313 4219 1838 4219 \nQ 1578 4219 1281 4162 \nQ 984 4106 628 3988 \nL 628 4550 \nQ 988 4650 1302 4700 \nQ 1616 4750 1894 4750 \nQ 2613 4750 3031 4423 \nQ 3450 4097 3450 3541 \nQ 3450 3153 3228 2886 \nQ 3006 2619 2597 2516 \nz\n\" transform=\"scale(0.015625)\"/>\n      <path id=\"DejaVuSans-63\" d=\"M 3122 3366 \nL 3122 2828 \nQ 2878 2963 2633 3030 \nQ 2388 3097 2138 3097 \nQ 1578 3097 1268 2742 \nQ 959 2388 959 1747 \nQ 959 1106 1268 751 \nQ 1578 397 2138 397 \nQ 2388 397 2633 464 \nQ 2878 531 3122 666 \nL 3122 134 \nQ 2881 22 2623 -34 \nQ 2366 -91 2075 -91 \nQ 1284 -91 818 406 \nQ 353 903 353 1747 \nQ 353 2603 823 3093 \nQ 1294 3584 2113 3584 \nQ 2378 3584 2631 3529 \nQ 2884 3475 3122 3366 \nz\n\" transform=\"scale(0.015625)\"/>\n      <path id=\"DejaVuSans-68\" d=\"M 3513 2113 \nL 3513 0 \nL 2938 0 \nL 2938 2094 \nQ 2938 2591 2744 2837 \nQ 2550 3084 2163 3084 \nQ 1697 3084 1428 2787 \nQ 1159 2491 1159 1978 \nL 1159 0 \nL 581 0 \nL 581 4863 \nL 1159 4863 \nL 1159 2956 \nQ 1366 3272 1645 3428 \nQ 1925 3584 2291 3584 \nQ 2894 3584 3203 3211 \nQ 3513 2838 3513 2113 \nz\n\" transform=\"scale(0.015625)\"/>\n      <path id=\"DejaVuSans-6c\" d=\"M 603 4863 \nL 1178 4863 \nL 1178 0 \nL 603 0 \nL 603 4863 \nz\n\" transform=\"scale(0.015625)\"/>\n      <path id=\"DejaVuSans-75\" d=\"M 544 1381 \nL 544 3500 \nL 1119 3500 \nL 1119 1403 \nQ 1119 906 1312 657 \nQ 1506 409 1894 409 \nQ 2359 409 2629 706 \nQ 2900 1003 2900 1516 \nL 2900 3500 \nL 3475 3500 \nL 3475 0 \nL 2900 0 \nL 2900 538 \nQ 2691 219 2414 64 \nQ 2138 -91 1772 -91 \nQ 1169 -91 856 284 \nQ 544 659 544 1381 \nz\nM 1991 3584 \nL 1991 3584 \nz\n\" transform=\"scale(0.015625)\"/>\n      <path id=\"DejaVuSans-74\" d=\"M 1172 4494 \nL 1172 3500 \nL 2356 3500 \nL 2356 3053 \nL 1172 3053 \nL 1172 1153 \nQ 1172 725 1289 603 \nQ 1406 481 1766 481 \nL 2356 481 \nL 2356 0 \nL 1766 0 \nQ 1100 0 847 248 \nQ 594 497 594 1153 \nL 594 3053 \nL 172 3053 \nL 172 3500 \nL 594 3500 \nL 594 4494 \nL 1172 4494 \nz\n\" transform=\"scale(0.015625)\"/>\n      <path id=\"DejaVuSans-72\" d=\"M 2631 2963 \nQ 2534 3019 2420 3045 \nQ 2306 3072 2169 3072 \nQ 1681 3072 1420 2755 \nQ 1159 2438 1159 1844 \nL 1159 0 \nL 581 0 \nL 581 3500 \nL 1159 3500 \nL 1159 2956 \nQ 1341 3275 1631 3429 \nQ 1922 3584 2338 3584 \nQ 2397 3584 2469 3576 \nQ 2541 3569 2628 3553 \nL 2631 2963 \nz\n\" transform=\"scale(0.015625)\"/>\n     </defs>\n     <use xlink:href=\"#DejaVuSans-4d\"/>\n     <use xlink:href=\"#DejaVuSans-65\" x=\"86.279297\"/>\n     <use xlink:href=\"#DejaVuSans-61\" x=\"147.802734\"/>\n     <use xlink:href=\"#DejaVuSans-6e\" x=\"209.082031\"/>\n     <use xlink:href=\"#DejaVuSans-20\" x=\"272.460938\"/>\n     <use xlink:href=\"#DejaVuSans-6f\" x=\"304.248047\"/>\n     <use xlink:href=\"#DejaVuSans-66\" x=\"365.429688\"/>\n     <use xlink:href=\"#DejaVuSans-20\" x=\"400.634766\"/>\n     <use xlink:href=\"#DejaVuSans-33\" x=\"432.421875\"/>\n     <use xlink:href=\"#DejaVuSans-32\" x=\"496.044922\"/>\n     <use xlink:href=\"#DejaVuSans-20\" x=\"559.667969\"/>\n     <use xlink:href=\"#DejaVuSans-63\" x=\"591.455078\"/>\n     <use xlink:href=\"#DejaVuSans-68\" x=\"646.435547\"/>\n     <use xlink:href=\"#DejaVuSans-61\" x=\"709.814453\"/>\n     <use xlink:href=\"#DejaVuSans-6e\" x=\"771.09375\"/>\n     <use xlink:href=\"#DejaVuSans-6e\" x=\"834.472656\"/>\n     <use xlink:href=\"#DejaVuSans-65\" x=\"897.851562\"/>\n     <use xlink:href=\"#DejaVuSans-6c\" x=\"959.375\"/>\n     <use xlink:href=\"#DejaVuSans-73\" x=\"987.158203\"/>\n     <use xlink:href=\"#DejaVuSans-20\" x=\"1039.257812\"/>\n     <use xlink:href=\"#DejaVuSans-69\" x=\"1071.044922\"/>\n     <use xlink:href=\"#DejaVuSans-6e\" x=\"1098.828125\"/>\n     <use xlink:href=\"#DejaVuSans-20\" x=\"1162.207031\"/>\n     <use xlink:href=\"#DejaVuSans-63\" x=\"1193.994141\"/>\n     <use xlink:href=\"#DejaVuSans-6c\" x=\"1248.974609\"/>\n     <use xlink:href=\"#DejaVuSans-75\" x=\"1276.757812\"/>\n     <use xlink:href=\"#DejaVuSans-73\" x=\"1340.136719\"/>\n     <use xlink:href=\"#DejaVuSans-74\" x=\"1392.236328\"/>\n     <use xlink:href=\"#DejaVuSans-65\" x=\"1431.445312\"/>\n     <use xlink:href=\"#DejaVuSans-72\" x=\"1492.96875\"/>\n    </g>\n   </g>\n   <g id=\"legend_1\">\n    <g id=\"patch_6\">\n     <path d=\"M 55.982813 44.99625 \nL 141.395312 44.99625 \nQ 143.395312 44.99625 143.395312 42.99625 \nL 143.395312 29.318125 \nQ 143.395312 27.318125 141.395312 27.318125 \nL 55.982813 27.318125 \nQ 53.982813 27.318125 53.982813 29.318125 \nL 53.982813 42.99625 \nQ 53.982813 44.99625 55.982813 44.99625 \nz\n\" style=\"fill: #ffffff; opacity: 0.8; stroke: #cccccc; stroke-linejoin: miter\"/>\n    </g>\n    <g id=\"line2d_16\">\n     <path d=\"M 57.982813 35.416562 \nL 67.982812 35.416562 \nL 77.982812 35.416562 \n\" style=\"fill: none; stroke: #1f77b4; stroke-width: 1.5; stroke-linecap: square\"/>\n    </g>\n    <g id=\"text_17\">\n     <!-- Cluster #1 -->\n     <g transform=\"translate(85.982812 38.916562)scale(0.1 -0.1)\">\n      <defs>\n       <path id=\"DejaVuSans-43\" d=\"M 4122 4306 \nL 4122 3641 \nQ 3803 3938 3442 4084 \nQ 3081 4231 2675 4231 \nQ 1875 4231 1450 3742 \nQ 1025 3253 1025 2328 \nQ 1025 1406 1450 917 \nQ 1875 428 2675 428 \nQ 3081 428 3442 575 \nQ 3803 722 4122 1019 \nL 4122 359 \nQ 3791 134 3420 21 \nQ 3050 -91 2638 -91 \nQ 1578 -91 968 557 \nQ 359 1206 359 2328 \nQ 359 3453 968 4101 \nQ 1578 4750 2638 4750 \nQ 3056 4750 3426 4639 \nQ 3797 4528 4122 4306 \nz\n\" transform=\"scale(0.015625)\"/>\n       <path id=\"DejaVuSans-23\" d=\"M 3272 2816 \nL 2363 2816 \nL 2100 1772 \nL 3016 1772 \nL 3272 2816 \nz\nM 2803 4594 \nL 2478 3297 \nL 3391 3297 \nL 3719 4594 \nL 4219 4594 \nL 3897 3297 \nL 4872 3297 \nL 4872 2816 \nL 3775 2816 \nL 3519 1772 \nL 4513 1772 \nL 4513 1294 \nL 3397 1294 \nL 3072 0 \nL 2572 0 \nL 2894 1294 \nL 1978 1294 \nL 1656 0 \nL 1153 0 \nL 1478 1294 \nL 494 1294 \nL 494 1772 \nL 1594 1772 \nL 1856 2816 \nL 850 2816 \nL 850 3297 \nL 1978 3297 \nL 2297 4594 \nL 2803 4594 \nz\n\" transform=\"scale(0.015625)\"/>\n      </defs>\n      <use xlink:href=\"#DejaVuSans-43\"/>\n      <use xlink:href=\"#DejaVuSans-6c\" x=\"69.824219\"/>\n      <use xlink:href=\"#DejaVuSans-75\" x=\"97.607422\"/>\n      <use xlink:href=\"#DejaVuSans-73\" x=\"160.986328\"/>\n      <use xlink:href=\"#DejaVuSans-74\" x=\"213.085938\"/>\n      <use xlink:href=\"#DejaVuSans-65\" x=\"252.294922\"/>\n      <use xlink:href=\"#DejaVuSans-72\" x=\"313.818359\"/>\n      <use xlink:href=\"#DejaVuSans-20\" x=\"354.931641\"/>\n      <use xlink:href=\"#DejaVuSans-23\" x=\"386.71875\"/>\n      <use xlink:href=\"#DejaVuSans-31\" x=\"470.507812\"/>\n     </g>\n    </g>\n   </g>\n   <g id=\"PolyCollection_2\">\n    <defs>\n     <path id=\"mc9e721317e\" d=\"M 52.809098 -173.72179 \nL 52.809098 -108.05493 \nL 60.46167 -110.318835 \nL 68.114241 -111.96751 \nL 75.766813 -115.074923 \nL 83.419384 -123.465148 \nL 91.071955 -138.260669 \nL 98.724527 -123.186393 \nL 106.377098 -98.700074 \nL 114.02967 -98.540372 \nL 121.682241 -115.053238 \nL 129.334812 -116.972963 \nL 136.987384 -125.459017 \nL 144.639955 -141.266351 \nL 152.292527 -139.320557 \nL 159.945098 -128.78848 \nL 167.59767 -129.498466 \nL 175.250241 -132.680243 \nL 182.902813 -132.228246 \nL 190.555384 -148.499968 \nL 198.207955 -159.074585 \nL 205.860527 -141.996674 \nL 213.513098 -137.477888 \nL 221.16567 -149.544295 \nL 228.818241 -155.455381 \nL 236.470813 -173.22057 \nL 244.123384 -192.203483 \nL 251.775955 -186.944767 \nL 259.428527 -184.667471 \nL 267.081098 -188.885282 \nL 274.73367 -187.571782 \nL 282.386241 -186.637609 \nL 290.038813 -167.380995 \nL 297.691384 -140.434542 \nL 305.343955 -141.182085 \nL 312.996527 -154.502595 \nL 320.649098 -151.617112 \nL 328.30167 -154.897887 \nL 335.954241 -147.40183 \nL 343.606813 -131.21971 \nL 351.259384 -126.233034 \nL 358.911955 -136.982532 \nL 366.564527 -147.199828 \nL 374.217098 -152.046508 \nL 381.86967 -143.373864 \nL 381.86967 -214.584938 \nL 381.86967 -214.584938 \nL 374.217098 -232.075308 \nL 366.564527 -229.213772 \nL 358.911955 -208.312921 \nL 351.259384 -194.47819 \nL 343.606813 -190.496158 \nL 335.954241 -208.425093 \nL 328.30167 -222.355488 \nL 320.649098 -220.589266 \nL 312.996527 -214.912788 \nL 305.343955 -208.848129 \nL 297.691384 -209.957574 \nL 290.038813 -233.99256 \nL 282.386241 -249.368772 \nL 274.73367 -248.44391 \nL 267.081098 -241.965741 \nL 259.428527 -234.640672 \nL 251.775955 -248.896175 \nL 244.123384 -254.99625 \nL 236.470813 -224.942818 \nL 228.818241 -205.629051 \nL 221.16567 -202.285879 \nL 213.513098 -184.483928 \nL 205.860527 -197.680108 \nL 198.207955 -228.802854 \nL 190.555384 -219.280932 \nL 182.902813 -196.870948 \nL 175.250241 -184.751583 \nL 167.59767 -181.11542 \nL 159.945098 -185.52853 \nL 152.292527 -189.363694 \nL 144.639955 -186.200917 \nL 136.987384 -192.917052 \nL 129.334812 -189.985178 \nL 121.682241 -162.572159 \nL 114.02967 -144.246389 \nL 106.377098 -158.991686 \nL 98.724527 -193.248133 \nL 91.071955 -192.293046 \nL 83.419384 -177.735194 \nL 75.766813 -177.311355 \nL 68.114241 -168.67708 \nL 60.46167 -164.191294 \nL 52.809098 -173.72179 \nz\n\" style=\"stroke: #1f77b4; stroke-opacity: 0.3\"/>\n    </defs>\n    <g>\n     <use xlink:href=\"#mc9e721317e\" x=\"0\" y=\"277.314375\" style=\"fill: #1f77b4; fill-opacity: 0.3; stroke: #1f77b4; stroke-opacity: 0.3\"/>\n    </g>\n   </g>\n   <g id=\"line2d_17\">\n    <path d=\"M 52.809098 137.260771 \nL 60.46167 140.7999 \nL 68.114241 134.079303 \nL 75.766813 129.945754 \nL 83.419384 125.754004 \nL 91.071955 114.193777 \nL 98.724527 121.56889 \nL 106.377098 149.554734 \nL 114.02967 157.076 \nL 121.682241 138.290806 \nL 129.334812 122.978873 \nL 136.987384 118.261448 \nL 144.639955 113.731365 \nL 152.292527 113.178896 \nL 159.945098 120.473702 \nL 167.59767 121.715004 \nL 175.250241 117.590364 \nL 182.902813 113.13856 \nL 190.555384 93.852914 \nL 198.207955 84.570057 \nL 205.860527 108.604015 \nL 213.513098 117.339549 \nL 221.16567 101.994875 \nL 228.818241 96.152926 \nL 236.470813 78.410368 \nL 244.123384 55.049038 \nL 251.775955 60.223829 \nL 259.428527 67.926171 \nL 267.081098 62.757289 \nL 274.73367 59.301313 \nL 282.386241 59.571419 \nL 290.038813 76.910271 \nL 297.691384 101.841847 \nL 305.343955 103.283053 \nL 312.996527 93.672741 \nL 320.649098 89.665548 \nL 328.30167 87.157098 \nL 335.954241 97.551118 \nL 343.606813 116.111887 \nL 351.259384 117.42086 \nL 358.911955 103.908097 \nL 366.564527 90.829975 \nL 374.217098 86.300186 \nL 381.86967 98.482469 \n\" style=\"fill: none; stroke: #1f77b4; stroke-width: 1.5; stroke-linecap: square\"/>\n   </g>\n  </g>\n </g>\n <defs>\n  <clipPath id=\"p2f0d476353\">\n   <rect x=\"48.982813\" y=\"22.318125\" width=\"334.8\" height=\"217.44\"/>\n  </clipPath>\n </defs>\n</svg>\n",
      "text/plain": [
       "<Figure size 432x288 with 1 Axes>"
      ]
     },
     "metadata": {
      "needs_background": "light"
     },
     "output_type": "display_data"
    }
   ],
   "source": [
    "fig, ax = plt.subplots()\n",
    "\n",
    "mne.viz.plot_compare_evokeds(\n",
    "    evokeds={\n",
    "        'Cluster #1': evoked_contrasts_all_subjects\n",
    "    },\n",
    "    picks=cluster_channels.to_list(),\n",
    "    combine='mean',\n",
    "    axes=ax,\n",
    "    truncate_yaxis=False,\n",
    "    truncate_xaxis=False,\n",
    "    show=False\n",
    ")\n",
    "ax.fill_betweenx(ax.get_ylim(), cluster_times[0], cluster_times[-1], color='orange', alpha=0.2)\n",
    "ax.axvline(cluster_times[0], ls='--', color='black')\n",
    "ax.axvline(cluster_times[-1], ls='--', color='black')\n",
    "ax.set_title(f'Mean of {len(cluster_channels)} channels in cluster')\n"
   ]
  },
  {
   "cell_type": "code",
   "execution_count": 220,
   "metadata": {},
   "outputs": [
    {
     "data": {
      "text/plain": [
       "32"
      ]
     },
     "execution_count": 220,
     "metadata": {},
     "output_type": "execute_result"
    }
   ],
   "source": [
    "len(cluster_channels)"
   ]
  },
  {
   "cell_type": "code",
   "execution_count": null,
   "metadata": {},
   "outputs": [],
   "source": []
  }
 ],
 "metadata": {
  "interpreter": {
   "hash": "ce877426c23a3ed9ce32917d0129ed1f7538a0a25ae75e21b1a3c51edc03454a"
  },
  "kernelspec": {
   "display_name": "Python 3.10.4 64-bit ('mne')",
   "language": "python",
   "name": "python3"
  },
  "language_info": {
   "codemirror_mode": {
    "name": "ipython",
    "version": 3
   },
   "file_extension": ".py",
   "mimetype": "text/x-python",
   "name": "python",
   "nbconvert_exporter": "python",
   "pygments_lexer": "ipython3",
   "version": "3.10.4"
  },
  "orig_nbformat": 4
 },
 "nbformat": 4,
 "nbformat_minor": 2
}
