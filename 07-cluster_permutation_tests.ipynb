{
 "cells": [
  {
   "cell_type": "code",
   "execution_count": null,
   "metadata": {},
   "outputs": [],
   "source": []
  },
  {
   "cell_type": "code",
   "execution_count": null,
   "metadata": {},
   "outputs": [],
   "source": [
    "# threshold = None\n",
    "# cluster_stats, data_array_ch_type, ch_type, times = stat_func.run_cluster_permutation_test_1samp(\n",
    "#     evokeds_contrast, tmin=0, tmax=0.25, ch_type='mag', nperm=2 ** 12,\n",
    "#     threshold=threshold, n_jobs=N_JOBS, tail=0\n",
    "# )\n"
   ]
  },
  {
   "cell_type": "code",
   "execution_count": null,
   "metadata": {},
   "outputs": [
    {
     "data": {
      "text/plain": [
       "((23, 32, 102), (102, 102), (32,))"
      ]
     },
     "metadata": {},
     "output_type": "display_data"
    }
   ],
   "source": [
    "# compute adjacency\n",
    "ch_type = 'mag'\n",
    "adjacency, ch_names = mne.channels.find_ch_adjacency(evokeds_contrast[0].info, ch_type)\n",
    "tmin, tmax = 0, None\n",
    "\n",
    "# subset of the data, as array\n",
    "data = np.array(\n",
    "    [\n",
    "        np.transpose(\n",
    "            evoked.copy().pick(ch_type).crop(tmin, None).data\n",
    "        )\n",
    "        for evoked in evokeds_contrast\n",
    "    ]\n",
    ")\n",
    "times = evokeds_contrast[0].copy().crop(tmin, tmax).times\n",
    "info = evokeds_contrast[0].copy().pick(ch_type).info\n",
    "data.shape, adjacency.shape, times.shape"
   ]
  },
  {
   "cell_type": "code",
   "execution_count": null,
   "metadata": {},
   "outputs": [
    {
     "name": "stdout",
     "output_type": "stream",
     "text": [
      "Using a threshold of 2.073873\n",
      "stat_fun(H1): min=-3.585704 max=4.689721\n",
      "Running initial clustering\n",
      "Found 27 clusters\n",
      "Permuting 4095 times...\n"
     ]
    },
    {
     "name": "stderr",
     "output_type": "stream",
     "text": [
      "100%|██████████|  : 4095/4095 [00:24<00:00,  166.45it/s]"
     ]
    },
    {
     "name": "stdout",
     "output_type": "stream",
     "text": [
      "Computing cluster p-values\n",
      "Done.\n"
     ]
    },
    {
     "name": "stderr",
     "output_type": "stream",
     "text": [
      "\n"
     ]
    }
   ],
   "source": [
    "from mne.stats import permutation_cluster_1samp_test, spatio_temporal_cluster_1samp_test\n",
    "\n",
    "n_permutations = 2**12\n",
    "tail = 0\n",
    "threshold = None\n",
    "\n",
    "# stat func\n",
    "# cluster_stats = permutation_cluster_1samp_test(data_array_chtype, threshold=threshold, n_jobs=n_jobs, verbose=True,\n",
    "#                                                   tail=tail, n_permutations=2**12, adjacency=adjacency,\n",
    "#                                                   out_type='indices')\n",
    "\n",
    "cluster_stats = spatio_temporal_cluster_1samp_test(\n",
    "    data,\n",
    "    threshold=threshold,\n",
    "    n_jobs=N_JOBS,\n",
    "    tail=tail,\n",
    "    n_permutations=n_permutations,\n",
    "    adjacency=adjacency,\n",
    "    verbose=True,\n",
    ")\n",
    "\n",
    "T_obs, clusters, p_values, _ = cluster_stats"
   ]
  },
  {
   "cell_type": "code",
   "execution_count": null,
   "metadata": {},
   "outputs": [
    {
     "data": {
      "text/plain": [
       "array([5])"
      ]
     },
     "metadata": {},
     "output_type": "display_data"
    }
   ],
   "source": [
    "p_threshold = 0.2\n",
    "good_cluster_inds = np.where(p_values < p_threshold)[0]\n",
    "good_cluster_inds"
   ]
  },
  {
   "cell_type": "code",
   "execution_count": null,
   "metadata": {},
   "outputs": [],
   "source": [
    "plt.plot(times, T_obs);"
   ]
  },
  {
   "cell_type": "code",
   "execution_count": null,
   "metadata": {},
   "outputs": [
    {
     "name": "stdout",
     "output_type": "stream",
     "text": [
      "We found 102 positions for ch_type mag\n"
     ]
    }
   ],
   "source": [
    "\n",
    "cluster_info = stat_func.extract_info_cluster(\n",
    "    cluster_stats, p_threshold, times,\n",
    "    info, data, ch_type)"
   ]
  },
  {
   "cell_type": "code",
   "execution_count": null,
   "metadata": {},
   "outputs": [
    {
     "name": "stdout",
     "output_type": "stream",
     "text": [
      "Saving _clust_1.svg\n"
     ]
    },
    {
     "data": {
      "text/plain": [
       "True"
      ]
     },
     "metadata": {},
     "output_type": "display_data"
    }
   ],
   "source": [
    "\n",
    "stat_func.plot_clusters(\n",
    "    cluster_info, ch_type, T_obs_max=3., fname='', figname_initial='',\n",
    "    filter_smooth=False, outfile=None)"
   ]
  }
 ],
 "metadata": {
  "interpreter": {
   "hash": "ce877426c23a3ed9ce32917d0129ed1f7538a0a25ae75e21b1a3c51edc03454a"
  },
  "kernelspec": {
   "display_name": "Python 3.10.4 64-bit ('mne')",
   "language": "python",
   "name": "python3"
  },
  "language_info": {
   "name": "python",
   "version": "3.10.4"
  },
  "orig_nbformat": 4
 },
 "nbformat": 4,
 "nbformat_minor": 2
}
