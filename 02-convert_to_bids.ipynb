{
 "cells": [
  {
   "cell_type": "code",
   "execution_count": null,
   "metadata": {},
   "outputs": [],
   "source": [
    "%matplotlib qt"
   ]
  },
  {
   "cell_type": "code",
   "execution_count": null,
   "metadata": {},
   "outputs": [],
   "source": [
    "import mne\n",
    "import mne_bids\n",
    "\n",
    "from config_import import get_events, event_id"
   ]
  },
  {
   "cell_type": "code",
   "execution_count": null,
   "metadata": {},
   "outputs": [],
   "source": [
    "input_dir = './pogs_meg'\n",
    "subject = 'll_180197'\n",
    "session = '220217'\n",
    "task = 'task'\n",
    "run = '1'\n",
    "\n",
    "bids_root = './bids_data_test'"
   ]
  },
  {
   "cell_type": "code",
   "execution_count": null,
   "metadata": {},
   "outputs": [],
   "source": [
    "raw = mne.io.read_raw(\n",
    "    f'{input_dir}/{subject}/{session}/run{run}_raw.fif',\n",
    "    allow_maxshield='yes'\n",
    ")\n",
    "# noisy_chs, flat_chs = mne.preprocessing.find_bad_channels_maxwell(raw)\n",
    "# raw.info['bads'] = noisy_chs + flat_chs + ['MEG0623', 'MEG0241']\n",
    "\n",
    "events = get_events(raw)"
   ]
  },
  {
   "cell_type": "code",
   "execution_count": null,
   "metadata": {},
   "outputs": [],
   "source": [
    "bids_path = mne_bids.BIDSPath(\n",
    "    subject=subject,\n",
    "    session=session,\n",
    "    run=run,\n",
    "    task=task,\n",
    "    datatype='meg',\n",
    "    suffix='meg',\n",
    "    extension='.fif',\n",
    "    root=bids_root\n",
    ")\n"
   ]
  },
  {
   "cell_type": "code",
   "execution_count": null,
   "metadata": {},
   "outputs": [],
   "source": [
    "bids_path = mne_bids.BIDSPath(\n",
    "    subject=subject.replace('_', ''),\n",
    "    session=session,\n",
    "    run=run,\n",
    "    task=task,\n",
    "    datatype='meg',\n",
    "    suffix='meg',\n",
    "    extension='.fif',\n",
    "    root=bids_root\n",
    ")\n",
    "bids_path"
   ]
  },
  {
   "cell_type": "markdown",
   "metadata": {},
   "source": [
    "## Write MEG data to BIDS"
   ]
  },
  {
   "cell_type": "code",
   "execution_count": null,
   "metadata": {},
   "outputs": [],
   "source": [
    "mne_bids.write_raw_bids(\n",
    "    raw=raw,\n",
    "    bids_path=bids_path,\n",
    "    events_data=events,\n",
    "    event_id=event_id,\n",
    "    overwrite=True,\n",
    "    symlink=True,\n",
    "    # anonymize={'daysback': 40000},\n",
    "    verbose=True\n",
    ")"
   ]
  },
  {
   "cell_type": "code",
   "execution_count": null,
   "metadata": {},
   "outputs": [],
   "source": [
    "mne_bids.print_dir_tree(bids_root)"
   ]
  },
  {
   "cell_type": "markdown",
   "metadata": {},
   "source": [
    "## Read MEG data from BIDS"
   ]
  },
  {
   "cell_type": "code",
   "execution_count": null,
   "metadata": {},
   "outputs": [],
   "source": [
    "raw = mne_bids.read_raw_bids(bids_path=bids_path)"
   ]
  },
  {
   "cell_type": "code",
   "execution_count": null,
   "metadata": {},
   "outputs": [],
   "source": [
    "raw.plot(start=50, duration=5)"
   ]
  },
  {
   "cell_type": "markdown",
   "metadata": {},
   "source": [
    "### Recover events from the annotations"
   ]
  },
  {
   "cell_type": "code",
   "execution_count": null,
   "metadata": {},
   "outputs": [],
   "source": [
    "events, event_id = mne.events_from_annotations(raw)\n",
    "event_id"
   ]
  },
  {
   "cell_type": "markdown",
   "metadata": {},
   "source": [
    "## Write fine-calibration and crosstalk files"
   ]
  },
  {
   "cell_type": "code",
   "execution_count": null,
   "metadata": {},
   "outputs": [],
   "source": [
    "cal_fname = 'meg_conf/sss_cal_nsp_2017.dat'\n",
    "ct_fname = 'meg_conf/ct_sparse_nsp_2017.fif'\n",
    "\n",
    "mne_bids.write_meg_calibration(\n",
    "    calibration=cal_fname,\n",
    "    bids_path=bids_path\n",
    ")\n",
    "mne_bids.write_meg_crosstalk(\n",
    "    fname=ct_fname,\n",
    "    bids_path=bids_path\n",
    ")\n",
    "mne_bids.print_dir_tree(bids_root)"
   ]
  },
  {
   "cell_type": "markdown",
   "metadata": {},
   "source": [
    "## Write empty-room data"
   ]
  },
  {
   "cell_type": "code",
   "execution_count": null,
   "metadata": {},
   "outputs": [],
   "source": [
    "subject_er = 'emptyroom'\n",
    "task_er = 'noise'\n",
    "fname_er = f'{input_dir}/{subject}/{session}/emptyroom.fif'\n",
    "\n",
    "raw_er = mne.io.read_raw(\n",
    "    fname_er,\n",
    "    allow_maxshield='yes',\n",
    "    verbose=False\n",
    ")\n",
    "date_er = raw_er.info['meas_date']\n",
    "session_er = f'{date_er.year:04}{date_er.month:02}{date_er.day:02}'\n",
    "\n",
    "bids_path_er = mne_bids.BIDSPath(\n",
    "    subject=subject_er,\n",
    "    session=session_er,\n",
    "    task=task_er,\n",
    "    datatype='meg',\n",
    "    suffix='meg',\n",
    "    extension='.fif',\n",
    "    root=bids_root\n",
    ")\n",
    "bids_path_er"
   ]
  },
  {
   "cell_type": "code",
   "execution_count": null,
   "metadata": {},
   "outputs": [],
   "source": [
    "mne_bids.write_raw_bids(\n",
    "    raw=raw_er,\n",
    "    bids_path=bids_path_er,\n",
    "    overwrite=True,\n",
    "    symlink=True,\n",
    "    # anonymize={'daysback': 40000},\n",
    "    verbose=True\n",
    ")\n",
    "mne_bids.print_dir_tree(bids_root)"
   ]
  },
  {
   "cell_type": "markdown",
   "metadata": {},
   "source": [
    "### Write experimental MEG data again, specifying the empty-room measurement we just wrote"
   ]
  },
  {
   "cell_type": "code",
   "execution_count": null,
   "metadata": {},
   "outputs": [],
   "source": [
    "mne_bids.write_raw_bids(\n",
    "    raw=raw,\n",
    "    bids_path=bids_path,\n",
    "    events_data=events,\n",
    "    event_id=event_id,\n",
    "    empty_room=bids_path_er,\n",
    "    overwrite=True,\n",
    "    symlink=True,\n",
    "    # anonymize={'daysback': 40000},\n",
    "    verbose=True\n",
    ")"
   ]
  },
  {
   "cell_type": "markdown",
   "metadata": {},
   "source": [
    "## Write anatomical MRI data (T1)"
   ]
  },
  {
   "cell_type": "code",
   "execution_count": null,
   "metadata": {},
   "outputs": [],
   "source": [
    "fname_t1 =f'{input_dir}/{subject}/{session}/T1.nii.gz'\n",
    "\n",
    "bids_path_t1 = bids_path.copy().update(\n",
    "    task=None,\n",
    "    run=None,\n",
    "    suffix='T1w',\n",
    "    extension='.nii.gz',\n",
    "    datatype='anat'\n",
    ")\n",
    "bids_path_t1"
   ]
  },
  {
   "cell_type": "code",
   "execution_count": null,
   "metadata": {},
   "outputs": [],
   "source": [
    "mne_bids.write_anat(\n",
    "    image=fname_t1,\n",
    "    bids_path=bids_path_t1,\n",
    "    overwrite=True\n",
    ")\n",
    "mne_bids.print_dir_tree(bids_root)"
   ]
  },
  {
   "cell_type": "code",
   "execution_count": null,
   "metadata": {},
   "outputs": [],
   "source": [
    "from nilearn.plotting import plot_anat\n",
    "\n",
    "plot_anat(str(bids_path_t1))"
   ]
  },
  {
   "cell_type": "markdown",
   "metadata": {},
   "source": [
    "### Write head->MRI transformation / fiducials"
   ]
  },
  {
   "cell_type": "code",
   "execution_count": null,
   "metadata": {},
   "outputs": [],
   "source": [
    "fs_subjects_dir = './bids_data/derivatives/freesurfer/subjects'\n",
    "fs_subject = 'sub-09'\n",
    "fname_trans = f'{fs_subjects_dir}/{fs_subject}/bem/{fs_subject}-trans.fif'\n",
    "\n",
    "landmarks = mne_bids.get_anat_landmarks(\n",
    "    image=fname_t1,\n",
    "    info=raw.info,\n",
    "    trans=fname_trans,\n",
    "    fs_subject=fs_subject,\n",
    "    fs_subjects_dir=fs_subjects_dir\n",
    ")\n",
    "\n",
    "mne_bids.write_anat(\n",
    "    image=fname_t1,\n",
    "    bids_path=bids_path_t1,\n",
    "    landmarks=landmarks,\n",
    "    overwrite=True\n",
    ")\n",
    "mne_bids.print_dir_tree(bids_root)"
   ]
  },
  {
   "cell_type": "code",
   "execution_count": null,
   "metadata": {},
   "outputs": [],
   "source": [
    "trans = mne_bids.get_head_mri_trans(\n",
    "    bids_path=bids_path,\n",
    "    t1_bids_path=bids_path_t1,\n",
    "    fs_subject=fs_subject,\n",
    "    fs_subjects_dir=fs_subjects_dir,\n",
    "    verbose=False\n",
    ")\n",
    "trans"
   ]
  },
  {
   "cell_type": "code",
   "execution_count": null,
   "metadata": {},
   "outputs": [],
   "source": [
    "mne.viz.plot_alignment(\n",
    "    info=raw.info,\n",
    "    trans=trans,\n",
    "    subject=fs_subject,\n",
    "    subjects_dir=fs_subjects_dir,\n",
    "    coord_frame='mri',\n",
    "    surfaces='head-dense'\n",
    ")"
   ]
  },
  {
   "cell_type": "code",
   "execution_count": null,
   "metadata": {},
   "outputs": [],
   "source": [
    "# fname_fiducials = f'{fs_subjects_dir}/{fs_subject}/bem/{fs_subject}-fiducials.fif'\n",
    "\n",
    "# dm = mne.coreg.read_fiducials(fname_fiducials)\n",
    "# dm"
   ]
  },
  {
   "cell_type": "code",
   "execution_count": null,
   "metadata": {},
   "outputs": [],
   "source": []
  },
  {
   "cell_type": "code",
   "execution_count": null,
   "metadata": {},
   "outputs": [],
   "source": []
  }
 ],
 "metadata": {
  "interpreter": {
   "hash": "fdf985a58b378863eb924e29e1b989fa933349ad360b5f85159c812bfb80eb48"
  },
  "kernelspec": {
   "display_name": "Python 3 (ipykernel)",
   "language": "python",
   "name": "python3"
  },
  "language_info": {
   "codemirror_mode": {
    "name": "ipython",
    "version": 3
   },
   "file_extension": ".py",
   "mimetype": "text/x-python",
   "name": "python",
   "nbconvert_exporter": "python",
   "pygments_lexer": "ipython3",
   "version": "3.10.4"
  }
 },
 "nbformat": 4,
 "nbformat_minor": 4
}
