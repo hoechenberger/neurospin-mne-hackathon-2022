{
 "cells": [
  {
   "cell_type": "code",
   "execution_count": 1,
   "metadata": {},
   "outputs": [],
   "source": [
    "from pathlib import Path\n",
    "import numpy as np\n",
    "import matplotlib.pyplot as plt\n",
    "import mne\n",
    "from pqdm.processes import pqdm\n",
    "\n",
    "import stat_func\n",
    "import utilities\n",
    "\n",
    "mne.set_log_level(verbose='WARNING')\n",
    "\n",
    "N_JOBS = 1\n",
    "# N_JOBS = 32\n",
    "\n",
    "%matplotlib qt"
   ]
  },
  {
   "cell_type": "markdown",
   "metadata": {},
   "source": [
    "## Let's look at one file"
   ]
  },
  {
   "cell_type": "code",
   "execution_count": 2,
   "metadata": {},
   "outputs": [
    {
     "data": {
      "text/html": [
       "<table class=\"table table-hover table-striped table-sm table-responsive small\">\n",
       "    <tr>\n",
       "        <th>Number of events</th>\n",
       "        <td>4971</td>\n",
       "    </tr>\n",
       "    <tr>\n",
       "        <th>Events</th>\n",
       "        \n",
       "        <td>Node1/Tone4/Comm1/Transition2: 279<br/>Node1/Tone4/Comm1/Transition4: 14<br/>Node1/Tone4/Comm1/Transition5: 96<br/>Node1/Tone4/Comm1/Transition7: 14<br/>Node10/Tone7/Comm2/Transition1: 275<br/>Node10/Tone7/Comm2/Transition2: 96<br/>Node10/Tone7/Comm2/Transition4: 17<br/>Node10/Tone7/Comm2/Transition7: 9<br/>Node11/Tone8/Comm2/Transition1: 193<br/>Node11/Tone8/Comm2/Transition2: 176<br/>Node11/Tone8/Comm2/Transition3: 12<br/>Node11/Tone8/Comm2/Transition7: 11<br/>Node12/Tone3/Comm2/Transition2: 269<br/>Node12/Tone3/Comm2/Transition4: 11<br/>Node12/Tone3/Comm2/Transition5: 95<br/>Node12/Tone3/Comm2/Transition7: 13<br/>Node2/Tone9/Comm1/Transition1: 306<br/>Node2/Tone9/Comm1/Transition2: 92<br/>Node2/Tone9/Comm1/Transition4: 12<br/>Node2/Tone9/Comm1/Transition7: 12<br/>Node3/Tone2/Comm1/Transition1: 216<br/>Node3/Tone2/Comm1/Transition2: 215<br/>Node3/Tone2/Comm1/Transition3: 17<br/>Node3/Tone2/Comm1/Transition6: 15<br/>Node4/Tone6/Comm1/Transition1: 316<br/>Node4/Tone6/Comm1/Transition2: 91<br/>Node4/Tone6/Comm1/Transition4: 14<br/>Node4/Tone6/Comm1/Transition6: 12<br/>Node5/Tone5/Comm1/Transition1: 194<br/>Node5/Tone5/Comm1/Transition2: 189<br/>Node5/Tone5/Comm1/Transition3: 19<br/>Node5/Tone5/Comm1/Transition7: 14<br/>Node6/Tone11/Comm1/Transition2: 312<br/>Node6/Tone11/Comm1/Transition4: 15<br/>Node6/Tone11/Comm1/Transition5: 88<br/>Node6/Tone11/Comm1/Transition7: 9<br/>Node7/Tone10/Comm2/Transition1: 1<br/>Node7/Tone10/Comm2/Transition2: 290<br/>Node7/Tone10/Comm2/Transition4: 15<br/>Node7/Tone10/Comm2/Transition5: 99<br/>Node7/Tone10/Comm2/Transition7: 10<br/>Node8/Tone12/Comm2/Transition1: 288<br/>Node8/Tone12/Comm2/Transition2: 95<br/>Node8/Tone12/Comm2/Transition4: 12<br/>Node8/Tone12/Comm2/Transition6: 14<br/>Node9/Tone1/Comm2/Transition1: 190<br/>Node9/Tone1/Comm2/Transition2: 185<br/>Node9/Tone1/Comm2/Transition3: 15<br/>Node9/Tone1/Comm2/Transition6: 19</td>\n",
       "        \n",
       "    </tr>\n",
       "    <tr>\n",
       "        <th>Time range</th>\n",
       "        <td>-0.096 – 0.248 sec</td>\n",
       "    </tr>\n",
       "    <tr>\n",
       "        <th>Baseline</th>\n",
       "        <td>-0.096 – 0.000 sec</td>\n",
       "    </tr>\n",
       "</table>"
      ],
      "text/plain": [
       "<EpochsFIF |  4971 events (all good), -0.096 - 0.248 sec, baseline -0.096 – 0 sec, ~520.9 MB, data loaded, with metadata,\n",
       " 'Node1/Tone4/Comm1/Transition2': 279\n",
       " 'Node1/Tone4/Comm1/Transition5': 96\n",
       " 'Node10/Tone7/Comm2/Transition1': 275\n",
       " 'Node10/Tone7/Comm2/Transition2': 96\n",
       " 'Node11/Tone8/Comm2/Transition1': 193\n",
       " 'Node11/Tone8/Comm2/Transition2': 176\n",
       " 'Node12/Tone3/Comm2/Transition2': 269\n",
       " 'Node12/Tone3/Comm2/Transition5': 95\n",
       " 'Node2/Tone9/Comm1/Transition1': 306\n",
       " 'Node2/Tone9/Comm1/Transition2': 92\n",
       " and 39 more events ...>"
      ]
     },
     "execution_count": 2,
     "metadata": {},
     "output_type": "execute_result"
    }
   ],
   "source": [
    "subject = \"04\"\n",
    "meg_subject_dir = Path(f'lb_analysis_sparse/import_metadata/sub-{subject}/meg/')\n",
    "epochs_fname = meg_subject_dir / f\"sub-{subject}_task-sparse_metadata_proc-clean_epo.fif\"\n",
    "epochs = mne.read_epochs(epochs_fname)\n",
    "epochs"
   ]
  },
  {
   "cell_type": "code",
   "execution_count": 3,
   "metadata": {},
   "outputs": [
    {
     "data": {
      "text/plain": [
       "{'Node1/Tone4/Comm1/Transition2': 1,\n",
       " 'Node1/Tone4/Comm1/Transition5': 3,\n",
       " 'Node10/Tone7/Comm2/Transition1': 5,\n",
       " 'Node10/Tone7/Comm2/Transition2': 6,\n",
       " 'Node11/Tone8/Comm2/Transition1': 9,\n",
       " 'Node11/Tone8/Comm2/Transition2': 10,\n",
       " 'Node12/Tone3/Comm2/Transition2': 13,\n",
       " 'Node12/Tone3/Comm2/Transition5': 15,\n",
       " 'Node2/Tone9/Comm1/Transition1': 17,\n",
       " 'Node2/Tone9/Comm1/Transition2': 18,\n",
       " 'Node3/Tone2/Comm1/Transition1': 21,\n",
       " 'Node3/Tone2/Comm1/Transition2': 22,\n",
       " 'Node4/Tone6/Comm1/Transition1': 25,\n",
       " 'Node4/Tone6/Comm1/Transition2': 26,\n",
       " 'Node5/Tone5/Comm1/Transition1': 29,\n",
       " 'Node5/Tone5/Comm1/Transition2': 30,\n",
       " 'Node6/Tone11/Comm1/Transition2': 33,\n",
       " 'Node6/Tone11/Comm1/Transition5': 35,\n",
       " 'Node7/Tone10/Comm2/Transition2': 38,\n",
       " 'Node7/Tone10/Comm2/Transition5': 40,\n",
       " 'Node8/Tone12/Comm2/Transition1': 42,\n",
       " 'Node8/Tone12/Comm2/Transition2': 43,\n",
       " 'Node9/Tone1/Comm2/Transition1': 46,\n",
       " 'Node9/Tone1/Comm2/Transition2': 47,\n",
       " 'Node1/Tone4/Comm1/Transition4': 2,\n",
       " 'Node1/Tone4/Comm1/Transition7': 4,\n",
       " 'Node10/Tone7/Comm2/Transition4': 7,\n",
       " 'Node10/Tone7/Comm2/Transition7': 8,\n",
       " 'Node11/Tone8/Comm2/Transition3': 11,\n",
       " 'Node11/Tone8/Comm2/Transition7': 12,\n",
       " 'Node12/Tone3/Comm2/Transition4': 14,\n",
       " 'Node12/Tone3/Comm2/Transition7': 16,\n",
       " 'Node2/Tone9/Comm1/Transition4': 19,\n",
       " 'Node2/Tone9/Comm1/Transition7': 20,\n",
       " 'Node3/Tone2/Comm1/Transition3': 23,\n",
       " 'Node3/Tone2/Comm1/Transition6': 24,\n",
       " 'Node4/Tone6/Comm1/Transition4': 27,\n",
       " 'Node4/Tone6/Comm1/Transition6': 28,\n",
       " 'Node5/Tone5/Comm1/Transition3': 31,\n",
       " 'Node5/Tone5/Comm1/Transition7': 32,\n",
       " 'Node6/Tone11/Comm1/Transition4': 34,\n",
       " 'Node6/Tone11/Comm1/Transition7': 36,\n",
       " 'Node7/Tone10/Comm2/Transition4': 39,\n",
       " 'Node8/Tone12/Comm2/Transition4': 44,\n",
       " 'Node8/Tone12/Comm2/Transition6': 45,\n",
       " 'Node9/Tone1/Comm2/Transition3': 48,\n",
       " 'Node9/Tone1/Comm2/Transition6': 49,\n",
       " 'Node7/Tone10/Comm2/Transition7': 41,\n",
       " 'Node7/Tone10/Comm2/Transition1': 37}"
      ]
     },
     "execution_count": 3,
     "metadata": {},
     "output_type": "execute_result"
    }
   ],
   "source": [
    "epochs.event_id"
   ]
  },
  {
   "cell_type": "code",
   "execution_count": 4,
   "metadata": {},
   "outputs": [
    {
     "name": "stderr",
     "output_type": "stream",
     "text": [
      "qt.qpa.drawing: Layer-backing can not be explicitly controlled on 10.14 when built against the 10.14 SDK\n"
     ]
    }
   ],
   "source": [
    "epochs.average().plot_joint();"
   ]
  },
  {
   "cell_type": "code",
   "execution_count": 5,
   "metadata": {},
   "outputs": [
    {
     "data": {
      "text/html": [
       "<div>\n",
       "<style scoped>\n",
       "    .dataframe tbody tr th:only-of-type {\n",
       "        vertical-align: middle;\n",
       "    }\n",
       "\n",
       "    .dataframe tbody tr th {\n",
       "        vertical-align: top;\n",
       "    }\n",
       "\n",
       "    .dataframe thead th {\n",
       "        text-align: right;\n",
       "    }\n",
       "</style>\n",
       "<table border=\"1\" class=\"dataframe\">\n",
       "  <thead>\n",
       "    <tr style=\"text-align: right;\">\n",
       "      <th></th>\n",
       "      <th>event_name</th>\n",
       "      <th>Node</th>\n",
       "      <th>Tone</th>\n",
       "      <th>Comm</th>\n",
       "      <th>Transition</th>\n",
       "      <th>numTrial</th>\n",
       "      <th>numBlock</th>\n",
       "      <th>numTrialinBlock</th>\n",
       "      <th>Cond</th>\n",
       "    </tr>\n",
       "  </thead>\n",
       "  <tbody>\n",
       "    <tr>\n",
       "      <th>0</th>\n",
       "      <td>Node10/Tone7/Comm2/Transition1</td>\n",
       "      <td>10</td>\n",
       "      <td>7</td>\n",
       "      <td>2</td>\n",
       "      <td>1</td>\n",
       "      <td>1</td>\n",
       "      <td>0</td>\n",
       "      <td>1</td>\n",
       "      <td>1</td>\n",
       "    </tr>\n",
       "    <tr>\n",
       "      <th>1</th>\n",
       "      <td>Node11/Tone8/Comm2/Transition1</td>\n",
       "      <td>11</td>\n",
       "      <td>8</td>\n",
       "      <td>2</td>\n",
       "      <td>1</td>\n",
       "      <td>2</td>\n",
       "      <td>0</td>\n",
       "      <td>2</td>\n",
       "      <td>1</td>\n",
       "    </tr>\n",
       "    <tr>\n",
       "      <th>2</th>\n",
       "      <td>Node12/Tone3/Comm2/Transition2</td>\n",
       "      <td>12</td>\n",
       "      <td>3</td>\n",
       "      <td>2</td>\n",
       "      <td>2</td>\n",
       "      <td>3</td>\n",
       "      <td>0</td>\n",
       "      <td>3</td>\n",
       "      <td>1</td>\n",
       "    </tr>\n",
       "    <tr>\n",
       "      <th>3</th>\n",
       "      <td>Node11/Tone8/Comm2/Transition2</td>\n",
       "      <td>11</td>\n",
       "      <td>8</td>\n",
       "      <td>2</td>\n",
       "      <td>2</td>\n",
       "      <td>4</td>\n",
       "      <td>0</td>\n",
       "      <td>4</td>\n",
       "      <td>1</td>\n",
       "    </tr>\n",
       "    <tr>\n",
       "      <th>5</th>\n",
       "      <td>Node9/Tone1/Comm2/Transition2</td>\n",
       "      <td>9</td>\n",
       "      <td>1</td>\n",
       "      <td>2</td>\n",
       "      <td>2</td>\n",
       "      <td>6</td>\n",
       "      <td>0</td>\n",
       "      <td>6</td>\n",
       "      <td>1</td>\n",
       "    </tr>\n",
       "    <tr>\n",
       "      <th>...</th>\n",
       "      <td>...</td>\n",
       "      <td>...</td>\n",
       "      <td>...</td>\n",
       "      <td>...</td>\n",
       "      <td>...</td>\n",
       "      <td>...</td>\n",
       "      <td>...</td>\n",
       "      <td>...</td>\n",
       "      <td>...</td>\n",
       "    </tr>\n",
       "    <tr>\n",
       "      <th>6715</th>\n",
       "      <td>Node5/Tone5/Comm1/Transition1</td>\n",
       "      <td>5</td>\n",
       "      <td>5</td>\n",
       "      <td>1</td>\n",
       "      <td>1</td>\n",
       "      <td>6716</td>\n",
       "      <td>6</td>\n",
       "      <td>956</td>\n",
       "      <td>1</td>\n",
       "    </tr>\n",
       "    <tr>\n",
       "      <th>6716</th>\n",
       "      <td>Node6/Tone11/Comm1/Transition2</td>\n",
       "      <td>6</td>\n",
       "      <td>11</td>\n",
       "      <td>1</td>\n",
       "      <td>2</td>\n",
       "      <td>6717</td>\n",
       "      <td>6</td>\n",
       "      <td>957</td>\n",
       "      <td>1</td>\n",
       "    </tr>\n",
       "    <tr>\n",
       "      <th>6717</th>\n",
       "      <td>Node5/Tone5/Comm1/Transition2</td>\n",
       "      <td>5</td>\n",
       "      <td>5</td>\n",
       "      <td>1</td>\n",
       "      <td>2</td>\n",
       "      <td>6718</td>\n",
       "      <td>6</td>\n",
       "      <td>958</td>\n",
       "      <td>1</td>\n",
       "    </tr>\n",
       "    <tr>\n",
       "      <th>6718</th>\n",
       "      <td>Node3/Tone2/Comm1/Transition3</td>\n",
       "      <td>3</td>\n",
       "      <td>2</td>\n",
       "      <td>1</td>\n",
       "      <td>3</td>\n",
       "      <td>6719</td>\n",
       "      <td>6</td>\n",
       "      <td>959</td>\n",
       "      <td>2</td>\n",
       "    </tr>\n",
       "    <tr>\n",
       "      <th>6719</th>\n",
       "      <td>Node1/Tone4/Comm1/Transition2</td>\n",
       "      <td>1</td>\n",
       "      <td>4</td>\n",
       "      <td>1</td>\n",
       "      <td>2</td>\n",
       "      <td>6720</td>\n",
       "      <td>6</td>\n",
       "      <td>960</td>\n",
       "      <td>1</td>\n",
       "    </tr>\n",
       "  </tbody>\n",
       "</table>\n",
       "<p>4971 rows × 9 columns</p>\n",
       "</div>"
      ],
      "text/plain": [
       "                          event_name  Node  Tone  Comm  Transition  numTrial  \\\n",
       "0     Node10/Tone7/Comm2/Transition1    10     7     2           1         1   \n",
       "1     Node11/Tone8/Comm2/Transition1    11     8     2           1         2   \n",
       "2     Node12/Tone3/Comm2/Transition2    12     3     2           2         3   \n",
       "3     Node11/Tone8/Comm2/Transition2    11     8     2           2         4   \n",
       "5      Node9/Tone1/Comm2/Transition2     9     1     2           2         6   \n",
       "...                              ...   ...   ...   ...         ...       ...   \n",
       "6715   Node5/Tone5/Comm1/Transition1     5     5     1           1      6716   \n",
       "6716  Node6/Tone11/Comm1/Transition2     6    11     1           2      6717   \n",
       "6717   Node5/Tone5/Comm1/Transition2     5     5     1           2      6718   \n",
       "6718   Node3/Tone2/Comm1/Transition3     3     2     1           3      6719   \n",
       "6719   Node1/Tone4/Comm1/Transition2     1     4     1           2      6720   \n",
       "\n",
       "      numBlock  numTrialinBlock  Cond  \n",
       "0            0                1     1  \n",
       "1            0                2     1  \n",
       "2            0                3     1  \n",
       "3            0                4     1  \n",
       "5            0                6     1  \n",
       "...        ...              ...   ...  \n",
       "6715         6              956     1  \n",
       "6716         6              957     1  \n",
       "6717         6              958     1  \n",
       "6718         6              959     2  \n",
       "6719         6              960     1  \n",
       "\n",
       "[4971 rows x 9 columns]"
      ]
     },
     "execution_count": 5,
     "metadata": {},
     "output_type": "execute_result"
    }
   ],
   "source": [
    "epochs.metadata"
   ]
  },
  {
   "cell_type": "code",
   "execution_count": 6,
   "metadata": {},
   "outputs": [
    {
     "data": {
      "text/plain": [
       "array([1, 3, 2, 4])"
      ]
     },
     "execution_count": 6,
     "metadata": {},
     "output_type": "execute_result"
    }
   ],
   "source": [
    "epochs.metadata['Cond'].unique()"
   ]
  },
  {
   "cell_type": "markdown",
   "metadata": {},
   "source": [
    "\n",
    "## Compute and save contrast"
   ]
  },
  {
   "cell_type": "code",
   "execution_count": 7,
   "metadata": {},
   "outputs": [
    {
     "data": {
      "application/vnd.jupyter.widget-view+json": {
       "model_id": "d3d5936315e84577ab42322e5293c7f2",
       "version_major": 2,
       "version_minor": 0
      },
      "text/plain": [
       "  0%|          | 0/2 [00:00<?, ?it/s]"
      ]
     },
     "metadata": {},
     "output_type": "display_data"
    },
    {
     "name": "stderr",
     "output_type": "stream",
     "text": [
      "/var/folders/2k/nkw3dkx97ssdv08xmdgfnjkc0000gn/T/ipykernel_49817/3637399739.py:33: RuntimeWarning: converting \"nave\" to integer before saving evoked; this can have a minor effect on the scale of source estimates that are computed using \"nave\".\n",
      "  res.save(outputdir / (f'{filename}_contr-{contrast_name}_ave.fif'), overwrite=True)\n"
     ]
    },
    {
     "name": "stdout",
     "output_type": "stream",
     "text": [
      "Calculated 2 contrasts!\n"
     ]
    },
    {
     "name": "stderr",
     "output_type": "stream",
     "text": [
      "/var/folders/2k/nkw3dkx97ssdv08xmdgfnjkc0000gn/T/ipykernel_49817/3637399739.py:33: RuntimeWarning: converting \"nave\" to integer before saving evoked; this can have a minor effect on the scale of source estimates that are computed using \"nave\".\n",
      "  res.save(outputdir / (f'{filename}_contr-{contrast_name}_ave.fif'), overwrite=True)\n"
     ]
    }
   ],
   "source": [
    "def read_cleaned_epochs(subject):\n",
    "    # Import epochs\n",
    "    meg_subject_dir = Path(f'lb_analysis_sparse/import_metadata/sub-{subject}/meg/')\n",
    "    filename = f'sub-{subject}_task-sparse_metadata_proc-clean_epo.fif'\n",
    "    epochs_path = meg_subject_dir / filename\n",
    "\n",
    "    epochs = mne.read_epochs(epochs_path)\n",
    "    return epochs\n",
    "\n",
    "\n",
    "def compute_contrast(subject, contrast=('Cond == 1', 'Cond == 2')):\n",
    "    # Read epochs\n",
    "    epochs = read_cleaned_epochs(subject)\n",
    "\n",
    "    # Compute evokeds\n",
    "    evokeds = [\n",
    "        epochs[contrast[0]].average(),\n",
    "        epochs[contrast[1]].average()\n",
    "    ]\n",
    "\n",
    "    # Contrast the evokeds\n",
    "    res = mne.combine_evoked(evokeds, weights=[1, -1])\n",
    "\n",
    "    # Write contrasted epochs to disk\n",
    "    outputdir = Path(f'lb_analysis_sparse/ERP_EarlyContrast/sub-{subject}/meg/')\n",
    "    filename = f'sub-{subject}_task-sparse_metadata_proc-clean_epo.fif'\n",
    "    # Ensure output directory esists\n",
    "    outputdir.mkdir(parents=True, exist_ok=True)\n",
    "\n",
    "    contrast_name = f'{contrast[0]}VS{contrast[1]}'\n",
    "    contrast_name = contrast_name.replace(' ', '').replace('=', '')\n",
    "\n",
    "    res.save(outputdir / (f'{filename}_contr-{contrast_name}_ave.fif'), overwrite=True)\n",
    "    return res\n",
    "\n",
    "subjects = [\n",
    "    '04', '06',#'07','08','09','13','14','15','16','18','19',\n",
    "    # '20','21','22','23','24','25','26','27','28','29','30','32'\n",
    "] # List of subject to open\n",
    "contrasts_all_subjects= pqdm(subjects, compute_contrast, n_jobs=N_JOBS)\n",
    "\n",
    "print(f'Calculated {len(contrasts_all_subjects)} contrasts!')"
   ]
  },
  {
   "cell_type": "code",
   "execution_count": 8,
   "metadata": {},
   "outputs": [],
   "source": [
    "contrast_grand_average = mne.grand_average(contrasts_all_subjects)\n",
    "contrast_grand_average.plot_joint();"
   ]
  },
  {
   "cell_type": "markdown",
   "metadata": {},
   "source": [
    "## Time-by-time decoding in sensor space"
   ]
  },
  {
   "cell_type": "code",
   "execution_count": 32,
   "metadata": {},
   "outputs": [
    {
     "data": {
      "text/plain": [
       "Text(0.5, 1.0, 'Sensor space decoding')"
      ]
     },
     "execution_count": 32,
     "metadata": {},
     "output_type": "execute_result"
    }
   ],
   "source": [
    "# We will train the classifier on all left visual vs auditory trials on MEG\n",
    "from sklearn.pipeline import make_pipeline\n",
    "from sklearn.preprocessing import StandardScaler\n",
    "from sklearn.linear_model import LogisticRegression\n",
    "\n",
    "from mne.decoding import SlidingEstimator, cross_val_multiscore, Scaler, Vectorizer\n",
    "\n",
    "\n",
    "\n",
    "# Prepare the data\n",
    "epochs = read_cleaned_epochs('04')\n",
    "contrast = ('Cond == 2', 'Cond == 3')\n",
    "metadata_query = f'{contrast[0]} or {contrast[1]}'\n",
    "epochs_to_contrast = epochs[metadata_query].copy()\n",
    "\n",
    "X = epochs_to_contrast.get_data()\n",
    "y = epochs_to_contrast.metadata['Cond'].values\n",
    "\n",
    "\n",
    "classification_pipeline = make_pipeline(\n",
    "    StandardScaler(),\n",
    "    # Scaler(epochs_to_contrast.info),\n",
    "    # Vectorizer(),\n",
    "    LogisticRegression(\n",
    "        solver='lbfgs',\n",
    "        max_iter=500  # doesn't converge with the default of 100\n",
    "    )\n",
    ")\n",
    "\n",
    "time_decoding_estimator = SlidingEstimator(\n",
    "    classification_pipeline,\n",
    "    n_jobs=1,\n",
    "    scoring='roc_auc'\n",
    ")\n",
    "\n",
    "# Now, actually run the classification, and evaluate it via a cross-validation\n",
    "# procedure.\n",
    "scores = cross_val_multiscore(\n",
    "    time_decoding_estimator,\n",
    "    X,\n",
    "    y,\n",
    "    cv=5,\n",
    "    n_jobs=1\n",
    ")\n",
    "\n",
    "# Mean scores across cross-validation splits\n",
    "scores_mean = np.mean(scores, axis=0)\n",
    "\n",
    "# Plot\n",
    "fig, ax = plt.subplots()\n",
    "ax.plot(epochs.times, scores_mean, label='score')\n",
    "ax.axhline(.5, color='k', linestyle='--', label='chance')\n",
    "ax.set_xlabel('Times')\n",
    "ax.set_ylabel('AUC')  # Area Under the Curve\n",
    "ax.legend()\n",
    "ax.axvline(.0, color='k', linestyle='-')\n",
    "ax.set_title('Sensor space decoding')"
   ]
  },
  {
   "cell_type": "code",
   "execution_count": 33,
   "metadata": {},
   "outputs": [
    {
     "name": "stdout",
     "output_type": "stream",
     "text": [
      "4085 141\n"
     ]
    }
   ],
   "source": [
    "epochs = read_cleaned_epochs('06')\n",
    "\n",
    "print(len(epochs['Cond == 1']), len(epochs['Cond == 2']))"
   ]
  },
  {
   "cell_type": "code",
   "execution_count": null,
   "metadata": {},
   "outputs": [],
   "source": [
    "# threshold = None\n",
    "# cluster_stats, data_array_ch_type, ch_type, times = stat_func.run_cluster_permutation_test_1samp(\n",
    "#     evokeds_contrast, tmin=0, tmax=0.25, ch_type='mag', nperm=2 ** 12,\n",
    "#     threshold=threshold, n_jobs=N_JOBS, tail=0\n",
    "# )\n"
   ]
  },
  {
   "cell_type": "code",
   "execution_count": null,
   "metadata": {},
   "outputs": [
    {
     "data": {
      "text/plain": [
       "((23, 32, 102), (102, 102), (32,))"
      ]
     },
     "execution_count": 17,
     "metadata": {},
     "output_type": "execute_result"
    }
   ],
   "source": [
    "# compute adjacency\n",
    "ch_type = 'mag'\n",
    "adjacency, ch_names = mne.channels.find_ch_adjacency(evokeds_contrast[0].info, ch_type)\n",
    "tmin, tmax = 0, None\n",
    "\n",
    "# subset of the data, as array\n",
    "data = np.array(\n",
    "    [\n",
    "        np.transpose(\n",
    "            evoked.copy().pick(ch_type).crop(tmin, None).data\n",
    "        )\n",
    "        for evoked in evokeds_contrast\n",
    "    ]\n",
    ")\n",
    "times = evokeds_contrast[0].copy().crop(tmin, tmax).times\n",
    "info = evokeds_contrast[0].copy().pick(ch_type).info\n",
    "data.shape, adjacency.shape, times.shape"
   ]
  },
  {
   "cell_type": "code",
   "execution_count": null,
   "metadata": {},
   "outputs": [
    {
     "name": "stdout",
     "output_type": "stream",
     "text": [
      "Using a threshold of 2.073873\n",
      "stat_fun(H1): min=-3.585704 max=4.689721\n",
      "Running initial clustering\n",
      "Found 27 clusters\n",
      "Permuting 4095 times...\n"
     ]
    },
    {
     "name": "stderr",
     "output_type": "stream",
     "text": [
      "100%|██████████|  : 4095/4095 [00:24<00:00,  166.45it/s]"
     ]
    },
    {
     "name": "stdout",
     "output_type": "stream",
     "text": [
      "Computing cluster p-values\n",
      "Done.\n"
     ]
    },
    {
     "name": "stderr",
     "output_type": "stream",
     "text": [
      "\n"
     ]
    }
   ],
   "source": [
    "from mne.stats import permutation_cluster_1samp_test, spatio_temporal_cluster_1samp_test\n",
    "\n",
    "n_permutations = 2**12\n",
    "tail = 0\n",
    "threshold = None\n",
    "\n",
    "# stat func\n",
    "# cluster_stats = permutation_cluster_1samp_test(data_array_chtype, threshold=threshold, n_jobs=n_jobs, verbose=True,\n",
    "#                                                   tail=tail, n_permutations=2**12, adjacency=adjacency,\n",
    "#                                                   out_type='indices')\n",
    "\n",
    "cluster_stats = spatio_temporal_cluster_1samp_test(\n",
    "    data,\n",
    "    threshold=threshold,\n",
    "    n_jobs=N_JOBS,\n",
    "    tail=tail,\n",
    "    n_permutations=n_permutations,\n",
    "    adjacency=adjacency,\n",
    "    verbose=True,\n",
    ")\n",
    "\n",
    "T_obs, clusters, p_values, _ = cluster_stats"
   ]
  },
  {
   "cell_type": "code",
   "execution_count": null,
   "metadata": {},
   "outputs": [
    {
     "data": {
      "text/plain": [
       "array([5])"
      ]
     },
     "execution_count": 22,
     "metadata": {},
     "output_type": "execute_result"
    }
   ],
   "source": [
    "p_threshold = 0.2\n",
    "good_cluster_inds = np.where(p_values < p_threshold)[0]\n",
    "good_cluster_inds"
   ]
  },
  {
   "cell_type": "code",
   "execution_count": null,
   "metadata": {},
   "outputs": [],
   "source": [
    "plt.plot(times, T_obs);"
   ]
  },
  {
   "cell_type": "code",
   "execution_count": null,
   "metadata": {},
   "outputs": [
    {
     "name": "stdout",
     "output_type": "stream",
     "text": [
      "We found 102 positions for ch_type mag\n"
     ]
    }
   ],
   "source": [
    "\n",
    "cluster_info = stat_func.extract_info_cluster(\n",
    "    cluster_stats, p_threshold, times,\n",
    "    info, data, ch_type)"
   ]
  },
  {
   "cell_type": "code",
   "execution_count": null,
   "metadata": {},
   "outputs": [
    {
     "name": "stdout",
     "output_type": "stream",
     "text": [
      "Saving _clust_1.svg\n"
     ]
    },
    {
     "data": {
      "text/plain": [
       "True"
      ]
     },
     "execution_count": 19,
     "metadata": {},
     "output_type": "execute_result"
    }
   ],
   "source": [
    "\n",
    "stat_func.plot_clusters(\n",
    "    cluster_info, ch_type, T_obs_max=3., fname='', figname_initial='',\n",
    "    filter_smooth=False, outfile=None)"
   ]
  },
  {
   "cell_type": "code",
   "execution_count": null,
   "metadata": {},
   "outputs": [],
   "source": []
  }
 ],
 "metadata": {
  "interpreter": {
   "hash": "8d1899d3d453529ab54a548c453eb03872168ef6a9900e12952b62a455030e12"
  },
  "kernelspec": {
   "display_name": "Python 3.8.6 ('base')",
   "language": "python",
   "name": "python3"
  },
  "language_info": {
   "codemirror_mode": {
    "name": "ipython",
    "version": 3
   },
   "file_extension": ".py",
   "mimetype": "text/x-python",
   "name": "python",
   "nbconvert_exporter": "python",
   "pygments_lexer": "ipython3",
   "version": "3.10.4"
  },
  "orig_nbformat": 4
 },
 "nbformat": 4,
 "nbformat_minor": 2
}
