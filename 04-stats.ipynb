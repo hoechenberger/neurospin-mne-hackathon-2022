{
 "cells": [
  {
   "cell_type": "code",
   "execution_count": 1,
   "metadata": {},
   "outputs": [],
   "source": [
    "from pathlib import Path\n",
    "import numpy as np\n",
    "import matplotlib.pyplot as plt\n",
    "import mne\n",
    "from pqdm.processes import pqdm\n",
    "import stat_func\n",
    "import utilities\n",
    "\n",
    "mne.set_log_level(verbose='WARNING')\n",
    "\n",
    "N_JOBS = 1\n",
    "# N_JOBS = 32\n",
    "\n",
    "%matplotlib qt"
   ]
  },
  {
   "cell_type": "markdown",
   "metadata": {},
   "source": [
    "## Let's look at one file"
   ]
  },
  {
   "cell_type": "code",
   "execution_count": 2,
   "metadata": {},
   "outputs": [],
   "source": [
    "subject = \"04\"\n",
    "meg_subject_dir = Path(f'lb_analysis_sparse/import_metadata/sub-{subject}/meg/')\n",
    "epochs_fname = meg_subject_dir / f\"sub-{subject}_task-sparse_metadata_proc-clean_epo.fif\"\n",
    "epochs = mne.read_epochs(epochs_fname)"
   ]
  },
  {
   "cell_type": "code",
   "execution_count": 3,
   "metadata": {},
   "outputs": [],
   "source": [
    "# epochs.event_id"
   ]
  },
  {
   "cell_type": "code",
   "execution_count": 4,
   "metadata": {},
   "outputs": [],
   "source": [
    "epochs.average().plot_joint();"
   ]
  },
  {
   "cell_type": "code",
   "execution_count": 5,
   "metadata": {},
   "outputs": [
    {
     "data": {
      "text/html": [
       "<div>\n",
       "<style scoped>\n",
       "    .dataframe tbody tr th:only-of-type {\n",
       "        vertical-align: middle;\n",
       "    }\n",
       "\n",
       "    .dataframe tbody tr th {\n",
       "        vertical-align: top;\n",
       "    }\n",
       "\n",
       "    .dataframe thead th {\n",
       "        text-align: right;\n",
       "    }\n",
       "</style>\n",
       "<table border=\"1\" class=\"dataframe\">\n",
       "  <thead>\n",
       "    <tr style=\"text-align: right;\">\n",
       "      <th></th>\n",
       "      <th>event_name</th>\n",
       "      <th>Node</th>\n",
       "      <th>Tone</th>\n",
       "      <th>Comm</th>\n",
       "      <th>Transition</th>\n",
       "      <th>numTrial</th>\n",
       "      <th>numBlock</th>\n",
       "      <th>numTrialinBlock</th>\n",
       "      <th>Cond</th>\n",
       "    </tr>\n",
       "  </thead>\n",
       "  <tbody>\n",
       "    <tr>\n",
       "      <th>0</th>\n",
       "      <td>Node10/Tone7/Comm2/Transition1</td>\n",
       "      <td>10</td>\n",
       "      <td>7</td>\n",
       "      <td>2</td>\n",
       "      <td>1</td>\n",
       "      <td>1</td>\n",
       "      <td>0</td>\n",
       "      <td>1</td>\n",
       "      <td>1</td>\n",
       "    </tr>\n",
       "    <tr>\n",
       "      <th>1</th>\n",
       "      <td>Node11/Tone8/Comm2/Transition1</td>\n",
       "      <td>11</td>\n",
       "      <td>8</td>\n",
       "      <td>2</td>\n",
       "      <td>1</td>\n",
       "      <td>2</td>\n",
       "      <td>0</td>\n",
       "      <td>2</td>\n",
       "      <td>1</td>\n",
       "    </tr>\n",
       "    <tr>\n",
       "      <th>2</th>\n",
       "      <td>Node12/Tone3/Comm2/Transition2</td>\n",
       "      <td>12</td>\n",
       "      <td>3</td>\n",
       "      <td>2</td>\n",
       "      <td>2</td>\n",
       "      <td>3</td>\n",
       "      <td>0</td>\n",
       "      <td>3</td>\n",
       "      <td>1</td>\n",
       "    </tr>\n",
       "    <tr>\n",
       "      <th>3</th>\n",
       "      <td>Node11/Tone8/Comm2/Transition2</td>\n",
       "      <td>11</td>\n",
       "      <td>8</td>\n",
       "      <td>2</td>\n",
       "      <td>2</td>\n",
       "      <td>4</td>\n",
       "      <td>0</td>\n",
       "      <td>4</td>\n",
       "      <td>1</td>\n",
       "    </tr>\n",
       "    <tr>\n",
       "      <th>5</th>\n",
       "      <td>Node9/Tone1/Comm2/Transition2</td>\n",
       "      <td>9</td>\n",
       "      <td>1</td>\n",
       "      <td>2</td>\n",
       "      <td>2</td>\n",
       "      <td>6</td>\n",
       "      <td>0</td>\n",
       "      <td>6</td>\n",
       "      <td>1</td>\n",
       "    </tr>\n",
       "    <tr>\n",
       "      <th>...</th>\n",
       "      <td>...</td>\n",
       "      <td>...</td>\n",
       "      <td>...</td>\n",
       "      <td>...</td>\n",
       "      <td>...</td>\n",
       "      <td>...</td>\n",
       "      <td>...</td>\n",
       "      <td>...</td>\n",
       "      <td>...</td>\n",
       "    </tr>\n",
       "    <tr>\n",
       "      <th>6715</th>\n",
       "      <td>Node5/Tone5/Comm1/Transition1</td>\n",
       "      <td>5</td>\n",
       "      <td>5</td>\n",
       "      <td>1</td>\n",
       "      <td>1</td>\n",
       "      <td>6716</td>\n",
       "      <td>6</td>\n",
       "      <td>956</td>\n",
       "      <td>1</td>\n",
       "    </tr>\n",
       "    <tr>\n",
       "      <th>6716</th>\n",
       "      <td>Node6/Tone11/Comm1/Transition2</td>\n",
       "      <td>6</td>\n",
       "      <td>11</td>\n",
       "      <td>1</td>\n",
       "      <td>2</td>\n",
       "      <td>6717</td>\n",
       "      <td>6</td>\n",
       "      <td>957</td>\n",
       "      <td>1</td>\n",
       "    </tr>\n",
       "    <tr>\n",
       "      <th>6717</th>\n",
       "      <td>Node5/Tone5/Comm1/Transition2</td>\n",
       "      <td>5</td>\n",
       "      <td>5</td>\n",
       "      <td>1</td>\n",
       "      <td>2</td>\n",
       "      <td>6718</td>\n",
       "      <td>6</td>\n",
       "      <td>958</td>\n",
       "      <td>1</td>\n",
       "    </tr>\n",
       "    <tr>\n",
       "      <th>6718</th>\n",
       "      <td>Node3/Tone2/Comm1/Transition3</td>\n",
       "      <td>3</td>\n",
       "      <td>2</td>\n",
       "      <td>1</td>\n",
       "      <td>3</td>\n",
       "      <td>6719</td>\n",
       "      <td>6</td>\n",
       "      <td>959</td>\n",
       "      <td>2</td>\n",
       "    </tr>\n",
       "    <tr>\n",
       "      <th>6719</th>\n",
       "      <td>Node1/Tone4/Comm1/Transition2</td>\n",
       "      <td>1</td>\n",
       "      <td>4</td>\n",
       "      <td>1</td>\n",
       "      <td>2</td>\n",
       "      <td>6720</td>\n",
       "      <td>6</td>\n",
       "      <td>960</td>\n",
       "      <td>1</td>\n",
       "    </tr>\n",
       "  </tbody>\n",
       "</table>\n",
       "<p>4971 rows × 9 columns</p>\n",
       "</div>"
      ],
      "text/plain": [
       "                          event_name  Node  Tone  Comm  Transition  numTrial  \\\n",
       "0     Node10/Tone7/Comm2/Transition1    10     7     2           1         1   \n",
       "1     Node11/Tone8/Comm2/Transition1    11     8     2           1         2   \n",
       "2     Node12/Tone3/Comm2/Transition2    12     3     2           2         3   \n",
       "3     Node11/Tone8/Comm2/Transition2    11     8     2           2         4   \n",
       "5      Node9/Tone1/Comm2/Transition2     9     1     2           2         6   \n",
       "...                              ...   ...   ...   ...         ...       ...   \n",
       "6715   Node5/Tone5/Comm1/Transition1     5     5     1           1      6716   \n",
       "6716  Node6/Tone11/Comm1/Transition2     6    11     1           2      6717   \n",
       "6717   Node5/Tone5/Comm1/Transition2     5     5     1           2      6718   \n",
       "6718   Node3/Tone2/Comm1/Transition3     3     2     1           3      6719   \n",
       "6719   Node1/Tone4/Comm1/Transition2     1     4     1           2      6720   \n",
       "\n",
       "      numBlock  numTrialinBlock  Cond  \n",
       "0            0                1     1  \n",
       "1            0                2     1  \n",
       "2            0                3     1  \n",
       "3            0                4     1  \n",
       "5            0                6     1  \n",
       "...        ...              ...   ...  \n",
       "6715         6              956     1  \n",
       "6716         6              957     1  \n",
       "6717         6              958     1  \n",
       "6718         6              959     2  \n",
       "6719         6              960     1  \n",
       "\n",
       "[4971 rows x 9 columns]"
      ]
     },
     "execution_count": 5,
     "metadata": {},
     "output_type": "execute_result"
    }
   ],
   "source": [
    "epochs.metadata"
   ]
  },
  {
   "cell_type": "code",
   "execution_count": 6,
   "metadata": {},
   "outputs": [
    {
     "data": {
      "text/plain": [
       "array([1, 3, 2, 4])"
      ]
     },
     "execution_count": 6,
     "metadata": {},
     "output_type": "execute_result"
    }
   ],
   "source": [
    "epochs.metadata['Cond'].unique()"
   ]
  },
  {
   "cell_type": "markdown",
   "metadata": {},
   "source": [
    "\n",
    "## Compute and save contrast"
   ]
  },
  {
   "cell_type": "code",
   "execution_count": 7,
   "metadata": {},
   "outputs": [
    {
     "data": {
      "application/vnd.jupyter.widget-view+json": {
       "model_id": "3e8ee1eb7d4f44d2a4af212c16b2a9a8",
       "version_major": 2,
       "version_minor": 0
      },
      "text/plain": [
       "  0%|          | 0/23 [00:00<?, ?it/s]"
      ]
     },
     "metadata": {},
     "output_type": "display_data"
    },
    {
     "name": "stdout",
     "output_type": "stream",
     "text": [
      "**** sub_ 04 : Reading epochs\n"
     ]
    },
    {
     "name": "stderr",
     "output_type": "stream",
     "text": [
      "/var/folders/97/27l9b459769fxdczmngx97xr0000gn/T/ipykernel_17968/3204102610.py:20: RuntimeWarning: converting \"nave\" to integer before saving evoked; this can have a minor effect on the scale of source estimates that are computed using \"nave\".\n",
      "  res.save(outputdir / (f'{filename}_Contrast{contrast_name}_ave.fif'), overwrite=True)\n"
     ]
    },
    {
     "name": "stdout",
     "output_type": "stream",
     "text": [
      "**** sub_ 06 : Reading epochs\n"
     ]
    },
    {
     "name": "stderr",
     "output_type": "stream",
     "text": [
      "/var/folders/97/27l9b459769fxdczmngx97xr0000gn/T/ipykernel_17968/3204102610.py:20: RuntimeWarning: converting \"nave\" to integer before saving evoked; this can have a minor effect on the scale of source estimates that are computed using \"nave\".\n",
      "  res.save(outputdir / (f'{filename}_Contrast{contrast_name}_ave.fif'), overwrite=True)\n"
     ]
    },
    {
     "name": "stdout",
     "output_type": "stream",
     "text": [
      "**** sub_ 07 : Reading epochs\n"
     ]
    },
    {
     "name": "stderr",
     "output_type": "stream",
     "text": [
      "/var/folders/97/27l9b459769fxdczmngx97xr0000gn/T/ipykernel_17968/3204102610.py:20: RuntimeWarning: converting \"nave\" to integer before saving evoked; this can have a minor effect on the scale of source estimates that are computed using \"nave\".\n",
      "  res.save(outputdir / (f'{filename}_Contrast{contrast_name}_ave.fif'), overwrite=True)\n"
     ]
    },
    {
     "name": "stdout",
     "output_type": "stream",
     "text": [
      "**** sub_ 08 : Reading epochs\n"
     ]
    },
    {
     "name": "stderr",
     "output_type": "stream",
     "text": [
      "/var/folders/97/27l9b459769fxdczmngx97xr0000gn/T/ipykernel_17968/3204102610.py:20: RuntimeWarning: converting \"nave\" to integer before saving evoked; this can have a minor effect on the scale of source estimates that are computed using \"nave\".\n",
      "  res.save(outputdir / (f'{filename}_Contrast{contrast_name}_ave.fif'), overwrite=True)\n"
     ]
    },
    {
     "name": "stdout",
     "output_type": "stream",
     "text": [
      "**** sub_ 09 : Reading epochs\n"
     ]
    },
    {
     "name": "stderr",
     "output_type": "stream",
     "text": [
      "/var/folders/97/27l9b459769fxdczmngx97xr0000gn/T/ipykernel_17968/3204102610.py:20: RuntimeWarning: converting \"nave\" to integer before saving evoked; this can have a minor effect on the scale of source estimates that are computed using \"nave\".\n",
      "  res.save(outputdir / (f'{filename}_Contrast{contrast_name}_ave.fif'), overwrite=True)\n"
     ]
    },
    {
     "name": "stdout",
     "output_type": "stream",
     "text": [
      "**** sub_ 13 : Reading epochs\n"
     ]
    },
    {
     "name": "stderr",
     "output_type": "stream",
     "text": [
      "/var/folders/97/27l9b459769fxdczmngx97xr0000gn/T/ipykernel_17968/3204102610.py:20: RuntimeWarning: converting \"nave\" to integer before saving evoked; this can have a minor effect on the scale of source estimates that are computed using \"nave\".\n",
      "  res.save(outputdir / (f'{filename}_Contrast{contrast_name}_ave.fif'), overwrite=True)\n"
     ]
    },
    {
     "name": "stdout",
     "output_type": "stream",
     "text": [
      "**** sub_ 14 : Reading epochs\n"
     ]
    },
    {
     "name": "stderr",
     "output_type": "stream",
     "text": [
      "/var/folders/97/27l9b459769fxdczmngx97xr0000gn/T/ipykernel_17968/3204102610.py:20: RuntimeWarning: converting \"nave\" to integer before saving evoked; this can have a minor effect on the scale of source estimates that are computed using \"nave\".\n",
      "  res.save(outputdir / (f'{filename}_Contrast{contrast_name}_ave.fif'), overwrite=True)\n"
     ]
    },
    {
     "name": "stdout",
     "output_type": "stream",
     "text": [
      "**** sub_ 15 : Reading epochs\n"
     ]
    },
    {
     "name": "stderr",
     "output_type": "stream",
     "text": [
      "/var/folders/97/27l9b459769fxdczmngx97xr0000gn/T/ipykernel_17968/3204102610.py:20: RuntimeWarning: converting \"nave\" to integer before saving evoked; this can have a minor effect on the scale of source estimates that are computed using \"nave\".\n",
      "  res.save(outputdir / (f'{filename}_Contrast{contrast_name}_ave.fif'), overwrite=True)\n"
     ]
    },
    {
     "name": "stdout",
     "output_type": "stream",
     "text": [
      "**** sub_ 16 : Reading epochs\n"
     ]
    },
    {
     "name": "stderr",
     "output_type": "stream",
     "text": [
      "/var/folders/97/27l9b459769fxdczmngx97xr0000gn/T/ipykernel_17968/3204102610.py:20: RuntimeWarning: converting \"nave\" to integer before saving evoked; this can have a minor effect on the scale of source estimates that are computed using \"nave\".\n",
      "  res.save(outputdir / (f'{filename}_Contrast{contrast_name}_ave.fif'), overwrite=True)\n"
     ]
    },
    {
     "name": "stdout",
     "output_type": "stream",
     "text": [
      "**** sub_ 18 : Reading epochs\n"
     ]
    },
    {
     "name": "stderr",
     "output_type": "stream",
     "text": [
      "/var/folders/97/27l9b459769fxdczmngx97xr0000gn/T/ipykernel_17968/3204102610.py:20: RuntimeWarning: converting \"nave\" to integer before saving evoked; this can have a minor effect on the scale of source estimates that are computed using \"nave\".\n",
      "  res.save(outputdir / (f'{filename}_Contrast{contrast_name}_ave.fif'), overwrite=True)\n"
     ]
    },
    {
     "name": "stdout",
     "output_type": "stream",
     "text": [
      "**** sub_ 19 : Reading epochs\n"
     ]
    },
    {
     "name": "stderr",
     "output_type": "stream",
     "text": [
      "/var/folders/97/27l9b459769fxdczmngx97xr0000gn/T/ipykernel_17968/3204102610.py:20: RuntimeWarning: converting \"nave\" to integer before saving evoked; this can have a minor effect on the scale of source estimates that are computed using \"nave\".\n",
      "  res.save(outputdir / (f'{filename}_Contrast{contrast_name}_ave.fif'), overwrite=True)\n"
     ]
    },
    {
     "name": "stdout",
     "output_type": "stream",
     "text": [
      "**** sub_ 20 : Reading epochs\n"
     ]
    },
    {
     "name": "stderr",
     "output_type": "stream",
     "text": [
      "/var/folders/97/27l9b459769fxdczmngx97xr0000gn/T/ipykernel_17968/3204102610.py:20: RuntimeWarning: converting \"nave\" to integer before saving evoked; this can have a minor effect on the scale of source estimates that are computed using \"nave\".\n",
      "  res.save(outputdir / (f'{filename}_Contrast{contrast_name}_ave.fif'), overwrite=True)\n"
     ]
    },
    {
     "name": "stdout",
     "output_type": "stream",
     "text": [
      "**** sub_ 21 : Reading epochs\n"
     ]
    },
    {
     "name": "stderr",
     "output_type": "stream",
     "text": [
      "/var/folders/97/27l9b459769fxdczmngx97xr0000gn/T/ipykernel_17968/3204102610.py:20: RuntimeWarning: converting \"nave\" to integer before saving evoked; this can have a minor effect on the scale of source estimates that are computed using \"nave\".\n",
      "  res.save(outputdir / (f'{filename}_Contrast{contrast_name}_ave.fif'), overwrite=True)\n"
     ]
    },
    {
     "name": "stdout",
     "output_type": "stream",
     "text": [
      "**** sub_ 22 : Reading epochs\n"
     ]
    },
    {
     "name": "stderr",
     "output_type": "stream",
     "text": [
      "/var/folders/97/27l9b459769fxdczmngx97xr0000gn/T/ipykernel_17968/3204102610.py:20: RuntimeWarning: converting \"nave\" to integer before saving evoked; this can have a minor effect on the scale of source estimates that are computed using \"nave\".\n",
      "  res.save(outputdir / (f'{filename}_Contrast{contrast_name}_ave.fif'), overwrite=True)\n"
     ]
    },
    {
     "name": "stdout",
     "output_type": "stream",
     "text": [
      "**** sub_ 23 : Reading epochs\n"
     ]
    },
    {
     "name": "stderr",
     "output_type": "stream",
     "text": [
      "/var/folders/97/27l9b459769fxdczmngx97xr0000gn/T/ipykernel_17968/3204102610.py:20: RuntimeWarning: converting \"nave\" to integer before saving evoked; this can have a minor effect on the scale of source estimates that are computed using \"nave\".\n",
      "  res.save(outputdir / (f'{filename}_Contrast{contrast_name}_ave.fif'), overwrite=True)\n"
     ]
    },
    {
     "name": "stdout",
     "output_type": "stream",
     "text": [
      "**** sub_ 24 : Reading epochs\n"
     ]
    },
    {
     "name": "stderr",
     "output_type": "stream",
     "text": [
      "/var/folders/97/27l9b459769fxdczmngx97xr0000gn/T/ipykernel_17968/3204102610.py:20: RuntimeWarning: converting \"nave\" to integer before saving evoked; this can have a minor effect on the scale of source estimates that are computed using \"nave\".\n",
      "  res.save(outputdir / (f'{filename}_Contrast{contrast_name}_ave.fif'), overwrite=True)\n"
     ]
    },
    {
     "name": "stdout",
     "output_type": "stream",
     "text": [
      "**** sub_ 25 : Reading epochs\n"
     ]
    },
    {
     "name": "stderr",
     "output_type": "stream",
     "text": [
      "/var/folders/97/27l9b459769fxdczmngx97xr0000gn/T/ipykernel_17968/3204102610.py:20: RuntimeWarning: converting \"nave\" to integer before saving evoked; this can have a minor effect on the scale of source estimates that are computed using \"nave\".\n",
      "  res.save(outputdir / (f'{filename}_Contrast{contrast_name}_ave.fif'), overwrite=True)\n"
     ]
    },
    {
     "name": "stdout",
     "output_type": "stream",
     "text": [
      "**** sub_ 26 : Reading epochs\n"
     ]
    },
    {
     "name": "stderr",
     "output_type": "stream",
     "text": [
      "/var/folders/97/27l9b459769fxdczmngx97xr0000gn/T/ipykernel_17968/3204102610.py:20: RuntimeWarning: converting \"nave\" to integer before saving evoked; this can have a minor effect on the scale of source estimates that are computed using \"nave\".\n",
      "  res.save(outputdir / (f'{filename}_Contrast{contrast_name}_ave.fif'), overwrite=True)\n"
     ]
    },
    {
     "name": "stdout",
     "output_type": "stream",
     "text": [
      "**** sub_ 27 : Reading epochs\n"
     ]
    },
    {
     "name": "stderr",
     "output_type": "stream",
     "text": [
      "/var/folders/97/27l9b459769fxdczmngx97xr0000gn/T/ipykernel_17968/3204102610.py:20: RuntimeWarning: converting \"nave\" to integer before saving evoked; this can have a minor effect on the scale of source estimates that are computed using \"nave\".\n",
      "  res.save(outputdir / (f'{filename}_Contrast{contrast_name}_ave.fif'), overwrite=True)\n"
     ]
    },
    {
     "name": "stdout",
     "output_type": "stream",
     "text": [
      "**** sub_ 28 : Reading epochs\n"
     ]
    },
    {
     "name": "stderr",
     "output_type": "stream",
     "text": [
      "/var/folders/97/27l9b459769fxdczmngx97xr0000gn/T/ipykernel_17968/3204102610.py:20: RuntimeWarning: converting \"nave\" to integer before saving evoked; this can have a minor effect on the scale of source estimates that are computed using \"nave\".\n",
      "  res.save(outputdir / (f'{filename}_Contrast{contrast_name}_ave.fif'), overwrite=True)\n"
     ]
    },
    {
     "name": "stdout",
     "output_type": "stream",
     "text": [
      "**** sub_ 29 : Reading epochs\n"
     ]
    },
    {
     "name": "stderr",
     "output_type": "stream",
     "text": [
      "/var/folders/97/27l9b459769fxdczmngx97xr0000gn/T/ipykernel_17968/3204102610.py:20: RuntimeWarning: converting \"nave\" to integer before saving evoked; this can have a minor effect on the scale of source estimates that are computed using \"nave\".\n",
      "  res.save(outputdir / (f'{filename}_Contrast{contrast_name}_ave.fif'), overwrite=True)\n"
     ]
    },
    {
     "name": "stdout",
     "output_type": "stream",
     "text": [
      "**** sub_ 30 : Reading epochs\n"
     ]
    },
    {
     "name": "stderr",
     "output_type": "stream",
     "text": [
      "/var/folders/97/27l9b459769fxdczmngx97xr0000gn/T/ipykernel_17968/3204102610.py:20: RuntimeWarning: converting \"nave\" to integer before saving evoked; this can have a minor effect on the scale of source estimates that are computed using \"nave\".\n",
      "  res.save(outputdir / (f'{filename}_Contrast{contrast_name}_ave.fif'), overwrite=True)\n"
     ]
    },
    {
     "name": "stdout",
     "output_type": "stream",
     "text": [
      "**** sub_ 32 : Reading epochs\n"
     ]
    },
    {
     "name": "stderr",
     "output_type": "stream",
     "text": [
      "/var/folders/97/27l9b459769fxdczmngx97xr0000gn/T/ipykernel_17968/3204102610.py:20: RuntimeWarning: converting \"nave\" to integer before saving evoked; this can have a minor effect on the scale of source estimates that are computed using \"nave\".\n",
      "  res.save(outputdir / (f'{filename}_Contrast{contrast_name}_ave.fif'), overwrite=True)\n"
     ]
    }
   ],
   "source": [
    "\n",
    "def compute_contrast(subject) :\n",
    "    # bids_path = '/neurospin/unicog/protocols/MEG/SparseComm_LucasBenjamin_2021/BIDS_MEG/bids_data_all/'\n",
    "    meg_subject_dir = Path(f'lb_analysis_sparse/import_metadata/sub-{subject}/meg/')\n",
    "    outputdir = Path(f'lb_analysis_sparse/ERP_EarlyContrast/sub-{subject}/meg/')\n",
    "    base_filename = f'sub-{subject}_task-sparse_metadata'\n",
    "\n",
    "    # Import epochs\n",
    "    extension = '_proc-clean_epo'\n",
    "    filename = base_filename + extension\n",
    "    fname_in = meg_subject_dir / (filename + '.fif')\n",
    "    print('**** sub_', subject, ': Reading epochs')\n",
    "    epochs = mne.read_epochs(fname_in, preload=True)\n",
    "\n",
    "    # Compute Contrast\n",
    "    contrast = [0, 1, 0, -1]\n",
    "    all_dat = [epochs[f'Cond=={i}'].average() for i in range(1, 5)]\n",
    "    res = mne.combine_evoked(all_dat, weights=contrast)\n",
    "    Path(outputdir).mkdir(parents=True, exist_ok=True)\n",
    "    contrast_name = '__' + '_'.join(str(e) for e in contrast)\n",
    "    res.save(outputdir / (f'{filename}_Contrast{contrast_name}_ave.fif'), overwrite=True)\n",
    "    return res\n",
    "\n",
    "subjects_list = [\n",
    "    '04','06','07','08','09','13','14','15','16','18','19',\n",
    "    '20','21','22','23','24','25','26','27','28','29','30','32'] # List of subject to open\n",
    "\n",
    "evokeds_contrast = pqdm(subjects_list, compute_contrast, n_jobs=N_JOBS)"
   ]
  },
  {
   "cell_type": "code",
   "execution_count": 8,
   "metadata": {},
   "outputs": [],
   "source": [
    "grand_average = mne.grand_average(evokeds_contrast)\n",
    "grand_average.plot_joint();"
   ]
  },
  {
   "cell_type": "code",
   "execution_count": null,
   "metadata": {},
   "outputs": [],
   "source": [
    "# threshold = None\n",
    "# cluster_stats, data_array_ch_type, ch_type, times = stat_func.run_cluster_permutation_test_1samp(\n",
    "#     evokeds_contrast, tmin=0, tmax=0.25, ch_type='mag', nperm=2 ** 12,\n",
    "#     threshold=threshold, n_jobs=N_JOBS, tail=0\n",
    "# )\n"
   ]
  },
  {
   "cell_type": "code",
   "execution_count": 17,
   "metadata": {},
   "outputs": [
    {
     "data": {
      "text/plain": [
       "((23, 32, 102), (102, 102), (32,))"
      ]
     },
     "execution_count": 17,
     "metadata": {},
     "output_type": "execute_result"
    }
   ],
   "source": [
    "# compute adjacency\n",
    "ch_type = 'mag'\n",
    "adjacency, ch_names = mne.channels.find_ch_adjacency(evokeds_contrast[0].info, ch_type)\n",
    "tmin, tmax = 0, None\n",
    "\n",
    "# subset of the data, as array\n",
    "data = np.array(\n",
    "    [\n",
    "        np.transpose(\n",
    "            evoked.copy().pick(ch_type).crop(tmin, None).data\n",
    "        )\n",
    "        for evoked in evokeds_contrast\n",
    "    ]\n",
    ")\n",
    "times = evokeds_contrast[0].copy().crop(tmin, tmax).times\n",
    "info = evokeds_contrast[0].copy().pick(ch_type).info\n",
    "data.shape, adjacency.shape, times.shape"
   ]
  },
  {
   "cell_type": "code",
   "execution_count": 14,
   "metadata": {},
   "outputs": [
    {
     "name": "stdout",
     "output_type": "stream",
     "text": [
      "Using a threshold of 2.073873\n",
      "stat_fun(H1): min=-3.585704 max=4.689721\n",
      "Running initial clustering\n",
      "Found 27 clusters\n",
      "Permuting 4095 times...\n"
     ]
    },
    {
     "name": "stderr",
     "output_type": "stream",
     "text": [
      "100%|██████████|  : 4095/4095 [00:24<00:00,  166.45it/s]"
     ]
    },
    {
     "name": "stdout",
     "output_type": "stream",
     "text": [
      "Computing cluster p-values\n",
      "Done.\n"
     ]
    },
    {
     "name": "stderr",
     "output_type": "stream",
     "text": [
      "\n"
     ]
    }
   ],
   "source": [
    "from mne.stats import permutation_cluster_1samp_test, spatio_temporal_cluster_1samp_test\n",
    "\n",
    "n_permutations = 2**12\n",
    "tail = 0\n",
    "threshold = None\n",
    "\n",
    "# stat func\n",
    "# cluster_stats = permutation_cluster_1samp_test(data_array_chtype, threshold=threshold, n_jobs=n_jobs, verbose=True,\n",
    "#                                                   tail=tail, n_permutations=2**12, adjacency=adjacency,\n",
    "#                                                   out_type='indices')\n",
    "\n",
    "cluster_stats = spatio_temporal_cluster_1samp_test(\n",
    "    data,\n",
    "    threshold=threshold,\n",
    "    n_jobs=N_JOBS,\n",
    "    tail=tail,\n",
    "    n_permutations=n_permutations,\n",
    "    adjacency=adjacency,\n",
    "    verbose=True,\n",
    ")\n",
    "\n",
    "T_obs, clusters, p_values, _ = cluster_stats"
   ]
  },
  {
   "cell_type": "code",
   "execution_count": 22,
   "metadata": {},
   "outputs": [
    {
     "data": {
      "text/plain": [
       "array([5])"
      ]
     },
     "execution_count": 22,
     "metadata": {},
     "output_type": "execute_result"
    }
   ],
   "source": [
    "p_threshold = 0.2\n",
    "good_cluster_inds = np.where(p_values < p_threshold)[0]\n",
    "good_cluster_inds"
   ]
  },
  {
   "cell_type": "code",
   "execution_count": 16,
   "metadata": {},
   "outputs": [],
   "source": [
    "plt.plot(times, T_obs);"
   ]
  },
  {
   "cell_type": "code",
   "execution_count": 18,
   "metadata": {},
   "outputs": [
    {
     "name": "stdout",
     "output_type": "stream",
     "text": [
      "We found 102 positions for ch_type mag\n"
     ]
    }
   ],
   "source": [
    "\n",
    "cluster_info = stat_func.extract_info_cluster(\n",
    "    cluster_stats, p_threshold, times,\n",
    "    info, data, ch_type)"
   ]
  },
  {
   "cell_type": "code",
   "execution_count": 19,
   "metadata": {},
   "outputs": [
    {
     "name": "stdout",
     "output_type": "stream",
     "text": [
      "Saving _clust_1.svg\n"
     ]
    },
    {
     "data": {
      "text/plain": [
       "True"
      ]
     },
     "execution_count": 19,
     "metadata": {},
     "output_type": "execute_result"
    }
   ],
   "source": [
    "\n",
    "stat_func.plot_clusters(\n",
    "    cluster_info, ch_type, T_obs_max=3., fname='', figname_initial='',\n",
    "    filter_smooth=False, outfile=None)"
   ]
  },
  {
   "cell_type": "code",
   "execution_count": null,
   "metadata": {},
   "outputs": [],
   "source": []
  }
 ],
 "metadata": {
  "interpreter": {
   "hash": "8d1899d3d453529ab54a548c453eb03872168ef6a9900e12952b62a455030e12"
  },
  "kernelspec": {
   "display_name": "Python 3.8.6 ('base')",
   "language": "python",
   "name": "python3"
  },
  "language_info": {
   "codemirror_mode": {
    "name": "ipython",
    "version": 3
   },
   "file_extension": ".py",
   "mimetype": "text/x-python",
   "name": "python",
   "nbconvert_exporter": "python",
   "pygments_lexer": "ipython3",
   "version": "3.8.6"
  },
  "orig_nbformat": 4
 },
 "nbformat": 4,
 "nbformat_minor": 2
}
